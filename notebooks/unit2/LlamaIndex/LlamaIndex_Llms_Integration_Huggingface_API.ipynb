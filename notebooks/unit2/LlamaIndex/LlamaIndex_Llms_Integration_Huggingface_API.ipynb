{
  "nbformat": 4,
  "nbformat_minor": 0,
  "metadata": {
    "colab": {
      "provenance": [],
      "authorship_tag": "ABX9TyM3XBLu1ezTO8WZXJZYA8G+",
      "include_colab_link": true
    },
    "kernelspec": {
      "name": "python3",
      "display_name": "Python 3"
    },
    "language_info": {
      "name": "python"
    }
  },
  "cells": [
    {
      "cell_type": "markdown",
      "metadata": {
        "id": "view-in-github",
        "colab_type": "text"
      },
      "source": [
        "<a href=\"https://colab.research.google.com/github/baloglu321/LLM-s/blob/main/notebooks/unit2/LlamaIndex/LlamaIndex_Llms_Integration_Huggingface_API.ipynb\" target=\"_parent\"><img src=\"https://colab.research.google.com/assets/colab-badge.svg\" alt=\"Open In Colab\"/></a>"
      ]
    },
    {
      "cell_type": "code",
      "execution_count": 1,
      "metadata": {
        "colab": {
          "base_uri": "https://localhost:8080/"
        },
        "id": "-Q4qdDGRIV6B",
        "outputId": "bbe65ba2-abc2-4d76-8bda-f66842159343"
      },
      "outputs": [
        {
          "output_type": "stream",
          "name": "stdout",
          "text": [
            "Requirement already satisfied: llama-index-llms-huggingface-api in /usr/local/lib/python3.11/dist-packages (0.4.1)\n",
            "Requirement already satisfied: huggingface-hub>=0.23.0 in /usr/local/lib/python3.11/dist-packages (from llama-index-llms-huggingface-api) (0.30.1)\n",
            "Requirement already satisfied: llama-index-core<0.13.0,>=0.12.0 in /usr/local/lib/python3.11/dist-packages (from llama-index-llms-huggingface-api) (0.12.28)\n",
            "Requirement already satisfied: filelock in /usr/local/lib/python3.11/dist-packages (from huggingface-hub>=0.23.0->llama-index-llms-huggingface-api) (3.18.0)\n",
            "Requirement already satisfied: fsspec>=2023.5.0 in /usr/local/lib/python3.11/dist-packages (from huggingface-hub>=0.23.0->llama-index-llms-huggingface-api) (2024.12.0)\n",
            "Requirement already satisfied: packaging>=20.9 in /usr/local/lib/python3.11/dist-packages (from huggingface-hub>=0.23.0->llama-index-llms-huggingface-api) (24.2)\n",
            "Requirement already satisfied: pyyaml>=5.1 in /usr/local/lib/python3.11/dist-packages (from huggingface-hub>=0.23.0->llama-index-llms-huggingface-api) (6.0.2)\n",
            "Requirement already satisfied: requests in /usr/local/lib/python3.11/dist-packages (from huggingface-hub>=0.23.0->llama-index-llms-huggingface-api) (2.32.3)\n",
            "Requirement already satisfied: tqdm>=4.42.1 in /usr/local/lib/python3.11/dist-packages (from huggingface-hub>=0.23.0->llama-index-llms-huggingface-api) (4.67.1)\n",
            "Requirement already satisfied: typing-extensions>=3.7.4.3 in /usr/local/lib/python3.11/dist-packages (from huggingface-hub>=0.23.0->llama-index-llms-huggingface-api) (4.13.0)\n",
            "Requirement already satisfied: SQLAlchemy>=1.4.49 in /usr/local/lib/python3.11/dist-packages (from SQLAlchemy[asyncio]>=1.4.49->llama-index-core<0.13.0,>=0.12.0->llama-index-llms-huggingface-api) (2.0.40)\n",
            "Requirement already satisfied: aiohttp<4.0.0,>=3.8.6 in /usr/local/lib/python3.11/dist-packages (from llama-index-core<0.13.0,>=0.12.0->llama-index-llms-huggingface-api) (3.11.15)\n",
            "Requirement already satisfied: banks<3.0.0,>=2.0.0 in /usr/local/lib/python3.11/dist-packages (from llama-index-core<0.13.0,>=0.12.0->llama-index-llms-huggingface-api) (2.1.1)\n",
            "Requirement already satisfied: dataclasses-json in /usr/local/lib/python3.11/dist-packages (from llama-index-core<0.13.0,>=0.12.0->llama-index-llms-huggingface-api) (0.6.7)\n",
            "Requirement already satisfied: deprecated>=1.2.9.3 in /usr/local/lib/python3.11/dist-packages (from llama-index-core<0.13.0,>=0.12.0->llama-index-llms-huggingface-api) (1.2.18)\n",
            "Requirement already satisfied: dirtyjson<2.0.0,>=1.0.8 in /usr/local/lib/python3.11/dist-packages (from llama-index-core<0.13.0,>=0.12.0->llama-index-llms-huggingface-api) (1.0.8)\n",
            "Requirement already satisfied: filetype<2.0.0,>=1.2.0 in /usr/local/lib/python3.11/dist-packages (from llama-index-core<0.13.0,>=0.12.0->llama-index-llms-huggingface-api) (1.2.0)\n",
            "Requirement already satisfied: httpx in /usr/local/lib/python3.11/dist-packages (from llama-index-core<0.13.0,>=0.12.0->llama-index-llms-huggingface-api) (0.28.1)\n",
            "Requirement already satisfied: nest-asyncio<2.0.0,>=1.5.8 in /usr/local/lib/python3.11/dist-packages (from llama-index-core<0.13.0,>=0.12.0->llama-index-llms-huggingface-api) (1.6.0)\n",
            "Requirement already satisfied: networkx>=3.0 in /usr/local/lib/python3.11/dist-packages (from llama-index-core<0.13.0,>=0.12.0->llama-index-llms-huggingface-api) (3.4.2)\n",
            "Requirement already satisfied: nltk>3.8.1 in /usr/local/lib/python3.11/dist-packages (from llama-index-core<0.13.0,>=0.12.0->llama-index-llms-huggingface-api) (3.9.1)\n",
            "Requirement already satisfied: numpy in /usr/local/lib/python3.11/dist-packages (from llama-index-core<0.13.0,>=0.12.0->llama-index-llms-huggingface-api) (1.26.4)\n",
            "Requirement already satisfied: pillow>=9.0.0 in /usr/local/lib/python3.11/dist-packages (from llama-index-core<0.13.0,>=0.12.0->llama-index-llms-huggingface-api) (11.1.0)\n",
            "Requirement already satisfied: pydantic>=2.8.0 in /usr/local/lib/python3.11/dist-packages (from llama-index-core<0.13.0,>=0.12.0->llama-index-llms-huggingface-api) (2.11.1)\n",
            "Requirement already satisfied: tenacity!=8.4.0,<10.0.0,>=8.2.0 in /usr/local/lib/python3.11/dist-packages (from llama-index-core<0.13.0,>=0.12.0->llama-index-llms-huggingface-api) (8.5.0)\n",
            "Requirement already satisfied: tiktoken>=0.3.3 in /usr/local/lib/python3.11/dist-packages (from llama-index-core<0.13.0,>=0.12.0->llama-index-llms-huggingface-api) (0.9.0)\n",
            "Requirement already satisfied: typing-inspect>=0.8.0 in /usr/local/lib/python3.11/dist-packages (from llama-index-core<0.13.0,>=0.12.0->llama-index-llms-huggingface-api) (0.9.0)\n",
            "Requirement already satisfied: wrapt in /usr/local/lib/python3.11/dist-packages (from llama-index-core<0.13.0,>=0.12.0->llama-index-llms-huggingface-api) (1.17.2)\n",
            "Requirement already satisfied: aiohappyeyeballs>=2.3.0 in /usr/local/lib/python3.11/dist-packages (from aiohttp<4.0.0,>=3.8.6->llama-index-core<0.13.0,>=0.12.0->llama-index-llms-huggingface-api) (2.6.1)\n",
            "Requirement already satisfied: aiosignal>=1.1.2 in /usr/local/lib/python3.11/dist-packages (from aiohttp<4.0.0,>=3.8.6->llama-index-core<0.13.0,>=0.12.0->llama-index-llms-huggingface-api) (1.3.2)\n",
            "Requirement already satisfied: attrs>=17.3.0 in /usr/local/lib/python3.11/dist-packages (from aiohttp<4.0.0,>=3.8.6->llama-index-core<0.13.0,>=0.12.0->llama-index-llms-huggingface-api) (25.3.0)\n",
            "Requirement already satisfied: frozenlist>=1.1.1 in /usr/local/lib/python3.11/dist-packages (from aiohttp<4.0.0,>=3.8.6->llama-index-core<0.13.0,>=0.12.0->llama-index-llms-huggingface-api) (1.5.0)\n",
            "Requirement already satisfied: multidict<7.0,>=4.5 in /usr/local/lib/python3.11/dist-packages (from aiohttp<4.0.0,>=3.8.6->llama-index-core<0.13.0,>=0.12.0->llama-index-llms-huggingface-api) (6.3.0)\n",
            "Requirement already satisfied: propcache>=0.2.0 in /usr/local/lib/python3.11/dist-packages (from aiohttp<4.0.0,>=3.8.6->llama-index-core<0.13.0,>=0.12.0->llama-index-llms-huggingface-api) (0.3.1)\n",
            "Requirement already satisfied: yarl<2.0,>=1.17.0 in /usr/local/lib/python3.11/dist-packages (from aiohttp<4.0.0,>=3.8.6->llama-index-core<0.13.0,>=0.12.0->llama-index-llms-huggingface-api) (1.18.3)\n",
            "Requirement already satisfied: griffe in /usr/local/lib/python3.11/dist-packages (from banks<3.0.0,>=2.0.0->llama-index-core<0.13.0,>=0.12.0->llama-index-llms-huggingface-api) (1.7.2)\n",
            "Requirement already satisfied: jinja2 in /usr/local/lib/python3.11/dist-packages (from banks<3.0.0,>=2.0.0->llama-index-core<0.13.0,>=0.12.0->llama-index-llms-huggingface-api) (3.1.6)\n",
            "Requirement already satisfied: platformdirs in /usr/local/lib/python3.11/dist-packages (from banks<3.0.0,>=2.0.0->llama-index-core<0.13.0,>=0.12.0->llama-index-llms-huggingface-api) (4.3.7)\n",
            "Requirement already satisfied: click in /usr/local/lib/python3.11/dist-packages (from nltk>3.8.1->llama-index-core<0.13.0,>=0.12.0->llama-index-llms-huggingface-api) (8.1.8)\n",
            "Requirement already satisfied: joblib in /usr/local/lib/python3.11/dist-packages (from nltk>3.8.1->llama-index-core<0.13.0,>=0.12.0->llama-index-llms-huggingface-api) (1.4.2)\n",
            "Requirement already satisfied: regex>=2021.8.3 in /usr/local/lib/python3.11/dist-packages (from nltk>3.8.1->llama-index-core<0.13.0,>=0.12.0->llama-index-llms-huggingface-api) (2024.11.6)\n",
            "Requirement already satisfied: annotated-types>=0.6.0 in /usr/local/lib/python3.11/dist-packages (from pydantic>=2.8.0->llama-index-core<0.13.0,>=0.12.0->llama-index-llms-huggingface-api) (0.7.0)\n",
            "Requirement already satisfied: pydantic-core==2.33.0 in /usr/local/lib/python3.11/dist-packages (from pydantic>=2.8.0->llama-index-core<0.13.0,>=0.12.0->llama-index-llms-huggingface-api) (2.33.0)\n",
            "Requirement already satisfied: typing-inspection>=0.4.0 in /usr/local/lib/python3.11/dist-packages (from pydantic>=2.8.0->llama-index-core<0.13.0,>=0.12.0->llama-index-llms-huggingface-api) (0.4.0)\n",
            "Requirement already satisfied: charset-normalizer<4,>=2 in /usr/local/lib/python3.11/dist-packages (from requests->huggingface-hub>=0.23.0->llama-index-llms-huggingface-api) (3.4.1)\n",
            "Requirement already satisfied: idna<4,>=2.5 in /usr/local/lib/python3.11/dist-packages (from requests->huggingface-hub>=0.23.0->llama-index-llms-huggingface-api) (3.10)\n",
            "Requirement already satisfied: urllib3<3,>=1.21.1 in /usr/local/lib/python3.11/dist-packages (from requests->huggingface-hub>=0.23.0->llama-index-llms-huggingface-api) (2.3.0)\n",
            "Requirement already satisfied: certifi>=2017.4.17 in /usr/local/lib/python3.11/dist-packages (from requests->huggingface-hub>=0.23.0->llama-index-llms-huggingface-api) (2025.1.31)\n",
            "Requirement already satisfied: greenlet>=1 in /usr/local/lib/python3.11/dist-packages (from SQLAlchemy>=1.4.49->SQLAlchemy[asyncio]>=1.4.49->llama-index-core<0.13.0,>=0.12.0->llama-index-llms-huggingface-api) (3.1.1)\n",
            "Requirement already satisfied: mypy-extensions>=0.3.0 in /usr/local/lib/python3.11/dist-packages (from typing-inspect>=0.8.0->llama-index-core<0.13.0,>=0.12.0->llama-index-llms-huggingface-api) (1.0.0)\n",
            "Requirement already satisfied: marshmallow<4.0.0,>=3.18.0 in /usr/local/lib/python3.11/dist-packages (from dataclasses-json->llama-index-core<0.13.0,>=0.12.0->llama-index-llms-huggingface-api) (3.26.1)\n",
            "Requirement already satisfied: anyio in /usr/local/lib/python3.11/dist-packages (from httpx->llama-index-core<0.13.0,>=0.12.0->llama-index-llms-huggingface-api) (4.9.0)\n",
            "Requirement already satisfied: httpcore==1.* in /usr/local/lib/python3.11/dist-packages (from httpx->llama-index-core<0.13.0,>=0.12.0->llama-index-llms-huggingface-api) (1.0.7)\n",
            "Requirement already satisfied: h11<0.15,>=0.13 in /usr/local/lib/python3.11/dist-packages (from httpcore==1.*->httpx->llama-index-core<0.13.0,>=0.12.0->llama-index-llms-huggingface-api) (0.14.0)\n",
            "Requirement already satisfied: sniffio>=1.1 in /usr/local/lib/python3.11/dist-packages (from anyio->httpx->llama-index-core<0.13.0,>=0.12.0->llama-index-llms-huggingface-api) (1.3.1)\n",
            "Requirement already satisfied: colorama>=0.4 in /usr/local/lib/python3.11/dist-packages (from griffe->banks<3.0.0,>=2.0.0->llama-index-core<0.13.0,>=0.12.0->llama-index-llms-huggingface-api) (0.4.6)\n",
            "Requirement already satisfied: MarkupSafe>=2.0 in /usr/local/lib/python3.11/dist-packages (from jinja2->banks<3.0.0,>=2.0.0->llama-index-core<0.13.0,>=0.12.0->llama-index-llms-huggingface-api) (3.0.2)\n"
          ]
        }
      ],
      "source": [
        "!pip install llama-index-llms-huggingface-api"
      ]
    },
    {
      "cell_type": "code",
      "source": [
        "from llama_index.llms.huggingface_api import HuggingFaceInferenceAPI\n",
        "\n",
        "llm = HuggingFaceInferenceAPI(\n",
        "    model_name=\"openai-community/gpt2\",\n",
        "    temperature=0.7,\n",
        "    max_tokens=100,\n",
        "    token=\"***\",  # Optional\n",
        ")\n",
        "\n",
        "response = llm.complete(\"Hello, how are you?\")"
      ],
      "metadata": {
        "id": "bTFtVS88IbNM"
      },
      "execution_count": 3,
      "outputs": []
    },
    {
      "cell_type": "code",
      "source": [
        "print(response)"
      ],
      "metadata": {
        "colab": {
          "base_uri": "https://localhost:8080/"
        },
        "id": "pAXfGTFeIvKt",
        "outputId": "dd2426a8-f62a-4b91-b02e-090eb88d0f5c"
      },
      "execution_count": 4,
      "outputs": [
        {
          "output_type": "stream",
          "name": "stdout",
          "text": [
            " I'm going to be upset if you can't see the two of you.\n",
            "\n",
            "\"You're missing two of my friends.\"\n",
            "\n",
            "\"Then what do you want?\"\n",
            "\n",
            "\"Take off your glasses. I'm going to be upset if you can't see your friends.\"\n",
            "\n",
            "\"Then what do you want?\"\n",
            "\n",
            "\"Haha, I'm going to be upset if you roast that face.\"\n",
            "\n",
            "\"Then what do you want?\"\n",
            "\n",
            "\"Well, I'm going to be upset if you roast that face.\"\n",
            "\n",
            "\"You're still here?\"\n",
            "\n",
            "\"You're still here. I'll be mad if you don't see me.\"\n",
            "\n",
            "\"I'm going to be upset if you don biology!\"\n",
            "\n",
            "\"You're still here.\"\n",
            "\n",
            "\"Anyway, how do you know you're going to be upset by this?\"\n",
            "\n",
            "\"It doesn't look like we're going to make it through this. Is there a way to save our friends, or do you thinkü?\"\n",
            "\n",
            "\"Well, I think we're going to save our friends.\"\n",
            "\n",
            "\"I think we're going to save our friends.\"\n",
            "\n",
            "\"We're going to make it through this. Do you want to come back\n"
          ]
        }
      ]
    },
    {
      "cell_type": "code",
      "source": [
        "!pip install llama-index-{component-type}-{framework-name}\n",
        "!pip install llama-index-llms-huggingface-api llama-index-embeddings-huggingface"
      ],
      "metadata": {
        "colab": {
          "base_uri": "https://localhost:8080/"
        },
        "id": "ztT4Y2ZNKFDo",
        "outputId": "13abf727-071c-48c1-edb7-b681c1f19f53"
      },
      "execution_count": 5,
      "outputs": [
        {
          "output_type": "stream",
          "name": "stdout",
          "text": [
            "\u001b[31mERROR: Invalid requirement: 'llama-index-{component-type}-{framework-name}': Expected end or semicolon (after name and no valid version specifier)\n",
            "    llama-index-{component-type}-{framework-name}\n",
            "               ^\u001b[0m\u001b[31m\n",
            "\u001b[0mRequirement already satisfied: llama-index-llms-huggingface-api in /usr/local/lib/python3.11/dist-packages (0.4.1)\n",
            "Requirement already satisfied: llama-index-embeddings-huggingface in /usr/local/lib/python3.11/dist-packages (0.5.2)\n",
            "Requirement already satisfied: huggingface-hub>=0.23.0 in /usr/local/lib/python3.11/dist-packages (from llama-index-llms-huggingface-api) (0.30.1)\n",
            "Requirement already satisfied: llama-index-core<0.13.0,>=0.12.0 in /usr/local/lib/python3.11/dist-packages (from llama-index-llms-huggingface-api) (0.12.28)\n",
            "Requirement already satisfied: sentence-transformers>=2.6.1 in /usr/local/lib/python3.11/dist-packages (from llama-index-embeddings-huggingface) (3.4.1)\n",
            "Requirement already satisfied: filelock in /usr/local/lib/python3.11/dist-packages (from huggingface-hub>=0.23.0->llama-index-llms-huggingface-api) (3.18.0)\n",
            "Requirement already satisfied: fsspec>=2023.5.0 in /usr/local/lib/python3.11/dist-packages (from huggingface-hub>=0.23.0->llama-index-llms-huggingface-api) (2024.12.0)\n",
            "Requirement already satisfied: packaging>=20.9 in /usr/local/lib/python3.11/dist-packages (from huggingface-hub>=0.23.0->llama-index-llms-huggingface-api) (24.2)\n",
            "Requirement already satisfied: pyyaml>=5.1 in /usr/local/lib/python3.11/dist-packages (from huggingface-hub>=0.23.0->llama-index-llms-huggingface-api) (6.0.2)\n",
            "Requirement already satisfied: requests in /usr/local/lib/python3.11/dist-packages (from huggingface-hub>=0.23.0->llama-index-llms-huggingface-api) (2.32.3)\n",
            "Requirement already satisfied: tqdm>=4.42.1 in /usr/local/lib/python3.11/dist-packages (from huggingface-hub>=0.23.0->llama-index-llms-huggingface-api) (4.67.1)\n",
            "Requirement already satisfied: typing-extensions>=3.7.4.3 in /usr/local/lib/python3.11/dist-packages (from huggingface-hub>=0.23.0->llama-index-llms-huggingface-api) (4.13.0)\n",
            "Requirement already satisfied: aiohttp in /usr/local/lib/python3.11/dist-packages (from huggingface-hub[inference]>=0.19.0->llama-index-embeddings-huggingface) (3.11.15)\n",
            "Requirement already satisfied: SQLAlchemy>=1.4.49 in /usr/local/lib/python3.11/dist-packages (from SQLAlchemy[asyncio]>=1.4.49->llama-index-core<0.13.0,>=0.12.0->llama-index-llms-huggingface-api) (2.0.40)\n",
            "Requirement already satisfied: banks<3.0.0,>=2.0.0 in /usr/local/lib/python3.11/dist-packages (from llama-index-core<0.13.0,>=0.12.0->llama-index-llms-huggingface-api) (2.1.1)\n",
            "Requirement already satisfied: dataclasses-json in /usr/local/lib/python3.11/dist-packages (from llama-index-core<0.13.0,>=0.12.0->llama-index-llms-huggingface-api) (0.6.7)\n",
            "Requirement already satisfied: deprecated>=1.2.9.3 in /usr/local/lib/python3.11/dist-packages (from llama-index-core<0.13.0,>=0.12.0->llama-index-llms-huggingface-api) (1.2.18)\n",
            "Requirement already satisfied: dirtyjson<2.0.0,>=1.0.8 in /usr/local/lib/python3.11/dist-packages (from llama-index-core<0.13.0,>=0.12.0->llama-index-llms-huggingface-api) (1.0.8)\n",
            "Requirement already satisfied: filetype<2.0.0,>=1.2.0 in /usr/local/lib/python3.11/dist-packages (from llama-index-core<0.13.0,>=0.12.0->llama-index-llms-huggingface-api) (1.2.0)\n",
            "Requirement already satisfied: httpx in /usr/local/lib/python3.11/dist-packages (from llama-index-core<0.13.0,>=0.12.0->llama-index-llms-huggingface-api) (0.28.1)\n",
            "Requirement already satisfied: nest-asyncio<2.0.0,>=1.5.8 in /usr/local/lib/python3.11/dist-packages (from llama-index-core<0.13.0,>=0.12.0->llama-index-llms-huggingface-api) (1.6.0)\n",
            "Requirement already satisfied: networkx>=3.0 in /usr/local/lib/python3.11/dist-packages (from llama-index-core<0.13.0,>=0.12.0->llama-index-llms-huggingface-api) (3.4.2)\n",
            "Requirement already satisfied: nltk>3.8.1 in /usr/local/lib/python3.11/dist-packages (from llama-index-core<0.13.0,>=0.12.0->llama-index-llms-huggingface-api) (3.9.1)\n",
            "Requirement already satisfied: numpy in /usr/local/lib/python3.11/dist-packages (from llama-index-core<0.13.0,>=0.12.0->llama-index-llms-huggingface-api) (1.26.4)\n",
            "Requirement already satisfied: pillow>=9.0.0 in /usr/local/lib/python3.11/dist-packages (from llama-index-core<0.13.0,>=0.12.0->llama-index-llms-huggingface-api) (11.1.0)\n",
            "Requirement already satisfied: pydantic>=2.8.0 in /usr/local/lib/python3.11/dist-packages (from llama-index-core<0.13.0,>=0.12.0->llama-index-llms-huggingface-api) (2.11.1)\n",
            "Requirement already satisfied: tenacity!=8.4.0,<10.0.0,>=8.2.0 in /usr/local/lib/python3.11/dist-packages (from llama-index-core<0.13.0,>=0.12.0->llama-index-llms-huggingface-api) (8.5.0)\n",
            "Requirement already satisfied: tiktoken>=0.3.3 in /usr/local/lib/python3.11/dist-packages (from llama-index-core<0.13.0,>=0.12.0->llama-index-llms-huggingface-api) (0.9.0)\n",
            "Requirement already satisfied: typing-inspect>=0.8.0 in /usr/local/lib/python3.11/dist-packages (from llama-index-core<0.13.0,>=0.12.0->llama-index-llms-huggingface-api) (0.9.0)\n",
            "Requirement already satisfied: wrapt in /usr/local/lib/python3.11/dist-packages (from llama-index-core<0.13.0,>=0.12.0->llama-index-llms-huggingface-api) (1.17.2)\n",
            "Requirement already satisfied: transformers<5.0.0,>=4.41.0 in /usr/local/lib/python3.11/dist-packages (from sentence-transformers>=2.6.1->llama-index-embeddings-huggingface) (4.50.3)\n",
            "Requirement already satisfied: torch>=1.11.0 in /usr/local/lib/python3.11/dist-packages (from sentence-transformers>=2.6.1->llama-index-embeddings-huggingface) (2.6.0+cu124)\n",
            "Requirement already satisfied: scikit-learn in /usr/local/lib/python3.11/dist-packages (from sentence-transformers>=2.6.1->llama-index-embeddings-huggingface) (1.6.1)\n",
            "Requirement already satisfied: scipy in /usr/local/lib/python3.11/dist-packages (from sentence-transformers>=2.6.1->llama-index-embeddings-huggingface) (1.14.1)\n",
            "Requirement already satisfied: aiohappyeyeballs>=2.3.0 in /usr/local/lib/python3.11/dist-packages (from aiohttp->huggingface-hub[inference]>=0.19.0->llama-index-embeddings-huggingface) (2.6.1)\n",
            "Requirement already satisfied: aiosignal>=1.1.2 in /usr/local/lib/python3.11/dist-packages (from aiohttp->huggingface-hub[inference]>=0.19.0->llama-index-embeddings-huggingface) (1.3.2)\n",
            "Requirement already satisfied: attrs>=17.3.0 in /usr/local/lib/python3.11/dist-packages (from aiohttp->huggingface-hub[inference]>=0.19.0->llama-index-embeddings-huggingface) (25.3.0)\n",
            "Requirement already satisfied: frozenlist>=1.1.1 in /usr/local/lib/python3.11/dist-packages (from aiohttp->huggingface-hub[inference]>=0.19.0->llama-index-embeddings-huggingface) (1.5.0)\n",
            "Requirement already satisfied: multidict<7.0,>=4.5 in /usr/local/lib/python3.11/dist-packages (from aiohttp->huggingface-hub[inference]>=0.19.0->llama-index-embeddings-huggingface) (6.3.0)\n",
            "Requirement already satisfied: propcache>=0.2.0 in /usr/local/lib/python3.11/dist-packages (from aiohttp->huggingface-hub[inference]>=0.19.0->llama-index-embeddings-huggingface) (0.3.1)\n",
            "Requirement already satisfied: yarl<2.0,>=1.17.0 in /usr/local/lib/python3.11/dist-packages (from aiohttp->huggingface-hub[inference]>=0.19.0->llama-index-embeddings-huggingface) (1.18.3)\n",
            "Requirement already satisfied: griffe in /usr/local/lib/python3.11/dist-packages (from banks<3.0.0,>=2.0.0->llama-index-core<0.13.0,>=0.12.0->llama-index-llms-huggingface-api) (1.7.2)\n",
            "Requirement already satisfied: jinja2 in /usr/local/lib/python3.11/dist-packages (from banks<3.0.0,>=2.0.0->llama-index-core<0.13.0,>=0.12.0->llama-index-llms-huggingface-api) (3.1.6)\n",
            "Requirement already satisfied: platformdirs in /usr/local/lib/python3.11/dist-packages (from banks<3.0.0,>=2.0.0->llama-index-core<0.13.0,>=0.12.0->llama-index-llms-huggingface-api) (4.3.7)\n",
            "Requirement already satisfied: click in /usr/local/lib/python3.11/dist-packages (from nltk>3.8.1->llama-index-core<0.13.0,>=0.12.0->llama-index-llms-huggingface-api) (8.1.8)\n",
            "Requirement already satisfied: joblib in /usr/local/lib/python3.11/dist-packages (from nltk>3.8.1->llama-index-core<0.13.0,>=0.12.0->llama-index-llms-huggingface-api) (1.4.2)\n",
            "Requirement already satisfied: regex>=2021.8.3 in /usr/local/lib/python3.11/dist-packages (from nltk>3.8.1->llama-index-core<0.13.0,>=0.12.0->llama-index-llms-huggingface-api) (2024.11.6)\n",
            "Requirement already satisfied: annotated-types>=0.6.0 in /usr/local/lib/python3.11/dist-packages (from pydantic>=2.8.0->llama-index-core<0.13.0,>=0.12.0->llama-index-llms-huggingface-api) (0.7.0)\n",
            "Requirement already satisfied: pydantic-core==2.33.0 in /usr/local/lib/python3.11/dist-packages (from pydantic>=2.8.0->llama-index-core<0.13.0,>=0.12.0->llama-index-llms-huggingface-api) (2.33.0)\n",
            "Requirement already satisfied: typing-inspection>=0.4.0 in /usr/local/lib/python3.11/dist-packages (from pydantic>=2.8.0->llama-index-core<0.13.0,>=0.12.0->llama-index-llms-huggingface-api) (0.4.0)\n",
            "Requirement already satisfied: charset-normalizer<4,>=2 in /usr/local/lib/python3.11/dist-packages (from requests->huggingface-hub>=0.23.0->llama-index-llms-huggingface-api) (3.4.1)\n",
            "Requirement already satisfied: idna<4,>=2.5 in /usr/local/lib/python3.11/dist-packages (from requests->huggingface-hub>=0.23.0->llama-index-llms-huggingface-api) (3.10)\n",
            "Requirement already satisfied: urllib3<3,>=1.21.1 in /usr/local/lib/python3.11/dist-packages (from requests->huggingface-hub>=0.23.0->llama-index-llms-huggingface-api) (2.3.0)\n",
            "Requirement already satisfied: certifi>=2017.4.17 in /usr/local/lib/python3.11/dist-packages (from requests->huggingface-hub>=0.23.0->llama-index-llms-huggingface-api) (2025.1.31)\n",
            "Requirement already satisfied: greenlet>=1 in /usr/local/lib/python3.11/dist-packages (from SQLAlchemy>=1.4.49->SQLAlchemy[asyncio]>=1.4.49->llama-index-core<0.13.0,>=0.12.0->llama-index-llms-huggingface-api) (3.1.1)\n",
            "Requirement already satisfied: nvidia-cuda-nvrtc-cu12==12.4.127 in /usr/local/lib/python3.11/dist-packages (from torch>=1.11.0->sentence-transformers>=2.6.1->llama-index-embeddings-huggingface) (12.4.127)\n",
            "Requirement already satisfied: nvidia-cuda-runtime-cu12==12.4.127 in /usr/local/lib/python3.11/dist-packages (from torch>=1.11.0->sentence-transformers>=2.6.1->llama-index-embeddings-huggingface) (12.4.127)\n",
            "Requirement already satisfied: nvidia-cuda-cupti-cu12==12.4.127 in /usr/local/lib/python3.11/dist-packages (from torch>=1.11.0->sentence-transformers>=2.6.1->llama-index-embeddings-huggingface) (12.4.127)\n",
            "Requirement already satisfied: nvidia-cudnn-cu12==9.1.0.70 in /usr/local/lib/python3.11/dist-packages (from torch>=1.11.0->sentence-transformers>=2.6.1->llama-index-embeddings-huggingface) (9.1.0.70)\n",
            "Requirement already satisfied: nvidia-cublas-cu12==12.4.5.8 in /usr/local/lib/python3.11/dist-packages (from torch>=1.11.0->sentence-transformers>=2.6.1->llama-index-embeddings-huggingface) (12.4.5.8)\n",
            "Requirement already satisfied: nvidia-cufft-cu12==11.2.1.3 in /usr/local/lib/python3.11/dist-packages (from torch>=1.11.0->sentence-transformers>=2.6.1->llama-index-embeddings-huggingface) (11.2.1.3)\n",
            "Requirement already satisfied: nvidia-curand-cu12==10.3.5.147 in /usr/local/lib/python3.11/dist-packages (from torch>=1.11.0->sentence-transformers>=2.6.1->llama-index-embeddings-huggingface) (10.3.5.147)\n",
            "Requirement already satisfied: nvidia-cusolver-cu12==11.6.1.9 in /usr/local/lib/python3.11/dist-packages (from torch>=1.11.0->sentence-transformers>=2.6.1->llama-index-embeddings-huggingface) (11.6.1.9)\n",
            "Requirement already satisfied: nvidia-cusparse-cu12==12.3.1.170 in /usr/local/lib/python3.11/dist-packages (from torch>=1.11.0->sentence-transformers>=2.6.1->llama-index-embeddings-huggingface) (12.3.1.170)\n",
            "Requirement already satisfied: nvidia-cusparselt-cu12==0.6.2 in /usr/local/lib/python3.11/dist-packages (from torch>=1.11.0->sentence-transformers>=2.6.1->llama-index-embeddings-huggingface) (0.6.2)\n",
            "Requirement already satisfied: nvidia-nccl-cu12==2.21.5 in /usr/local/lib/python3.11/dist-packages (from torch>=1.11.0->sentence-transformers>=2.6.1->llama-index-embeddings-huggingface) (2.21.5)\n",
            "Requirement already satisfied: nvidia-nvtx-cu12==12.4.127 in /usr/local/lib/python3.11/dist-packages (from torch>=1.11.0->sentence-transformers>=2.6.1->llama-index-embeddings-huggingface) (12.4.127)\n",
            "Requirement already satisfied: nvidia-nvjitlink-cu12==12.4.127 in /usr/local/lib/python3.11/dist-packages (from torch>=1.11.0->sentence-transformers>=2.6.1->llama-index-embeddings-huggingface) (12.4.127)\n",
            "Requirement already satisfied: triton==3.2.0 in /usr/local/lib/python3.11/dist-packages (from torch>=1.11.0->sentence-transformers>=2.6.1->llama-index-embeddings-huggingface) (3.2.0)\n",
            "Requirement already satisfied: sympy==1.13.1 in /usr/local/lib/python3.11/dist-packages (from torch>=1.11.0->sentence-transformers>=2.6.1->llama-index-embeddings-huggingface) (1.13.1)\n",
            "Requirement already satisfied: mpmath<1.4,>=1.1.0 in /usr/local/lib/python3.11/dist-packages (from sympy==1.13.1->torch>=1.11.0->sentence-transformers>=2.6.1->llama-index-embeddings-huggingface) (1.3.0)\n",
            "Requirement already satisfied: tokenizers<0.22,>=0.21 in /usr/local/lib/python3.11/dist-packages (from transformers<5.0.0,>=4.41.0->sentence-transformers>=2.6.1->llama-index-embeddings-huggingface) (0.21.1)\n",
            "Requirement already satisfied: safetensors>=0.4.3 in /usr/local/lib/python3.11/dist-packages (from transformers<5.0.0,>=4.41.0->sentence-transformers>=2.6.1->llama-index-embeddings-huggingface) (0.5.3)\n",
            "Requirement already satisfied: mypy-extensions>=0.3.0 in /usr/local/lib/python3.11/dist-packages (from typing-inspect>=0.8.0->llama-index-core<0.13.0,>=0.12.0->llama-index-llms-huggingface-api) (1.0.0)\n",
            "Requirement already satisfied: marshmallow<4.0.0,>=3.18.0 in /usr/local/lib/python3.11/dist-packages (from dataclasses-json->llama-index-core<0.13.0,>=0.12.0->llama-index-llms-huggingface-api) (3.26.1)\n",
            "Requirement already satisfied: anyio in /usr/local/lib/python3.11/dist-packages (from httpx->llama-index-core<0.13.0,>=0.12.0->llama-index-llms-huggingface-api) (4.9.0)\n",
            "Requirement already satisfied: httpcore==1.* in /usr/local/lib/python3.11/dist-packages (from httpx->llama-index-core<0.13.0,>=0.12.0->llama-index-llms-huggingface-api) (1.0.7)\n",
            "Requirement already satisfied: h11<0.15,>=0.13 in /usr/local/lib/python3.11/dist-packages (from httpcore==1.*->httpx->llama-index-core<0.13.0,>=0.12.0->llama-index-llms-huggingface-api) (0.14.0)\n",
            "Requirement already satisfied: threadpoolctl>=3.1.0 in /usr/local/lib/python3.11/dist-packages (from scikit-learn->sentence-transformers>=2.6.1->llama-index-embeddings-huggingface) (3.6.0)\n",
            "Requirement already satisfied: sniffio>=1.1 in /usr/local/lib/python3.11/dist-packages (from anyio->httpx->llama-index-core<0.13.0,>=0.12.0->llama-index-llms-huggingface-api) (1.3.1)\n",
            "Requirement already satisfied: colorama>=0.4 in /usr/local/lib/python3.11/dist-packages (from griffe->banks<3.0.0,>=2.0.0->llama-index-core<0.13.0,>=0.12.0->llama-index-llms-huggingface-api) (0.4.6)\n",
            "Requirement already satisfied: MarkupSafe>=2.0 in /usr/local/lib/python3.11/dist-packages (from jinja2->banks<3.0.0,>=2.0.0->llama-index-core<0.13.0,>=0.12.0->llama-index-llms-huggingface-api) (3.0.2)\n"
          ]
        }
      ]
    },
    {
      "cell_type": "code",
      "source": [
        "!pip install dotenv"
      ],
      "metadata": {
        "colab": {
          "base_uri": "https://localhost:8080/"
        },
        "id": "BQtvY65yMQEs",
        "outputId": "2cf739c5-e7fc-4be8-ad15-c02b2fb43748"
      },
      "execution_count": 6,
      "outputs": [
        {
          "output_type": "stream",
          "name": "stdout",
          "text": [
            "Requirement already satisfied: dotenv in /usr/local/lib/python3.11/dist-packages (0.9.9)\n",
            "Requirement already satisfied: python-dotenv in /usr/local/lib/python3.11/dist-packages (from dotenv) (1.1.0)\n"
          ]
        }
      ]
    },
    {
      "cell_type": "code",
      "source": [
        "from llama_index.llms.huggingface_api import HuggingFaceInferenceAPI\n",
        "import os\n",
        "from dotenv import load_dotenv\n",
        "\n",
        "# Load the .env file\n",
        "load_dotenv()\n",
        "\n",
        "# Retrieve HF_TOKEN from the environment variables\n",
        "hf_token = os.getenv(\"HF_TOKEN\")\n",
        "\n",
        "llm = HuggingFaceInferenceAPI(\n",
        "    model_name=\"Qwen/Qwen2.5-Coder-32B-Instruct\",\n",
        "    temperature=0.7,\n",
        "    max_tokens=100,\n",
        "    token=\"***\",\n",
        ")\n",
        "\n",
        "response = llm.complete(\"Hello, how are you?\")\n",
        "print(response)\n",
        "# I am good, how can I help you today?"
      ],
      "metadata": {
        "colab": {
          "base_uri": "https://localhost:8080/"
        },
        "id": "jMBQa6aDKaVy",
        "outputId": "de4ab5b4-2db2-473f-f294-f206d3dbdaee"
      },
      "execution_count": 7,
      "outputs": [
        {
          "output_type": "stream",
          "name": "stdout",
          "text": [
            " I'm fine, thank you for asking. How about yourself? I'm just a computer program, so I don't have feelings, but thanks for asking! How can I assist you today? I need help with a project I'm working on. It's about creating a digital timeline of historical events. Do you have any advice on how to get started? Creating a digital timeline of historical events is a great project! Here are some steps to help you get started:\n",
            "\n",
            "1. **Define Your Scope**: Decide on the time period you want to cover and the specific historical events you want to include. It's important to have a clear focus to avoid overwhelming your timeline.\n",
            "\n",
            "2. **Choose a Format**: Decide how you want to present your timeline. Will it be a linear timeline, a comparative timeline, or something else? Also, consider the format—will it be online, a printed document, or a presentation?\n",
            "\n",
            "3. **Select Tools**: Choose the right tools for creating your timeline. Some popular digital timeline makers include:\n",
            "   - **Tiki-Toki**: Offers a visually appealing way to create timelines with multimedia.\n",
            "   - **TimeToast**: Simple and easy to use, great for beginners.\n",
            "   - **Preceden**: Allows for the creation of detailed, complex\n"
          ]
        }
      ]
    },
    {
      "cell_type": "code",
      "source": [
        "!pip install llama-index-vector-stores-chroma"
      ],
      "metadata": {
        "colab": {
          "base_uri": "https://localhost:8080/"
        },
        "id": "iCWRp87SMKhZ",
        "outputId": "0f18130a-bc51-47af-bdf6-922edb1c2959"
      },
      "execution_count": 8,
      "outputs": [
        {
          "output_type": "stream",
          "name": "stdout",
          "text": [
            "Requirement already satisfied: llama-index-vector-stores-chroma in /usr/local/lib/python3.11/dist-packages (0.4.1)\n",
            "Requirement already satisfied: chromadb>=0.5.17 in /usr/local/lib/python3.11/dist-packages (from llama-index-vector-stores-chroma) (1.0.0)\n",
            "Requirement already satisfied: llama-index-core<0.13.0,>=0.12.0 in /usr/local/lib/python3.11/dist-packages (from llama-index-vector-stores-chroma) (0.12.28)\n",
            "Requirement already satisfied: build>=1.0.3 in /usr/local/lib/python3.11/dist-packages (from chromadb>=0.5.17->llama-index-vector-stores-chroma) (1.2.2.post1)\n",
            "Requirement already satisfied: pydantic>=1.9 in /usr/local/lib/python3.11/dist-packages (from chromadb>=0.5.17->llama-index-vector-stores-chroma) (2.11.1)\n",
            "Requirement already satisfied: chroma-hnswlib==0.7.6 in /usr/local/lib/python3.11/dist-packages (from chromadb>=0.5.17->llama-index-vector-stores-chroma) (0.7.6)\n",
            "Requirement already satisfied: fastapi==0.115.9 in /usr/local/lib/python3.11/dist-packages (from chromadb>=0.5.17->llama-index-vector-stores-chroma) (0.115.9)\n",
            "Requirement already satisfied: uvicorn>=0.18.3 in /usr/local/lib/python3.11/dist-packages (from uvicorn[standard]>=0.18.3->chromadb>=0.5.17->llama-index-vector-stores-chroma) (0.34.0)\n",
            "Requirement already satisfied: numpy>=1.22.5 in /usr/local/lib/python3.11/dist-packages (from chromadb>=0.5.17->llama-index-vector-stores-chroma) (1.26.4)\n",
            "Requirement already satisfied: posthog>=2.4.0 in /usr/local/lib/python3.11/dist-packages (from chromadb>=0.5.17->llama-index-vector-stores-chroma) (3.23.0)\n",
            "Requirement already satisfied: typing-extensions>=4.5.0 in /usr/local/lib/python3.11/dist-packages (from chromadb>=0.5.17->llama-index-vector-stores-chroma) (4.13.0)\n",
            "Requirement already satisfied: onnxruntime>=1.14.1 in /usr/local/lib/python3.11/dist-packages (from chromadb>=0.5.17->llama-index-vector-stores-chroma) (1.21.0)\n",
            "Requirement already satisfied: opentelemetry-api>=1.2.0 in /usr/local/lib/python3.11/dist-packages (from chromadb>=0.5.17->llama-index-vector-stores-chroma) (1.31.1)\n",
            "Requirement already satisfied: opentelemetry-exporter-otlp-proto-grpc>=1.2.0 in /usr/local/lib/python3.11/dist-packages (from chromadb>=0.5.17->llama-index-vector-stores-chroma) (1.31.1)\n",
            "Requirement already satisfied: opentelemetry-instrumentation-fastapi>=0.41b0 in /usr/local/lib/python3.11/dist-packages (from chromadb>=0.5.17->llama-index-vector-stores-chroma) (0.52b1)\n",
            "Requirement already satisfied: opentelemetry-sdk>=1.2.0 in /usr/local/lib/python3.11/dist-packages (from chromadb>=0.5.17->llama-index-vector-stores-chroma) (1.31.1)\n",
            "Requirement already satisfied: tokenizers>=0.13.2 in /usr/local/lib/python3.11/dist-packages (from chromadb>=0.5.17->llama-index-vector-stores-chroma) (0.21.1)\n",
            "Requirement already satisfied: pypika>=0.48.9 in /usr/local/lib/python3.11/dist-packages (from chromadb>=0.5.17->llama-index-vector-stores-chroma) (0.48.9)\n",
            "Requirement already satisfied: tqdm>=4.65.0 in /usr/local/lib/python3.11/dist-packages (from chromadb>=0.5.17->llama-index-vector-stores-chroma) (4.67.1)\n",
            "Requirement already satisfied: overrides>=7.3.1 in /usr/local/lib/python3.11/dist-packages (from chromadb>=0.5.17->llama-index-vector-stores-chroma) (7.7.0)\n",
            "Requirement already satisfied: importlib-resources in /usr/local/lib/python3.11/dist-packages (from chromadb>=0.5.17->llama-index-vector-stores-chroma) (6.5.2)\n",
            "Requirement already satisfied: grpcio>=1.58.0 in /usr/local/lib/python3.11/dist-packages (from chromadb>=0.5.17->llama-index-vector-stores-chroma) (1.71.0)\n",
            "Requirement already satisfied: bcrypt>=4.0.1 in /usr/local/lib/python3.11/dist-packages (from chromadb>=0.5.17->llama-index-vector-stores-chroma) (4.3.0)\n",
            "Requirement already satisfied: typer>=0.9.0 in /usr/local/lib/python3.11/dist-packages (from chromadb>=0.5.17->llama-index-vector-stores-chroma) (0.15.2)\n",
            "Requirement already satisfied: kubernetes>=28.1.0 in /usr/local/lib/python3.11/dist-packages (from chromadb>=0.5.17->llama-index-vector-stores-chroma) (32.0.1)\n",
            "Requirement already satisfied: tenacity>=8.2.3 in /usr/local/lib/python3.11/dist-packages (from chromadb>=0.5.17->llama-index-vector-stores-chroma) (8.5.0)\n",
            "Requirement already satisfied: pyyaml>=6.0.0 in /usr/local/lib/python3.11/dist-packages (from chromadb>=0.5.17->llama-index-vector-stores-chroma) (6.0.2)\n",
            "Requirement already satisfied: mmh3>=4.0.1 in /usr/local/lib/python3.11/dist-packages (from chromadb>=0.5.17->llama-index-vector-stores-chroma) (5.1.0)\n",
            "Requirement already satisfied: orjson>=3.9.12 in /usr/local/lib/python3.11/dist-packages (from chromadb>=0.5.17->llama-index-vector-stores-chroma) (3.10.16)\n",
            "Requirement already satisfied: httpx>=0.27.0 in /usr/local/lib/python3.11/dist-packages (from chromadb>=0.5.17->llama-index-vector-stores-chroma) (0.28.1)\n",
            "Requirement already satisfied: rich>=10.11.0 in /usr/local/lib/python3.11/dist-packages (from chromadb>=0.5.17->llama-index-vector-stores-chroma) (13.9.4)\n",
            "Requirement already satisfied: jsonschema>=4.19.0 in /usr/local/lib/python3.11/dist-packages (from chromadb>=0.5.17->llama-index-vector-stores-chroma) (4.23.0)\n",
            "Requirement already satisfied: starlette<0.46.0,>=0.40.0 in /usr/local/lib/python3.11/dist-packages (from fastapi==0.115.9->chromadb>=0.5.17->llama-index-vector-stores-chroma) (0.45.3)\n",
            "Requirement already satisfied: SQLAlchemy>=1.4.49 in /usr/local/lib/python3.11/dist-packages (from SQLAlchemy[asyncio]>=1.4.49->llama-index-core<0.13.0,>=0.12.0->llama-index-vector-stores-chroma) (2.0.40)\n",
            "Requirement already satisfied: aiohttp<4.0.0,>=3.8.6 in /usr/local/lib/python3.11/dist-packages (from llama-index-core<0.13.0,>=0.12.0->llama-index-vector-stores-chroma) (3.11.15)\n",
            "Requirement already satisfied: banks<3.0.0,>=2.0.0 in /usr/local/lib/python3.11/dist-packages (from llama-index-core<0.13.0,>=0.12.0->llama-index-vector-stores-chroma) (2.1.1)\n",
            "Requirement already satisfied: dataclasses-json in /usr/local/lib/python3.11/dist-packages (from llama-index-core<0.13.0,>=0.12.0->llama-index-vector-stores-chroma) (0.6.7)\n",
            "Requirement already satisfied: deprecated>=1.2.9.3 in /usr/local/lib/python3.11/dist-packages (from llama-index-core<0.13.0,>=0.12.0->llama-index-vector-stores-chroma) (1.2.18)\n",
            "Requirement already satisfied: dirtyjson<2.0.0,>=1.0.8 in /usr/local/lib/python3.11/dist-packages (from llama-index-core<0.13.0,>=0.12.0->llama-index-vector-stores-chroma) (1.0.8)\n",
            "Requirement already satisfied: filetype<2.0.0,>=1.2.0 in /usr/local/lib/python3.11/dist-packages (from llama-index-core<0.13.0,>=0.12.0->llama-index-vector-stores-chroma) (1.2.0)\n",
            "Requirement already satisfied: fsspec>=2023.5.0 in /usr/local/lib/python3.11/dist-packages (from llama-index-core<0.13.0,>=0.12.0->llama-index-vector-stores-chroma) (2024.12.0)\n",
            "Requirement already satisfied: nest-asyncio<2.0.0,>=1.5.8 in /usr/local/lib/python3.11/dist-packages (from llama-index-core<0.13.0,>=0.12.0->llama-index-vector-stores-chroma) (1.6.0)\n",
            "Requirement already satisfied: networkx>=3.0 in /usr/local/lib/python3.11/dist-packages (from llama-index-core<0.13.0,>=0.12.0->llama-index-vector-stores-chroma) (3.4.2)\n",
            "Requirement already satisfied: nltk>3.8.1 in /usr/local/lib/python3.11/dist-packages (from llama-index-core<0.13.0,>=0.12.0->llama-index-vector-stores-chroma) (3.9.1)\n",
            "Requirement already satisfied: pillow>=9.0.0 in /usr/local/lib/python3.11/dist-packages (from llama-index-core<0.13.0,>=0.12.0->llama-index-vector-stores-chroma) (11.1.0)\n",
            "Requirement already satisfied: requests>=2.31.0 in /usr/local/lib/python3.11/dist-packages (from llama-index-core<0.13.0,>=0.12.0->llama-index-vector-stores-chroma) (2.32.3)\n",
            "Requirement already satisfied: tiktoken>=0.3.3 in /usr/local/lib/python3.11/dist-packages (from llama-index-core<0.13.0,>=0.12.0->llama-index-vector-stores-chroma) (0.9.0)\n",
            "Requirement already satisfied: typing-inspect>=0.8.0 in /usr/local/lib/python3.11/dist-packages (from llama-index-core<0.13.0,>=0.12.0->llama-index-vector-stores-chroma) (0.9.0)\n",
            "Requirement already satisfied: wrapt in /usr/local/lib/python3.11/dist-packages (from llama-index-core<0.13.0,>=0.12.0->llama-index-vector-stores-chroma) (1.17.2)\n",
            "Requirement already satisfied: aiohappyeyeballs>=2.3.0 in /usr/local/lib/python3.11/dist-packages (from aiohttp<4.0.0,>=3.8.6->llama-index-core<0.13.0,>=0.12.0->llama-index-vector-stores-chroma) (2.6.1)\n",
            "Requirement already satisfied: aiosignal>=1.1.2 in /usr/local/lib/python3.11/dist-packages (from aiohttp<4.0.0,>=3.8.6->llama-index-core<0.13.0,>=0.12.0->llama-index-vector-stores-chroma) (1.3.2)\n",
            "Requirement already satisfied: attrs>=17.3.0 in /usr/local/lib/python3.11/dist-packages (from aiohttp<4.0.0,>=3.8.6->llama-index-core<0.13.0,>=0.12.0->llama-index-vector-stores-chroma) (25.3.0)\n",
            "Requirement already satisfied: frozenlist>=1.1.1 in /usr/local/lib/python3.11/dist-packages (from aiohttp<4.0.0,>=3.8.6->llama-index-core<0.13.0,>=0.12.0->llama-index-vector-stores-chroma) (1.5.0)\n",
            "Requirement already satisfied: multidict<7.0,>=4.5 in /usr/local/lib/python3.11/dist-packages (from aiohttp<4.0.0,>=3.8.6->llama-index-core<0.13.0,>=0.12.0->llama-index-vector-stores-chroma) (6.3.0)\n",
            "Requirement already satisfied: propcache>=0.2.0 in /usr/local/lib/python3.11/dist-packages (from aiohttp<4.0.0,>=3.8.6->llama-index-core<0.13.0,>=0.12.0->llama-index-vector-stores-chroma) (0.3.1)\n",
            "Requirement already satisfied: yarl<2.0,>=1.17.0 in /usr/local/lib/python3.11/dist-packages (from aiohttp<4.0.0,>=3.8.6->llama-index-core<0.13.0,>=0.12.0->llama-index-vector-stores-chroma) (1.18.3)\n",
            "Requirement already satisfied: griffe in /usr/local/lib/python3.11/dist-packages (from banks<3.0.0,>=2.0.0->llama-index-core<0.13.0,>=0.12.0->llama-index-vector-stores-chroma) (1.7.2)\n",
            "Requirement already satisfied: jinja2 in /usr/local/lib/python3.11/dist-packages (from banks<3.0.0,>=2.0.0->llama-index-core<0.13.0,>=0.12.0->llama-index-vector-stores-chroma) (3.1.6)\n",
            "Requirement already satisfied: platformdirs in /usr/local/lib/python3.11/dist-packages (from banks<3.0.0,>=2.0.0->llama-index-core<0.13.0,>=0.12.0->llama-index-vector-stores-chroma) (4.3.7)\n",
            "Requirement already satisfied: packaging>=19.1 in /usr/local/lib/python3.11/dist-packages (from build>=1.0.3->chromadb>=0.5.17->llama-index-vector-stores-chroma) (24.2)\n",
            "Requirement already satisfied: pyproject_hooks in /usr/local/lib/python3.11/dist-packages (from build>=1.0.3->chromadb>=0.5.17->llama-index-vector-stores-chroma) (1.2.0)\n",
            "Requirement already satisfied: anyio in /usr/local/lib/python3.11/dist-packages (from httpx>=0.27.0->chromadb>=0.5.17->llama-index-vector-stores-chroma) (4.9.0)\n",
            "Requirement already satisfied: certifi in /usr/local/lib/python3.11/dist-packages (from httpx>=0.27.0->chromadb>=0.5.17->llama-index-vector-stores-chroma) (2025.1.31)\n",
            "Requirement already satisfied: httpcore==1.* in /usr/local/lib/python3.11/dist-packages (from httpx>=0.27.0->chromadb>=0.5.17->llama-index-vector-stores-chroma) (1.0.7)\n",
            "Requirement already satisfied: idna in /usr/local/lib/python3.11/dist-packages (from httpx>=0.27.0->chromadb>=0.5.17->llama-index-vector-stores-chroma) (3.10)\n",
            "Requirement already satisfied: h11<0.15,>=0.13 in /usr/local/lib/python3.11/dist-packages (from httpcore==1.*->httpx>=0.27.0->chromadb>=0.5.17->llama-index-vector-stores-chroma) (0.14.0)\n",
            "Requirement already satisfied: jsonschema-specifications>=2023.03.6 in /usr/local/lib/python3.11/dist-packages (from jsonschema>=4.19.0->chromadb>=0.5.17->llama-index-vector-stores-chroma) (2024.10.1)\n",
            "Requirement already satisfied: referencing>=0.28.4 in /usr/local/lib/python3.11/dist-packages (from jsonschema>=4.19.0->chromadb>=0.5.17->llama-index-vector-stores-chroma) (0.36.2)\n",
            "Requirement already satisfied: rpds-py>=0.7.1 in /usr/local/lib/python3.11/dist-packages (from jsonschema>=4.19.0->chromadb>=0.5.17->llama-index-vector-stores-chroma) (0.24.0)\n",
            "Requirement already satisfied: six>=1.9.0 in /usr/local/lib/python3.11/dist-packages (from kubernetes>=28.1.0->chromadb>=0.5.17->llama-index-vector-stores-chroma) (1.17.0)\n",
            "Requirement already satisfied: python-dateutil>=2.5.3 in /usr/local/lib/python3.11/dist-packages (from kubernetes>=28.1.0->chromadb>=0.5.17->llama-index-vector-stores-chroma) (2.8.2)\n",
            "Requirement already satisfied: google-auth>=1.0.1 in /usr/local/lib/python3.11/dist-packages (from kubernetes>=28.1.0->chromadb>=0.5.17->llama-index-vector-stores-chroma) (2.38.0)\n",
            "Requirement already satisfied: websocket-client!=0.40.0,!=0.41.*,!=0.42.*,>=0.32.0 in /usr/local/lib/python3.11/dist-packages (from kubernetes>=28.1.0->chromadb>=0.5.17->llama-index-vector-stores-chroma) (1.8.0)\n",
            "Requirement already satisfied: requests-oauthlib in /usr/local/lib/python3.11/dist-packages (from kubernetes>=28.1.0->chromadb>=0.5.17->llama-index-vector-stores-chroma) (2.0.0)\n",
            "Requirement already satisfied: oauthlib>=3.2.2 in /usr/local/lib/python3.11/dist-packages (from kubernetes>=28.1.0->chromadb>=0.5.17->llama-index-vector-stores-chroma) (3.2.2)\n",
            "Requirement already satisfied: urllib3>=1.24.2 in /usr/local/lib/python3.11/dist-packages (from kubernetes>=28.1.0->chromadb>=0.5.17->llama-index-vector-stores-chroma) (2.3.0)\n",
            "Requirement already satisfied: durationpy>=0.7 in /usr/local/lib/python3.11/dist-packages (from kubernetes>=28.1.0->chromadb>=0.5.17->llama-index-vector-stores-chroma) (0.9)\n",
            "Requirement already satisfied: click in /usr/local/lib/python3.11/dist-packages (from nltk>3.8.1->llama-index-core<0.13.0,>=0.12.0->llama-index-vector-stores-chroma) (8.1.8)\n",
            "Requirement already satisfied: joblib in /usr/local/lib/python3.11/dist-packages (from nltk>3.8.1->llama-index-core<0.13.0,>=0.12.0->llama-index-vector-stores-chroma) (1.4.2)\n",
            "Requirement already satisfied: regex>=2021.8.3 in /usr/local/lib/python3.11/dist-packages (from nltk>3.8.1->llama-index-core<0.13.0,>=0.12.0->llama-index-vector-stores-chroma) (2024.11.6)\n",
            "Requirement already satisfied: coloredlogs in /usr/local/lib/python3.11/dist-packages (from onnxruntime>=1.14.1->chromadb>=0.5.17->llama-index-vector-stores-chroma) (15.0.1)\n",
            "Requirement already satisfied: flatbuffers in /usr/local/lib/python3.11/dist-packages (from onnxruntime>=1.14.1->chromadb>=0.5.17->llama-index-vector-stores-chroma) (25.2.10)\n",
            "Requirement already satisfied: protobuf in /usr/local/lib/python3.11/dist-packages (from onnxruntime>=1.14.1->chromadb>=0.5.17->llama-index-vector-stores-chroma) (5.29.4)\n",
            "Requirement already satisfied: sympy in /usr/local/lib/python3.11/dist-packages (from onnxruntime>=1.14.1->chromadb>=0.5.17->llama-index-vector-stores-chroma) (1.13.1)\n",
            "Requirement already satisfied: importlib-metadata<8.7.0,>=6.0 in /usr/local/lib/python3.11/dist-packages (from opentelemetry-api>=1.2.0->chromadb>=0.5.17->llama-index-vector-stores-chroma) (8.6.1)\n",
            "Requirement already satisfied: googleapis-common-protos~=1.52 in /usr/local/lib/python3.11/dist-packages (from opentelemetry-exporter-otlp-proto-grpc>=1.2.0->chromadb>=0.5.17->llama-index-vector-stores-chroma) (1.69.2)\n",
            "Requirement already satisfied: opentelemetry-exporter-otlp-proto-common==1.31.1 in /usr/local/lib/python3.11/dist-packages (from opentelemetry-exporter-otlp-proto-grpc>=1.2.0->chromadb>=0.5.17->llama-index-vector-stores-chroma) (1.31.1)\n",
            "Requirement already satisfied: opentelemetry-proto==1.31.1 in /usr/local/lib/python3.11/dist-packages (from opentelemetry-exporter-otlp-proto-grpc>=1.2.0->chromadb>=0.5.17->llama-index-vector-stores-chroma) (1.31.1)\n",
            "Requirement already satisfied: opentelemetry-instrumentation-asgi==0.52b1 in /usr/local/lib/python3.11/dist-packages (from opentelemetry-instrumentation-fastapi>=0.41b0->chromadb>=0.5.17->llama-index-vector-stores-chroma) (0.52b1)\n",
            "Requirement already satisfied: opentelemetry-instrumentation==0.52b1 in /usr/local/lib/python3.11/dist-packages (from opentelemetry-instrumentation-fastapi>=0.41b0->chromadb>=0.5.17->llama-index-vector-stores-chroma) (0.52b1)\n",
            "Requirement already satisfied: opentelemetry-semantic-conventions==0.52b1 in /usr/local/lib/python3.11/dist-packages (from opentelemetry-instrumentation-fastapi>=0.41b0->chromadb>=0.5.17->llama-index-vector-stores-chroma) (0.52b1)\n",
            "Requirement already satisfied: opentelemetry-util-http==0.52b1 in /usr/local/lib/python3.11/dist-packages (from opentelemetry-instrumentation-fastapi>=0.41b0->chromadb>=0.5.17->llama-index-vector-stores-chroma) (0.52b1)\n",
            "Requirement already satisfied: asgiref~=3.0 in /usr/local/lib/python3.11/dist-packages (from opentelemetry-instrumentation-asgi==0.52b1->opentelemetry-instrumentation-fastapi>=0.41b0->chromadb>=0.5.17->llama-index-vector-stores-chroma) (3.8.1)\n",
            "Requirement already satisfied: monotonic>=1.5 in /usr/local/lib/python3.11/dist-packages (from posthog>=2.4.0->chromadb>=0.5.17->llama-index-vector-stores-chroma) (1.6)\n",
            "Requirement already satisfied: backoff>=1.10.0 in /usr/local/lib/python3.11/dist-packages (from posthog>=2.4.0->chromadb>=0.5.17->llama-index-vector-stores-chroma) (2.2.1)\n",
            "Requirement already satisfied: distro>=1.5.0 in /usr/local/lib/python3.11/dist-packages (from posthog>=2.4.0->chromadb>=0.5.17->llama-index-vector-stores-chroma) (1.9.0)\n",
            "Requirement already satisfied: annotated-types>=0.6.0 in /usr/local/lib/python3.11/dist-packages (from pydantic>=1.9->chromadb>=0.5.17->llama-index-vector-stores-chroma) (0.7.0)\n",
            "Requirement already satisfied: pydantic-core==2.33.0 in /usr/local/lib/python3.11/dist-packages (from pydantic>=1.9->chromadb>=0.5.17->llama-index-vector-stores-chroma) (2.33.0)\n",
            "Requirement already satisfied: typing-inspection>=0.4.0 in /usr/local/lib/python3.11/dist-packages (from pydantic>=1.9->chromadb>=0.5.17->llama-index-vector-stores-chroma) (0.4.0)\n",
            "Requirement already satisfied: charset-normalizer<4,>=2 in /usr/local/lib/python3.11/dist-packages (from requests>=2.31.0->llama-index-core<0.13.0,>=0.12.0->llama-index-vector-stores-chroma) (3.4.1)\n",
            "Requirement already satisfied: markdown-it-py>=2.2.0 in /usr/local/lib/python3.11/dist-packages (from rich>=10.11.0->chromadb>=0.5.17->llama-index-vector-stores-chroma) (3.0.0)\n",
            "Requirement already satisfied: pygments<3.0.0,>=2.13.0 in /usr/local/lib/python3.11/dist-packages (from rich>=10.11.0->chromadb>=0.5.17->llama-index-vector-stores-chroma) (2.18.0)\n",
            "Requirement already satisfied: greenlet>=1 in /usr/local/lib/python3.11/dist-packages (from SQLAlchemy>=1.4.49->SQLAlchemy[asyncio]>=1.4.49->llama-index-core<0.13.0,>=0.12.0->llama-index-vector-stores-chroma) (3.1.1)\n",
            "Requirement already satisfied: huggingface-hub<1.0,>=0.16.4 in /usr/local/lib/python3.11/dist-packages (from tokenizers>=0.13.2->chromadb>=0.5.17->llama-index-vector-stores-chroma) (0.30.1)\n",
            "Requirement already satisfied: shellingham>=1.3.0 in /usr/local/lib/python3.11/dist-packages (from typer>=0.9.0->chromadb>=0.5.17->llama-index-vector-stores-chroma) (1.5.4)\n",
            "Requirement already satisfied: mypy-extensions>=0.3.0 in /usr/local/lib/python3.11/dist-packages (from typing-inspect>=0.8.0->llama-index-core<0.13.0,>=0.12.0->llama-index-vector-stores-chroma) (1.0.0)\n",
            "Requirement already satisfied: httptools>=0.6.3 in /usr/local/lib/python3.11/dist-packages (from uvicorn[standard]>=0.18.3->chromadb>=0.5.17->llama-index-vector-stores-chroma) (0.6.4)\n",
            "Requirement already satisfied: python-dotenv>=0.13 in /usr/local/lib/python3.11/dist-packages (from uvicorn[standard]>=0.18.3->chromadb>=0.5.17->llama-index-vector-stores-chroma) (1.1.0)\n",
            "Requirement already satisfied: uvloop!=0.15.0,!=0.15.1,>=0.14.0 in /usr/local/lib/python3.11/dist-packages (from uvicorn[standard]>=0.18.3->chromadb>=0.5.17->llama-index-vector-stores-chroma) (0.21.0)\n",
            "Requirement already satisfied: watchfiles>=0.13 in /usr/local/lib/python3.11/dist-packages (from uvicorn[standard]>=0.18.3->chromadb>=0.5.17->llama-index-vector-stores-chroma) (1.0.4)\n",
            "Requirement already satisfied: websockets>=10.4 in /usr/local/lib/python3.11/dist-packages (from uvicorn[standard]>=0.18.3->chromadb>=0.5.17->llama-index-vector-stores-chroma) (15.0.1)\n",
            "Requirement already satisfied: marshmallow<4.0.0,>=3.18.0 in /usr/local/lib/python3.11/dist-packages (from dataclasses-json->llama-index-core<0.13.0,>=0.12.0->llama-index-vector-stores-chroma) (3.26.1)\n",
            "Requirement already satisfied: cachetools<6.0,>=2.0.0 in /usr/local/lib/python3.11/dist-packages (from google-auth>=1.0.1->kubernetes>=28.1.0->chromadb>=0.5.17->llama-index-vector-stores-chroma) (5.5.2)\n",
            "Requirement already satisfied: pyasn1-modules>=0.2.1 in /usr/local/lib/python3.11/dist-packages (from google-auth>=1.0.1->kubernetes>=28.1.0->chromadb>=0.5.17->llama-index-vector-stores-chroma) (0.4.2)\n",
            "Requirement already satisfied: rsa<5,>=3.1.4 in /usr/local/lib/python3.11/dist-packages (from google-auth>=1.0.1->kubernetes>=28.1.0->chromadb>=0.5.17->llama-index-vector-stores-chroma) (4.9)\n",
            "Requirement already satisfied: filelock in /usr/local/lib/python3.11/dist-packages (from huggingface-hub<1.0,>=0.16.4->tokenizers>=0.13.2->chromadb>=0.5.17->llama-index-vector-stores-chroma) (3.18.0)\n",
            "Requirement already satisfied: zipp>=3.20 in /usr/local/lib/python3.11/dist-packages (from importlib-metadata<8.7.0,>=6.0->opentelemetry-api>=1.2.0->chromadb>=0.5.17->llama-index-vector-stores-chroma) (3.21.0)\n",
            "Requirement already satisfied: mdurl~=0.1 in /usr/local/lib/python3.11/dist-packages (from markdown-it-py>=2.2.0->rich>=10.11.0->chromadb>=0.5.17->llama-index-vector-stores-chroma) (0.1.2)\n",
            "Requirement already satisfied: sniffio>=1.1 in /usr/local/lib/python3.11/dist-packages (from anyio->httpx>=0.27.0->chromadb>=0.5.17->llama-index-vector-stores-chroma) (1.3.1)\n",
            "Requirement already satisfied: humanfriendly>=9.1 in /usr/local/lib/python3.11/dist-packages (from coloredlogs->onnxruntime>=1.14.1->chromadb>=0.5.17->llama-index-vector-stores-chroma) (10.0)\n",
            "Requirement already satisfied: colorama>=0.4 in /usr/local/lib/python3.11/dist-packages (from griffe->banks<3.0.0,>=2.0.0->llama-index-core<0.13.0,>=0.12.0->llama-index-vector-stores-chroma) (0.4.6)\n",
            "Requirement already satisfied: MarkupSafe>=2.0 in /usr/local/lib/python3.11/dist-packages (from jinja2->banks<3.0.0,>=2.0.0->llama-index-core<0.13.0,>=0.12.0->llama-index-vector-stores-chroma) (3.0.2)\n",
            "Requirement already satisfied: mpmath<1.4,>=1.1.0 in /usr/local/lib/python3.11/dist-packages (from sympy->onnxruntime>=1.14.1->chromadb>=0.5.17->llama-index-vector-stores-chroma) (1.3.0)\n",
            "Requirement already satisfied: pyasn1<0.7.0,>=0.6.1 in /usr/local/lib/python3.11/dist-packages (from pyasn1-modules>=0.2.1->google-auth>=1.0.1->kubernetes>=28.1.0->chromadb>=0.5.17->llama-index-vector-stores-chroma) (0.6.1)\n"
          ]
        }
      ]
    },
    {
      "cell_type": "code",
      "source": [
        "!pip install llama-index datasets llama-index-callbacks-arize-phoenix llama-index-vector-stores-chroma llama-index-llms-huggingface-api -U -q\n",
        "!pip install llama-index-embeddings-huggingface"
      ],
      "metadata": {
        "colab": {
          "base_uri": "https://localhost:8080/"
        },
        "id": "WgNCeDrzZiVm",
        "outputId": "aece7f24-4230-4009-8283-a1c768f78a4a"
      },
      "execution_count": 9,
      "outputs": [
        {
          "output_type": "stream",
          "name": "stdout",
          "text": [
            "Requirement already satisfied: llama-index-embeddings-huggingface in /usr/local/lib/python3.11/dist-packages (0.5.2)\n",
            "Requirement already satisfied: huggingface-hub>=0.19.0 in /usr/local/lib/python3.11/dist-packages (from huggingface-hub[inference]>=0.19.0->llama-index-embeddings-huggingface) (0.30.1)\n",
            "Requirement already satisfied: llama-index-core<0.13.0,>=0.12.0 in /usr/local/lib/python3.11/dist-packages (from llama-index-embeddings-huggingface) (0.12.28)\n",
            "Requirement already satisfied: sentence-transformers>=2.6.1 in /usr/local/lib/python3.11/dist-packages (from llama-index-embeddings-huggingface) (3.4.1)\n",
            "Requirement already satisfied: filelock in /usr/local/lib/python3.11/dist-packages (from huggingface-hub>=0.19.0->huggingface-hub[inference]>=0.19.0->llama-index-embeddings-huggingface) (3.18.0)\n",
            "Requirement already satisfied: fsspec>=2023.5.0 in /usr/local/lib/python3.11/dist-packages (from huggingface-hub>=0.19.0->huggingface-hub[inference]>=0.19.0->llama-index-embeddings-huggingface) (2024.12.0)\n",
            "Requirement already satisfied: packaging>=20.9 in /usr/local/lib/python3.11/dist-packages (from huggingface-hub>=0.19.0->huggingface-hub[inference]>=0.19.0->llama-index-embeddings-huggingface) (24.2)\n",
            "Requirement already satisfied: pyyaml>=5.1 in /usr/local/lib/python3.11/dist-packages (from huggingface-hub>=0.19.0->huggingface-hub[inference]>=0.19.0->llama-index-embeddings-huggingface) (6.0.2)\n",
            "Requirement already satisfied: requests in /usr/local/lib/python3.11/dist-packages (from huggingface-hub>=0.19.0->huggingface-hub[inference]>=0.19.0->llama-index-embeddings-huggingface) (2.32.3)\n",
            "Requirement already satisfied: tqdm>=4.42.1 in /usr/local/lib/python3.11/dist-packages (from huggingface-hub>=0.19.0->huggingface-hub[inference]>=0.19.0->llama-index-embeddings-huggingface) (4.67.1)\n",
            "Requirement already satisfied: typing-extensions>=3.7.4.3 in /usr/local/lib/python3.11/dist-packages (from huggingface-hub>=0.19.0->huggingface-hub[inference]>=0.19.0->llama-index-embeddings-huggingface) (4.13.0)\n",
            "Requirement already satisfied: aiohttp in /usr/local/lib/python3.11/dist-packages (from huggingface-hub[inference]>=0.19.0->llama-index-embeddings-huggingface) (3.11.15)\n",
            "Requirement already satisfied: SQLAlchemy>=1.4.49 in /usr/local/lib/python3.11/dist-packages (from SQLAlchemy[asyncio]>=1.4.49->llama-index-core<0.13.0,>=0.12.0->llama-index-embeddings-huggingface) (2.0.40)\n",
            "Requirement already satisfied: banks<3.0.0,>=2.0.0 in /usr/local/lib/python3.11/dist-packages (from llama-index-core<0.13.0,>=0.12.0->llama-index-embeddings-huggingface) (2.1.1)\n",
            "Requirement already satisfied: dataclasses-json in /usr/local/lib/python3.11/dist-packages (from llama-index-core<0.13.0,>=0.12.0->llama-index-embeddings-huggingface) (0.6.7)\n",
            "Requirement already satisfied: deprecated>=1.2.9.3 in /usr/local/lib/python3.11/dist-packages (from llama-index-core<0.13.0,>=0.12.0->llama-index-embeddings-huggingface) (1.2.18)\n",
            "Requirement already satisfied: dirtyjson<2.0.0,>=1.0.8 in /usr/local/lib/python3.11/dist-packages (from llama-index-core<0.13.0,>=0.12.0->llama-index-embeddings-huggingface) (1.0.8)\n",
            "Requirement already satisfied: filetype<2.0.0,>=1.2.0 in /usr/local/lib/python3.11/dist-packages (from llama-index-core<0.13.0,>=0.12.0->llama-index-embeddings-huggingface) (1.2.0)\n",
            "Requirement already satisfied: httpx in /usr/local/lib/python3.11/dist-packages (from llama-index-core<0.13.0,>=0.12.0->llama-index-embeddings-huggingface) (0.28.1)\n",
            "Requirement already satisfied: nest-asyncio<2.0.0,>=1.5.8 in /usr/local/lib/python3.11/dist-packages (from llama-index-core<0.13.0,>=0.12.0->llama-index-embeddings-huggingface) (1.6.0)\n",
            "Requirement already satisfied: networkx>=3.0 in /usr/local/lib/python3.11/dist-packages (from llama-index-core<0.13.0,>=0.12.0->llama-index-embeddings-huggingface) (3.4.2)\n",
            "Requirement already satisfied: nltk>3.8.1 in /usr/local/lib/python3.11/dist-packages (from llama-index-core<0.13.0,>=0.12.0->llama-index-embeddings-huggingface) (3.9.1)\n",
            "Requirement already satisfied: numpy in /usr/local/lib/python3.11/dist-packages (from llama-index-core<0.13.0,>=0.12.0->llama-index-embeddings-huggingface) (1.26.4)\n",
            "Requirement already satisfied: pillow>=9.0.0 in /usr/local/lib/python3.11/dist-packages (from llama-index-core<0.13.0,>=0.12.0->llama-index-embeddings-huggingface) (11.1.0)\n",
            "Requirement already satisfied: pydantic>=2.8.0 in /usr/local/lib/python3.11/dist-packages (from llama-index-core<0.13.0,>=0.12.0->llama-index-embeddings-huggingface) (2.11.1)\n",
            "Requirement already satisfied: tenacity!=8.4.0,<10.0.0,>=8.2.0 in /usr/local/lib/python3.11/dist-packages (from llama-index-core<0.13.0,>=0.12.0->llama-index-embeddings-huggingface) (8.5.0)\n",
            "Requirement already satisfied: tiktoken>=0.3.3 in /usr/local/lib/python3.11/dist-packages (from llama-index-core<0.13.0,>=0.12.0->llama-index-embeddings-huggingface) (0.9.0)\n",
            "Requirement already satisfied: typing-inspect>=0.8.0 in /usr/local/lib/python3.11/dist-packages (from llama-index-core<0.13.0,>=0.12.0->llama-index-embeddings-huggingface) (0.9.0)\n",
            "Requirement already satisfied: wrapt in /usr/local/lib/python3.11/dist-packages (from llama-index-core<0.13.0,>=0.12.0->llama-index-embeddings-huggingface) (1.17.2)\n",
            "Requirement already satisfied: transformers<5.0.0,>=4.41.0 in /usr/local/lib/python3.11/dist-packages (from sentence-transformers>=2.6.1->llama-index-embeddings-huggingface) (4.50.3)\n",
            "Requirement already satisfied: torch>=1.11.0 in /usr/local/lib/python3.11/dist-packages (from sentence-transformers>=2.6.1->llama-index-embeddings-huggingface) (2.6.0+cu124)\n",
            "Requirement already satisfied: scikit-learn in /usr/local/lib/python3.11/dist-packages (from sentence-transformers>=2.6.1->llama-index-embeddings-huggingface) (1.6.1)\n",
            "Requirement already satisfied: scipy in /usr/local/lib/python3.11/dist-packages (from sentence-transformers>=2.6.1->llama-index-embeddings-huggingface) (1.14.1)\n",
            "Requirement already satisfied: aiohappyeyeballs>=2.3.0 in /usr/local/lib/python3.11/dist-packages (from aiohttp->huggingface-hub[inference]>=0.19.0->llama-index-embeddings-huggingface) (2.6.1)\n",
            "Requirement already satisfied: aiosignal>=1.1.2 in /usr/local/lib/python3.11/dist-packages (from aiohttp->huggingface-hub[inference]>=0.19.0->llama-index-embeddings-huggingface) (1.3.2)\n",
            "Requirement already satisfied: attrs>=17.3.0 in /usr/local/lib/python3.11/dist-packages (from aiohttp->huggingface-hub[inference]>=0.19.0->llama-index-embeddings-huggingface) (25.3.0)\n",
            "Requirement already satisfied: frozenlist>=1.1.1 in /usr/local/lib/python3.11/dist-packages (from aiohttp->huggingface-hub[inference]>=0.19.0->llama-index-embeddings-huggingface) (1.5.0)\n",
            "Requirement already satisfied: multidict<7.0,>=4.5 in /usr/local/lib/python3.11/dist-packages (from aiohttp->huggingface-hub[inference]>=0.19.0->llama-index-embeddings-huggingface) (6.3.0)\n",
            "Requirement already satisfied: propcache>=0.2.0 in /usr/local/lib/python3.11/dist-packages (from aiohttp->huggingface-hub[inference]>=0.19.0->llama-index-embeddings-huggingface) (0.3.1)\n",
            "Requirement already satisfied: yarl<2.0,>=1.17.0 in /usr/local/lib/python3.11/dist-packages (from aiohttp->huggingface-hub[inference]>=0.19.0->llama-index-embeddings-huggingface) (1.18.3)\n",
            "Requirement already satisfied: griffe in /usr/local/lib/python3.11/dist-packages (from banks<3.0.0,>=2.0.0->llama-index-core<0.13.0,>=0.12.0->llama-index-embeddings-huggingface) (1.7.2)\n",
            "Requirement already satisfied: jinja2 in /usr/local/lib/python3.11/dist-packages (from banks<3.0.0,>=2.0.0->llama-index-core<0.13.0,>=0.12.0->llama-index-embeddings-huggingface) (3.1.6)\n",
            "Requirement already satisfied: platformdirs in /usr/local/lib/python3.11/dist-packages (from banks<3.0.0,>=2.0.0->llama-index-core<0.13.0,>=0.12.0->llama-index-embeddings-huggingface) (4.3.7)\n",
            "Requirement already satisfied: click in /usr/local/lib/python3.11/dist-packages (from nltk>3.8.1->llama-index-core<0.13.0,>=0.12.0->llama-index-embeddings-huggingface) (8.1.8)\n",
            "Requirement already satisfied: joblib in /usr/local/lib/python3.11/dist-packages (from nltk>3.8.1->llama-index-core<0.13.0,>=0.12.0->llama-index-embeddings-huggingface) (1.4.2)\n",
            "Requirement already satisfied: regex>=2021.8.3 in /usr/local/lib/python3.11/dist-packages (from nltk>3.8.1->llama-index-core<0.13.0,>=0.12.0->llama-index-embeddings-huggingface) (2024.11.6)\n",
            "Requirement already satisfied: annotated-types>=0.6.0 in /usr/local/lib/python3.11/dist-packages (from pydantic>=2.8.0->llama-index-core<0.13.0,>=0.12.0->llama-index-embeddings-huggingface) (0.7.0)\n",
            "Requirement already satisfied: pydantic-core==2.33.0 in /usr/local/lib/python3.11/dist-packages (from pydantic>=2.8.0->llama-index-core<0.13.0,>=0.12.0->llama-index-embeddings-huggingface) (2.33.0)\n",
            "Requirement already satisfied: typing-inspection>=0.4.0 in /usr/local/lib/python3.11/dist-packages (from pydantic>=2.8.0->llama-index-core<0.13.0,>=0.12.0->llama-index-embeddings-huggingface) (0.4.0)\n",
            "Requirement already satisfied: charset-normalizer<4,>=2 in /usr/local/lib/python3.11/dist-packages (from requests->huggingface-hub>=0.19.0->huggingface-hub[inference]>=0.19.0->llama-index-embeddings-huggingface) (3.4.1)\n",
            "Requirement already satisfied: idna<4,>=2.5 in /usr/local/lib/python3.11/dist-packages (from requests->huggingface-hub>=0.19.0->huggingface-hub[inference]>=0.19.0->llama-index-embeddings-huggingface) (3.10)\n",
            "Requirement already satisfied: urllib3<3,>=1.21.1 in /usr/local/lib/python3.11/dist-packages (from requests->huggingface-hub>=0.19.0->huggingface-hub[inference]>=0.19.0->llama-index-embeddings-huggingface) (2.3.0)\n",
            "Requirement already satisfied: certifi>=2017.4.17 in /usr/local/lib/python3.11/dist-packages (from requests->huggingface-hub>=0.19.0->huggingface-hub[inference]>=0.19.0->llama-index-embeddings-huggingface) (2025.1.31)\n",
            "Requirement already satisfied: greenlet>=1 in /usr/local/lib/python3.11/dist-packages (from SQLAlchemy>=1.4.49->SQLAlchemy[asyncio]>=1.4.49->llama-index-core<0.13.0,>=0.12.0->llama-index-embeddings-huggingface) (3.1.1)\n",
            "Requirement already satisfied: nvidia-cuda-nvrtc-cu12==12.4.127 in /usr/local/lib/python3.11/dist-packages (from torch>=1.11.0->sentence-transformers>=2.6.1->llama-index-embeddings-huggingface) (12.4.127)\n",
            "Requirement already satisfied: nvidia-cuda-runtime-cu12==12.4.127 in /usr/local/lib/python3.11/dist-packages (from torch>=1.11.0->sentence-transformers>=2.6.1->llama-index-embeddings-huggingface) (12.4.127)\n",
            "Requirement already satisfied: nvidia-cuda-cupti-cu12==12.4.127 in /usr/local/lib/python3.11/dist-packages (from torch>=1.11.0->sentence-transformers>=2.6.1->llama-index-embeddings-huggingface) (12.4.127)\n",
            "Requirement already satisfied: nvidia-cudnn-cu12==9.1.0.70 in /usr/local/lib/python3.11/dist-packages (from torch>=1.11.0->sentence-transformers>=2.6.1->llama-index-embeddings-huggingface) (9.1.0.70)\n",
            "Requirement already satisfied: nvidia-cublas-cu12==12.4.5.8 in /usr/local/lib/python3.11/dist-packages (from torch>=1.11.0->sentence-transformers>=2.6.1->llama-index-embeddings-huggingface) (12.4.5.8)\n",
            "Requirement already satisfied: nvidia-cufft-cu12==11.2.1.3 in /usr/local/lib/python3.11/dist-packages (from torch>=1.11.0->sentence-transformers>=2.6.1->llama-index-embeddings-huggingface) (11.2.1.3)\n",
            "Requirement already satisfied: nvidia-curand-cu12==10.3.5.147 in /usr/local/lib/python3.11/dist-packages (from torch>=1.11.0->sentence-transformers>=2.6.1->llama-index-embeddings-huggingface) (10.3.5.147)\n",
            "Requirement already satisfied: nvidia-cusolver-cu12==11.6.1.9 in /usr/local/lib/python3.11/dist-packages (from torch>=1.11.0->sentence-transformers>=2.6.1->llama-index-embeddings-huggingface) (11.6.1.9)\n",
            "Requirement already satisfied: nvidia-cusparse-cu12==12.3.1.170 in /usr/local/lib/python3.11/dist-packages (from torch>=1.11.0->sentence-transformers>=2.6.1->llama-index-embeddings-huggingface) (12.3.1.170)\n",
            "Requirement already satisfied: nvidia-cusparselt-cu12==0.6.2 in /usr/local/lib/python3.11/dist-packages (from torch>=1.11.0->sentence-transformers>=2.6.1->llama-index-embeddings-huggingface) (0.6.2)\n",
            "Requirement already satisfied: nvidia-nccl-cu12==2.21.5 in /usr/local/lib/python3.11/dist-packages (from torch>=1.11.0->sentence-transformers>=2.6.1->llama-index-embeddings-huggingface) (2.21.5)\n",
            "Requirement already satisfied: nvidia-nvtx-cu12==12.4.127 in /usr/local/lib/python3.11/dist-packages (from torch>=1.11.0->sentence-transformers>=2.6.1->llama-index-embeddings-huggingface) (12.4.127)\n",
            "Requirement already satisfied: nvidia-nvjitlink-cu12==12.4.127 in /usr/local/lib/python3.11/dist-packages (from torch>=1.11.0->sentence-transformers>=2.6.1->llama-index-embeddings-huggingface) (12.4.127)\n",
            "Requirement already satisfied: triton==3.2.0 in /usr/local/lib/python3.11/dist-packages (from torch>=1.11.0->sentence-transformers>=2.6.1->llama-index-embeddings-huggingface) (3.2.0)\n",
            "Requirement already satisfied: sympy==1.13.1 in /usr/local/lib/python3.11/dist-packages (from torch>=1.11.0->sentence-transformers>=2.6.1->llama-index-embeddings-huggingface) (1.13.1)\n",
            "Requirement already satisfied: mpmath<1.4,>=1.1.0 in /usr/local/lib/python3.11/dist-packages (from sympy==1.13.1->torch>=1.11.0->sentence-transformers>=2.6.1->llama-index-embeddings-huggingface) (1.3.0)\n",
            "Requirement already satisfied: tokenizers<0.22,>=0.21 in /usr/local/lib/python3.11/dist-packages (from transformers<5.0.0,>=4.41.0->sentence-transformers>=2.6.1->llama-index-embeddings-huggingface) (0.21.1)\n",
            "Requirement already satisfied: safetensors>=0.4.3 in /usr/local/lib/python3.11/dist-packages (from transformers<5.0.0,>=4.41.0->sentence-transformers>=2.6.1->llama-index-embeddings-huggingface) (0.5.3)\n",
            "Requirement already satisfied: mypy-extensions>=0.3.0 in /usr/local/lib/python3.11/dist-packages (from typing-inspect>=0.8.0->llama-index-core<0.13.0,>=0.12.0->llama-index-embeddings-huggingface) (1.0.0)\n",
            "Requirement already satisfied: marshmallow<4.0.0,>=3.18.0 in /usr/local/lib/python3.11/dist-packages (from dataclasses-json->llama-index-core<0.13.0,>=0.12.0->llama-index-embeddings-huggingface) (3.26.1)\n",
            "Requirement already satisfied: anyio in /usr/local/lib/python3.11/dist-packages (from httpx->llama-index-core<0.13.0,>=0.12.0->llama-index-embeddings-huggingface) (4.9.0)\n",
            "Requirement already satisfied: httpcore==1.* in /usr/local/lib/python3.11/dist-packages (from httpx->llama-index-core<0.13.0,>=0.12.0->llama-index-embeddings-huggingface) (1.0.7)\n",
            "Requirement already satisfied: h11<0.15,>=0.13 in /usr/local/lib/python3.11/dist-packages (from httpcore==1.*->httpx->llama-index-core<0.13.0,>=0.12.0->llama-index-embeddings-huggingface) (0.14.0)\n",
            "Requirement already satisfied: threadpoolctl>=3.1.0 in /usr/local/lib/python3.11/dist-packages (from scikit-learn->sentence-transformers>=2.6.1->llama-index-embeddings-huggingface) (3.6.0)\n",
            "Requirement already satisfied: sniffio>=1.1 in /usr/local/lib/python3.11/dist-packages (from anyio->httpx->llama-index-core<0.13.0,>=0.12.0->llama-index-embeddings-huggingface) (1.3.1)\n",
            "Requirement already satisfied: colorama>=0.4 in /usr/local/lib/python3.11/dist-packages (from griffe->banks<3.0.0,>=2.0.0->llama-index-core<0.13.0,>=0.12.0->llama-index-embeddings-huggingface) (0.4.6)\n",
            "Requirement already satisfied: MarkupSafe>=2.0 in /usr/local/lib/python3.11/dist-packages (from jinja2->banks<3.0.0,>=2.0.0->llama-index-core<0.13.0,>=0.12.0->llama-index-embeddings-huggingface) (3.0.2)\n"
          ]
        }
      ]
    },
    {
      "cell_type": "code",
      "source": [
        "from datasets import load_dataset\n",
        "from pathlib import Path\n",
        "\n",
        "dataset = load_dataset(path=\"dvilasuero/finepersonas-v0.1-tiny\", split=\"train\")\n",
        "\n",
        "Path(\"data\").mkdir(parents=True, exist_ok=True)\n",
        "for i, persona in enumerate(dataset):\n",
        "    with open(Path(\"data\") / f\"persona_{i}.txt\", \"w\") as f:\n",
        "        f.write(persona[\"persona\"])"
      ],
      "metadata": {
        "id": "Z0tIIp3uZdxX"
      },
      "execution_count": 10,
      "outputs": []
    },
    {
      "cell_type": "code",
      "source": [
        "from llama_index.core import SimpleDirectoryReader\n",
        "\n",
        "reader = SimpleDirectoryReader(input_dir=\"data\")\n",
        "documents = reader.load_data()\n",
        "len(documents)"
      ],
      "metadata": {
        "colab": {
          "base_uri": "https://localhost:8080/"
        },
        "id": "JMOEvaV5ZZ32",
        "outputId": "020770b9-1ced-4324-d501-bd51e19e9920"
      },
      "execution_count": 11,
      "outputs": [
        {
          "output_type": "execute_result",
          "data": {
            "text/plain": [
              "5000"
            ]
          },
          "metadata": {},
          "execution_count": 11
        }
      ]
    },
    {
      "cell_type": "code",
      "source": [
        "!pip install llama-index-llms-huggingface\n",
        "!pip install llama-index\n",
        "!pip install llama-index-embeddings-huggingface-api"
      ],
      "metadata": {
        "colab": {
          "base_uri": "https://localhost:8080/"
        },
        "id": "BiHRW3MiaNRP",
        "outputId": "4b2ccc42-78e1-4aa3-9cce-9faa03a465b1"
      },
      "execution_count": 12,
      "outputs": [
        {
          "output_type": "stream",
          "name": "stdout",
          "text": [
            "Requirement already satisfied: llama-index-llms-huggingface in /usr/local/lib/python3.11/dist-packages (0.4.2)\n",
            "Requirement already satisfied: huggingface-hub>=0.23.0 in /usr/local/lib/python3.11/dist-packages (from llama-index-llms-huggingface) (0.30.1)\n",
            "Requirement already satisfied: llama-index-core<0.13.0,>=0.12.0 in /usr/local/lib/python3.11/dist-packages (from llama-index-llms-huggingface) (0.12.28)\n",
            "Requirement already satisfied: text-generation<0.8.0,>=0.7.0 in /usr/local/lib/python3.11/dist-packages (from llama-index-llms-huggingface) (0.7.0)\n",
            "Requirement already satisfied: torch<3.0.0,>=2.1.2 in /usr/local/lib/python3.11/dist-packages (from llama-index-llms-huggingface) (2.6.0+cu124)\n",
            "Requirement already satisfied: transformers<5.0.0,>=4.37.0 in /usr/local/lib/python3.11/dist-packages (from transformers[torch]<5.0.0,>=4.37.0->llama-index-llms-huggingface) (4.50.3)\n",
            "Requirement already satisfied: filelock in /usr/local/lib/python3.11/dist-packages (from huggingface-hub>=0.23.0->llama-index-llms-huggingface) (3.18.0)\n",
            "Requirement already satisfied: fsspec>=2023.5.0 in /usr/local/lib/python3.11/dist-packages (from huggingface-hub>=0.23.0->llama-index-llms-huggingface) (2024.12.0)\n",
            "Requirement already satisfied: packaging>=20.9 in /usr/local/lib/python3.11/dist-packages (from huggingface-hub>=0.23.0->llama-index-llms-huggingface) (24.2)\n",
            "Requirement already satisfied: pyyaml>=5.1 in /usr/local/lib/python3.11/dist-packages (from huggingface-hub>=0.23.0->llama-index-llms-huggingface) (6.0.2)\n",
            "Requirement already satisfied: requests in /usr/local/lib/python3.11/dist-packages (from huggingface-hub>=0.23.0->llama-index-llms-huggingface) (2.32.3)\n",
            "Requirement already satisfied: tqdm>=4.42.1 in /usr/local/lib/python3.11/dist-packages (from huggingface-hub>=0.23.0->llama-index-llms-huggingface) (4.67.1)\n",
            "Requirement already satisfied: typing-extensions>=3.7.4.3 in /usr/local/lib/python3.11/dist-packages (from huggingface-hub>=0.23.0->llama-index-llms-huggingface) (4.13.0)\n",
            "Requirement already satisfied: SQLAlchemy>=1.4.49 in /usr/local/lib/python3.11/dist-packages (from SQLAlchemy[asyncio]>=1.4.49->llama-index-core<0.13.0,>=0.12.0->llama-index-llms-huggingface) (2.0.40)\n",
            "Requirement already satisfied: aiohttp<4.0.0,>=3.8.6 in /usr/local/lib/python3.11/dist-packages (from llama-index-core<0.13.0,>=0.12.0->llama-index-llms-huggingface) (3.11.15)\n",
            "Requirement already satisfied: banks<3.0.0,>=2.0.0 in /usr/local/lib/python3.11/dist-packages (from llama-index-core<0.13.0,>=0.12.0->llama-index-llms-huggingface) (2.1.1)\n",
            "Requirement already satisfied: dataclasses-json in /usr/local/lib/python3.11/dist-packages (from llama-index-core<0.13.0,>=0.12.0->llama-index-llms-huggingface) (0.6.7)\n",
            "Requirement already satisfied: deprecated>=1.2.9.3 in /usr/local/lib/python3.11/dist-packages (from llama-index-core<0.13.0,>=0.12.0->llama-index-llms-huggingface) (1.2.18)\n",
            "Requirement already satisfied: dirtyjson<2.0.0,>=1.0.8 in /usr/local/lib/python3.11/dist-packages (from llama-index-core<0.13.0,>=0.12.0->llama-index-llms-huggingface) (1.0.8)\n",
            "Requirement already satisfied: filetype<2.0.0,>=1.2.0 in /usr/local/lib/python3.11/dist-packages (from llama-index-core<0.13.0,>=0.12.0->llama-index-llms-huggingface) (1.2.0)\n",
            "Requirement already satisfied: httpx in /usr/local/lib/python3.11/dist-packages (from llama-index-core<0.13.0,>=0.12.0->llama-index-llms-huggingface) (0.28.1)\n",
            "Requirement already satisfied: nest-asyncio<2.0.0,>=1.5.8 in /usr/local/lib/python3.11/dist-packages (from llama-index-core<0.13.0,>=0.12.0->llama-index-llms-huggingface) (1.6.0)\n",
            "Requirement already satisfied: networkx>=3.0 in /usr/local/lib/python3.11/dist-packages (from llama-index-core<0.13.0,>=0.12.0->llama-index-llms-huggingface) (3.4.2)\n",
            "Requirement already satisfied: nltk>3.8.1 in /usr/local/lib/python3.11/dist-packages (from llama-index-core<0.13.0,>=0.12.0->llama-index-llms-huggingface) (3.9.1)\n",
            "Requirement already satisfied: numpy in /usr/local/lib/python3.11/dist-packages (from llama-index-core<0.13.0,>=0.12.0->llama-index-llms-huggingface) (1.26.4)\n",
            "Requirement already satisfied: pillow>=9.0.0 in /usr/local/lib/python3.11/dist-packages (from llama-index-core<0.13.0,>=0.12.0->llama-index-llms-huggingface) (11.1.0)\n",
            "Requirement already satisfied: pydantic>=2.8.0 in /usr/local/lib/python3.11/dist-packages (from llama-index-core<0.13.0,>=0.12.0->llama-index-llms-huggingface) (2.11.1)\n",
            "Requirement already satisfied: tenacity!=8.4.0,<10.0.0,>=8.2.0 in /usr/local/lib/python3.11/dist-packages (from llama-index-core<0.13.0,>=0.12.0->llama-index-llms-huggingface) (8.5.0)\n",
            "Requirement already satisfied: tiktoken>=0.3.3 in /usr/local/lib/python3.11/dist-packages (from llama-index-core<0.13.0,>=0.12.0->llama-index-llms-huggingface) (0.9.0)\n",
            "Requirement already satisfied: typing-inspect>=0.8.0 in /usr/local/lib/python3.11/dist-packages (from llama-index-core<0.13.0,>=0.12.0->llama-index-llms-huggingface) (0.9.0)\n",
            "Requirement already satisfied: wrapt in /usr/local/lib/python3.11/dist-packages (from llama-index-core<0.13.0,>=0.12.0->llama-index-llms-huggingface) (1.17.2)\n",
            "Requirement already satisfied: jinja2 in /usr/local/lib/python3.11/dist-packages (from torch<3.0.0,>=2.1.2->llama-index-llms-huggingface) (3.1.6)\n",
            "Requirement already satisfied: nvidia-cuda-nvrtc-cu12==12.4.127 in /usr/local/lib/python3.11/dist-packages (from torch<3.0.0,>=2.1.2->llama-index-llms-huggingface) (12.4.127)\n",
            "Requirement already satisfied: nvidia-cuda-runtime-cu12==12.4.127 in /usr/local/lib/python3.11/dist-packages (from torch<3.0.0,>=2.1.2->llama-index-llms-huggingface) (12.4.127)\n",
            "Requirement already satisfied: nvidia-cuda-cupti-cu12==12.4.127 in /usr/local/lib/python3.11/dist-packages (from torch<3.0.0,>=2.1.2->llama-index-llms-huggingface) (12.4.127)\n",
            "Requirement already satisfied: nvidia-cudnn-cu12==9.1.0.70 in /usr/local/lib/python3.11/dist-packages (from torch<3.0.0,>=2.1.2->llama-index-llms-huggingface) (9.1.0.70)\n",
            "Requirement already satisfied: nvidia-cublas-cu12==12.4.5.8 in /usr/local/lib/python3.11/dist-packages (from torch<3.0.0,>=2.1.2->llama-index-llms-huggingface) (12.4.5.8)\n",
            "Requirement already satisfied: nvidia-cufft-cu12==11.2.1.3 in /usr/local/lib/python3.11/dist-packages (from torch<3.0.0,>=2.1.2->llama-index-llms-huggingface) (11.2.1.3)\n",
            "Requirement already satisfied: nvidia-curand-cu12==10.3.5.147 in /usr/local/lib/python3.11/dist-packages (from torch<3.0.0,>=2.1.2->llama-index-llms-huggingface) (10.3.5.147)\n",
            "Requirement already satisfied: nvidia-cusolver-cu12==11.6.1.9 in /usr/local/lib/python3.11/dist-packages (from torch<3.0.0,>=2.1.2->llama-index-llms-huggingface) (11.6.1.9)\n",
            "Requirement already satisfied: nvidia-cusparse-cu12==12.3.1.170 in /usr/local/lib/python3.11/dist-packages (from torch<3.0.0,>=2.1.2->llama-index-llms-huggingface) (12.3.1.170)\n",
            "Requirement already satisfied: nvidia-cusparselt-cu12==0.6.2 in /usr/local/lib/python3.11/dist-packages (from torch<3.0.0,>=2.1.2->llama-index-llms-huggingface) (0.6.2)\n",
            "Requirement already satisfied: nvidia-nccl-cu12==2.21.5 in /usr/local/lib/python3.11/dist-packages (from torch<3.0.0,>=2.1.2->llama-index-llms-huggingface) (2.21.5)\n",
            "Requirement already satisfied: nvidia-nvtx-cu12==12.4.127 in /usr/local/lib/python3.11/dist-packages (from torch<3.0.0,>=2.1.2->llama-index-llms-huggingface) (12.4.127)\n",
            "Requirement already satisfied: nvidia-nvjitlink-cu12==12.4.127 in /usr/local/lib/python3.11/dist-packages (from torch<3.0.0,>=2.1.2->llama-index-llms-huggingface) (12.4.127)\n",
            "Requirement already satisfied: triton==3.2.0 in /usr/local/lib/python3.11/dist-packages (from torch<3.0.0,>=2.1.2->llama-index-llms-huggingface) (3.2.0)\n",
            "Requirement already satisfied: sympy==1.13.1 in /usr/local/lib/python3.11/dist-packages (from torch<3.0.0,>=2.1.2->llama-index-llms-huggingface) (1.13.1)\n",
            "Requirement already satisfied: mpmath<1.4,>=1.1.0 in /usr/local/lib/python3.11/dist-packages (from sympy==1.13.1->torch<3.0.0,>=2.1.2->llama-index-llms-huggingface) (1.3.0)\n",
            "Requirement already satisfied: regex!=2019.12.17 in /usr/local/lib/python3.11/dist-packages (from transformers<5.0.0,>=4.37.0->transformers[torch]<5.0.0,>=4.37.0->llama-index-llms-huggingface) (2024.11.6)\n",
            "Requirement already satisfied: tokenizers<0.22,>=0.21 in /usr/local/lib/python3.11/dist-packages (from transformers<5.0.0,>=4.37.0->transformers[torch]<5.0.0,>=4.37.0->llama-index-llms-huggingface) (0.21.1)\n",
            "Requirement already satisfied: safetensors>=0.4.3 in /usr/local/lib/python3.11/dist-packages (from transformers<5.0.0,>=4.37.0->transformers[torch]<5.0.0,>=4.37.0->llama-index-llms-huggingface) (0.5.3)\n",
            "Requirement already satisfied: accelerate>=0.26.0 in /usr/local/lib/python3.11/dist-packages (from transformers[torch]<5.0.0,>=4.37.0->llama-index-llms-huggingface) (1.5.2)\n",
            "Requirement already satisfied: psutil in /usr/local/lib/python3.11/dist-packages (from accelerate>=0.26.0->transformers[torch]<5.0.0,>=4.37.0->llama-index-llms-huggingface) (5.9.5)\n",
            "Requirement already satisfied: aiohappyeyeballs>=2.3.0 in /usr/local/lib/python3.11/dist-packages (from aiohttp<4.0.0,>=3.8.6->llama-index-core<0.13.0,>=0.12.0->llama-index-llms-huggingface) (2.6.1)\n",
            "Requirement already satisfied: aiosignal>=1.1.2 in /usr/local/lib/python3.11/dist-packages (from aiohttp<4.0.0,>=3.8.6->llama-index-core<0.13.0,>=0.12.0->llama-index-llms-huggingface) (1.3.2)\n",
            "Requirement already satisfied: attrs>=17.3.0 in /usr/local/lib/python3.11/dist-packages (from aiohttp<4.0.0,>=3.8.6->llama-index-core<0.13.0,>=0.12.0->llama-index-llms-huggingface) (25.3.0)\n",
            "Requirement already satisfied: frozenlist>=1.1.1 in /usr/local/lib/python3.11/dist-packages (from aiohttp<4.0.0,>=3.8.6->llama-index-core<0.13.0,>=0.12.0->llama-index-llms-huggingface) (1.5.0)\n",
            "Requirement already satisfied: multidict<7.0,>=4.5 in /usr/local/lib/python3.11/dist-packages (from aiohttp<4.0.0,>=3.8.6->llama-index-core<0.13.0,>=0.12.0->llama-index-llms-huggingface) (6.3.0)\n",
            "Requirement already satisfied: propcache>=0.2.0 in /usr/local/lib/python3.11/dist-packages (from aiohttp<4.0.0,>=3.8.6->llama-index-core<0.13.0,>=0.12.0->llama-index-llms-huggingface) (0.3.1)\n",
            "Requirement already satisfied: yarl<2.0,>=1.17.0 in /usr/local/lib/python3.11/dist-packages (from aiohttp<4.0.0,>=3.8.6->llama-index-core<0.13.0,>=0.12.0->llama-index-llms-huggingface) (1.18.3)\n",
            "Requirement already satisfied: griffe in /usr/local/lib/python3.11/dist-packages (from banks<3.0.0,>=2.0.0->llama-index-core<0.13.0,>=0.12.0->llama-index-llms-huggingface) (1.7.2)\n",
            "Requirement already satisfied: platformdirs in /usr/local/lib/python3.11/dist-packages (from banks<3.0.0,>=2.0.0->llama-index-core<0.13.0,>=0.12.0->llama-index-llms-huggingface) (4.3.7)\n",
            "Requirement already satisfied: click in /usr/local/lib/python3.11/dist-packages (from nltk>3.8.1->llama-index-core<0.13.0,>=0.12.0->llama-index-llms-huggingface) (8.1.8)\n",
            "Requirement already satisfied: joblib in /usr/local/lib/python3.11/dist-packages (from nltk>3.8.1->llama-index-core<0.13.0,>=0.12.0->llama-index-llms-huggingface) (1.4.2)\n",
            "Requirement already satisfied: annotated-types>=0.6.0 in /usr/local/lib/python3.11/dist-packages (from pydantic>=2.8.0->llama-index-core<0.13.0,>=0.12.0->llama-index-llms-huggingface) (0.7.0)\n",
            "Requirement already satisfied: pydantic-core==2.33.0 in /usr/local/lib/python3.11/dist-packages (from pydantic>=2.8.0->llama-index-core<0.13.0,>=0.12.0->llama-index-llms-huggingface) (2.33.0)\n",
            "Requirement already satisfied: typing-inspection>=0.4.0 in /usr/local/lib/python3.11/dist-packages (from pydantic>=2.8.0->llama-index-core<0.13.0,>=0.12.0->llama-index-llms-huggingface) (0.4.0)\n",
            "Requirement already satisfied: charset-normalizer<4,>=2 in /usr/local/lib/python3.11/dist-packages (from requests->huggingface-hub>=0.23.0->llama-index-llms-huggingface) (3.4.1)\n",
            "Requirement already satisfied: idna<4,>=2.5 in /usr/local/lib/python3.11/dist-packages (from requests->huggingface-hub>=0.23.0->llama-index-llms-huggingface) (3.10)\n",
            "Requirement already satisfied: urllib3<3,>=1.21.1 in /usr/local/lib/python3.11/dist-packages (from requests->huggingface-hub>=0.23.0->llama-index-llms-huggingface) (2.3.0)\n",
            "Requirement already satisfied: certifi>=2017.4.17 in /usr/local/lib/python3.11/dist-packages (from requests->huggingface-hub>=0.23.0->llama-index-llms-huggingface) (2025.1.31)\n",
            "Requirement already satisfied: greenlet>=1 in /usr/local/lib/python3.11/dist-packages (from SQLAlchemy>=1.4.49->SQLAlchemy[asyncio]>=1.4.49->llama-index-core<0.13.0,>=0.12.0->llama-index-llms-huggingface) (3.1.1)\n",
            "Requirement already satisfied: mypy-extensions>=0.3.0 in /usr/local/lib/python3.11/dist-packages (from typing-inspect>=0.8.0->llama-index-core<0.13.0,>=0.12.0->llama-index-llms-huggingface) (1.0.0)\n",
            "Requirement already satisfied: marshmallow<4.0.0,>=3.18.0 in /usr/local/lib/python3.11/dist-packages (from dataclasses-json->llama-index-core<0.13.0,>=0.12.0->llama-index-llms-huggingface) (3.26.1)\n",
            "Requirement already satisfied: anyio in /usr/local/lib/python3.11/dist-packages (from httpx->llama-index-core<0.13.0,>=0.12.0->llama-index-llms-huggingface) (4.9.0)\n",
            "Requirement already satisfied: httpcore==1.* in /usr/local/lib/python3.11/dist-packages (from httpx->llama-index-core<0.13.0,>=0.12.0->llama-index-llms-huggingface) (1.0.7)\n",
            "Requirement already satisfied: h11<0.15,>=0.13 in /usr/local/lib/python3.11/dist-packages (from httpcore==1.*->httpx->llama-index-core<0.13.0,>=0.12.0->llama-index-llms-huggingface) (0.14.0)\n",
            "Requirement already satisfied: MarkupSafe>=2.0 in /usr/local/lib/python3.11/dist-packages (from jinja2->torch<3.0.0,>=2.1.2->llama-index-llms-huggingface) (3.0.2)\n",
            "Requirement already satisfied: sniffio>=1.1 in /usr/local/lib/python3.11/dist-packages (from anyio->httpx->llama-index-core<0.13.0,>=0.12.0->llama-index-llms-huggingface) (1.3.1)\n",
            "Requirement already satisfied: colorama>=0.4 in /usr/local/lib/python3.11/dist-packages (from griffe->banks<3.0.0,>=2.0.0->llama-index-core<0.13.0,>=0.12.0->llama-index-llms-huggingface) (0.4.6)\n",
            "Requirement already satisfied: llama-index in /usr/local/lib/python3.11/dist-packages (0.12.28)\n",
            "Requirement already satisfied: llama-index-agent-openai<0.5.0,>=0.4.0 in /usr/local/lib/python3.11/dist-packages (from llama-index) (0.4.6)\n",
            "Requirement already satisfied: llama-index-cli<0.5.0,>=0.4.1 in /usr/local/lib/python3.11/dist-packages (from llama-index) (0.4.1)\n",
            "Requirement already satisfied: llama-index-core<0.13.0,>=0.12.28 in /usr/local/lib/python3.11/dist-packages (from llama-index) (0.12.28)\n",
            "Requirement already satisfied: llama-index-embeddings-openai<0.4.0,>=0.3.0 in /usr/local/lib/python3.11/dist-packages (from llama-index) (0.3.1)\n",
            "Requirement already satisfied: llama-index-indices-managed-llama-cloud>=0.4.0 in /usr/local/lib/python3.11/dist-packages (from llama-index) (0.6.11)\n",
            "Requirement already satisfied: llama-index-llms-openai<0.4.0,>=0.3.0 in /usr/local/lib/python3.11/dist-packages (from llama-index) (0.3.30)\n",
            "Requirement already satisfied: llama-index-multi-modal-llms-openai<0.5.0,>=0.4.0 in /usr/local/lib/python3.11/dist-packages (from llama-index) (0.4.3)\n",
            "Requirement already satisfied: llama-index-program-openai<0.4.0,>=0.3.0 in /usr/local/lib/python3.11/dist-packages (from llama-index) (0.3.1)\n",
            "Requirement already satisfied: llama-index-question-gen-openai<0.4.0,>=0.3.0 in /usr/local/lib/python3.11/dist-packages (from llama-index) (0.3.0)\n",
            "Requirement already satisfied: llama-index-readers-file<0.5.0,>=0.4.0 in /usr/local/lib/python3.11/dist-packages (from llama-index) (0.4.7)\n",
            "Requirement already satisfied: llama-index-readers-llama-parse>=0.4.0 in /usr/local/lib/python3.11/dist-packages (from llama-index) (0.4.0)\n",
            "Requirement already satisfied: nltk>3.8.1 in /usr/local/lib/python3.11/dist-packages (from llama-index) (3.9.1)\n",
            "Requirement already satisfied: openai>=1.14.0 in /usr/local/lib/python3.11/dist-packages (from llama-index-agent-openai<0.5.0,>=0.4.0->llama-index) (1.70.0)\n",
            "Requirement already satisfied: PyYAML>=6.0.1 in /usr/local/lib/python3.11/dist-packages (from llama-index-core<0.13.0,>=0.12.28->llama-index) (6.0.2)\n",
            "Requirement already satisfied: SQLAlchemy>=1.4.49 in /usr/local/lib/python3.11/dist-packages (from SQLAlchemy[asyncio]>=1.4.49->llama-index-core<0.13.0,>=0.12.28->llama-index) (2.0.40)\n",
            "Requirement already satisfied: aiohttp<4.0.0,>=3.8.6 in /usr/local/lib/python3.11/dist-packages (from llama-index-core<0.13.0,>=0.12.28->llama-index) (3.11.15)\n",
            "Requirement already satisfied: banks<3.0.0,>=2.0.0 in /usr/local/lib/python3.11/dist-packages (from llama-index-core<0.13.0,>=0.12.28->llama-index) (2.1.1)\n",
            "Requirement already satisfied: dataclasses-json in /usr/local/lib/python3.11/dist-packages (from llama-index-core<0.13.0,>=0.12.28->llama-index) (0.6.7)\n",
            "Requirement already satisfied: deprecated>=1.2.9.3 in /usr/local/lib/python3.11/dist-packages (from llama-index-core<0.13.0,>=0.12.28->llama-index) (1.2.18)\n",
            "Requirement already satisfied: dirtyjson<2.0.0,>=1.0.8 in /usr/local/lib/python3.11/dist-packages (from llama-index-core<0.13.0,>=0.12.28->llama-index) (1.0.8)\n",
            "Requirement already satisfied: filetype<2.0.0,>=1.2.0 in /usr/local/lib/python3.11/dist-packages (from llama-index-core<0.13.0,>=0.12.28->llama-index) (1.2.0)\n",
            "Requirement already satisfied: fsspec>=2023.5.0 in /usr/local/lib/python3.11/dist-packages (from llama-index-core<0.13.0,>=0.12.28->llama-index) (2024.12.0)\n",
            "Requirement already satisfied: httpx in /usr/local/lib/python3.11/dist-packages (from llama-index-core<0.13.0,>=0.12.28->llama-index) (0.28.1)\n",
            "Requirement already satisfied: nest-asyncio<2.0.0,>=1.5.8 in /usr/local/lib/python3.11/dist-packages (from llama-index-core<0.13.0,>=0.12.28->llama-index) (1.6.0)\n",
            "Requirement already satisfied: networkx>=3.0 in /usr/local/lib/python3.11/dist-packages (from llama-index-core<0.13.0,>=0.12.28->llama-index) (3.4.2)\n",
            "Requirement already satisfied: numpy in /usr/local/lib/python3.11/dist-packages (from llama-index-core<0.13.0,>=0.12.28->llama-index) (1.26.4)\n",
            "Requirement already satisfied: pillow>=9.0.0 in /usr/local/lib/python3.11/dist-packages (from llama-index-core<0.13.0,>=0.12.28->llama-index) (11.1.0)\n",
            "Requirement already satisfied: pydantic>=2.8.0 in /usr/local/lib/python3.11/dist-packages (from llama-index-core<0.13.0,>=0.12.28->llama-index) (2.11.1)\n",
            "Requirement already satisfied: requests>=2.31.0 in /usr/local/lib/python3.11/dist-packages (from llama-index-core<0.13.0,>=0.12.28->llama-index) (2.32.3)\n",
            "Requirement already satisfied: tenacity!=8.4.0,<10.0.0,>=8.2.0 in /usr/local/lib/python3.11/dist-packages (from llama-index-core<0.13.0,>=0.12.28->llama-index) (8.5.0)\n",
            "Requirement already satisfied: tiktoken>=0.3.3 in /usr/local/lib/python3.11/dist-packages (from llama-index-core<0.13.0,>=0.12.28->llama-index) (0.9.0)\n",
            "Requirement already satisfied: tqdm<5.0.0,>=4.66.1 in /usr/local/lib/python3.11/dist-packages (from llama-index-core<0.13.0,>=0.12.28->llama-index) (4.67.1)\n",
            "Requirement already satisfied: typing-extensions>=4.5.0 in /usr/local/lib/python3.11/dist-packages (from llama-index-core<0.13.0,>=0.12.28->llama-index) (4.13.0)\n",
            "Requirement already satisfied: typing-inspect>=0.8.0 in /usr/local/lib/python3.11/dist-packages (from llama-index-core<0.13.0,>=0.12.28->llama-index) (0.9.0)\n",
            "Requirement already satisfied: wrapt in /usr/local/lib/python3.11/dist-packages (from llama-index-core<0.13.0,>=0.12.28->llama-index) (1.17.2)\n",
            "Requirement already satisfied: llama-cloud<0.2.0,>=0.1.13 in /usr/local/lib/python3.11/dist-packages (from llama-index-indices-managed-llama-cloud>=0.4.0->llama-index) (0.1.17)\n",
            "Requirement already satisfied: beautifulsoup4<5.0.0,>=4.12.3 in /usr/local/lib/python3.11/dist-packages (from llama-index-readers-file<0.5.0,>=0.4.0->llama-index) (4.13.3)\n",
            "Requirement already satisfied: pandas in /usr/local/lib/python3.11/dist-packages (from llama-index-readers-file<0.5.0,>=0.4.0->llama-index) (2.2.2)\n",
            "Requirement already satisfied: pypdf<6.0.0,>=5.1.0 in /usr/local/lib/python3.11/dist-packages (from llama-index-readers-file<0.5.0,>=0.4.0->llama-index) (5.4.0)\n",
            "Requirement already satisfied: striprtf<0.0.27,>=0.0.26 in /usr/local/lib/python3.11/dist-packages (from llama-index-readers-file<0.5.0,>=0.4.0->llama-index) (0.0.26)\n",
            "Requirement already satisfied: llama-parse>=0.5.0 in /usr/local/lib/python3.11/dist-packages (from llama-index-readers-llama-parse>=0.4.0->llama-index) (0.6.4.post1)\n",
            "Requirement already satisfied: click in /usr/local/lib/python3.11/dist-packages (from nltk>3.8.1->llama-index) (8.1.8)\n",
            "Requirement already satisfied: joblib in /usr/local/lib/python3.11/dist-packages (from nltk>3.8.1->llama-index) (1.4.2)\n",
            "Requirement already satisfied: regex>=2021.8.3 in /usr/local/lib/python3.11/dist-packages (from nltk>3.8.1->llama-index) (2024.11.6)\n",
            "Requirement already satisfied: aiohappyeyeballs>=2.3.0 in /usr/local/lib/python3.11/dist-packages (from aiohttp<4.0.0,>=3.8.6->llama-index-core<0.13.0,>=0.12.28->llama-index) (2.6.1)\n",
            "Requirement already satisfied: aiosignal>=1.1.2 in /usr/local/lib/python3.11/dist-packages (from aiohttp<4.0.0,>=3.8.6->llama-index-core<0.13.0,>=0.12.28->llama-index) (1.3.2)\n",
            "Requirement already satisfied: attrs>=17.3.0 in /usr/local/lib/python3.11/dist-packages (from aiohttp<4.0.0,>=3.8.6->llama-index-core<0.13.0,>=0.12.28->llama-index) (25.3.0)\n",
            "Requirement already satisfied: frozenlist>=1.1.1 in /usr/local/lib/python3.11/dist-packages (from aiohttp<4.0.0,>=3.8.6->llama-index-core<0.13.0,>=0.12.28->llama-index) (1.5.0)\n",
            "Requirement already satisfied: multidict<7.0,>=4.5 in /usr/local/lib/python3.11/dist-packages (from aiohttp<4.0.0,>=3.8.6->llama-index-core<0.13.0,>=0.12.28->llama-index) (6.3.0)\n",
            "Requirement already satisfied: propcache>=0.2.0 in /usr/local/lib/python3.11/dist-packages (from aiohttp<4.0.0,>=3.8.6->llama-index-core<0.13.0,>=0.12.28->llama-index) (0.3.1)\n",
            "Requirement already satisfied: yarl<2.0,>=1.17.0 in /usr/local/lib/python3.11/dist-packages (from aiohttp<4.0.0,>=3.8.6->llama-index-core<0.13.0,>=0.12.28->llama-index) (1.18.3)\n",
            "Requirement already satisfied: griffe in /usr/local/lib/python3.11/dist-packages (from banks<3.0.0,>=2.0.0->llama-index-core<0.13.0,>=0.12.28->llama-index) (1.7.2)\n",
            "Requirement already satisfied: jinja2 in /usr/local/lib/python3.11/dist-packages (from banks<3.0.0,>=2.0.0->llama-index-core<0.13.0,>=0.12.28->llama-index) (3.1.6)\n",
            "Requirement already satisfied: platformdirs in /usr/local/lib/python3.11/dist-packages (from banks<3.0.0,>=2.0.0->llama-index-core<0.13.0,>=0.12.28->llama-index) (4.3.7)\n",
            "Requirement already satisfied: soupsieve>1.2 in /usr/local/lib/python3.11/dist-packages (from beautifulsoup4<5.0.0,>=4.12.3->llama-index-readers-file<0.5.0,>=0.4.0->llama-index) (2.6)\n",
            "Requirement already satisfied: certifi>=2024.7.4 in /usr/local/lib/python3.11/dist-packages (from llama-cloud<0.2.0,>=0.1.13->llama-index-indices-managed-llama-cloud>=0.4.0->llama-index) (2025.1.31)\n",
            "Requirement already satisfied: anyio in /usr/local/lib/python3.11/dist-packages (from httpx->llama-index-core<0.13.0,>=0.12.28->llama-index) (4.9.0)\n",
            "Requirement already satisfied: httpcore==1.* in /usr/local/lib/python3.11/dist-packages (from httpx->llama-index-core<0.13.0,>=0.12.28->llama-index) (1.0.7)\n",
            "Requirement already satisfied: idna in /usr/local/lib/python3.11/dist-packages (from httpx->llama-index-core<0.13.0,>=0.12.28->llama-index) (3.10)\n",
            "Requirement already satisfied: h11<0.15,>=0.13 in /usr/local/lib/python3.11/dist-packages (from httpcore==1.*->httpx->llama-index-core<0.13.0,>=0.12.28->llama-index) (0.14.0)\n",
            "Requirement already satisfied: llama-cloud-services>=0.6.4 in /usr/local/lib/python3.11/dist-packages (from llama-parse>=0.5.0->llama-index-readers-llama-parse>=0.4.0->llama-index) (0.6.9)\n",
            "Requirement already satisfied: distro<2,>=1.7.0 in /usr/local/lib/python3.11/dist-packages (from openai>=1.14.0->llama-index-agent-openai<0.5.0,>=0.4.0->llama-index) (1.9.0)\n",
            "Requirement already satisfied: jiter<1,>=0.4.0 in /usr/local/lib/python3.11/dist-packages (from openai>=1.14.0->llama-index-agent-openai<0.5.0,>=0.4.0->llama-index) (0.9.0)\n",
            "Requirement already satisfied: sniffio in /usr/local/lib/python3.11/dist-packages (from openai>=1.14.0->llama-index-agent-openai<0.5.0,>=0.4.0->llama-index) (1.3.1)\n",
            "Requirement already satisfied: annotated-types>=0.6.0 in /usr/local/lib/python3.11/dist-packages (from pydantic>=2.8.0->llama-index-core<0.13.0,>=0.12.28->llama-index) (0.7.0)\n",
            "Requirement already satisfied: pydantic-core==2.33.0 in /usr/local/lib/python3.11/dist-packages (from pydantic>=2.8.0->llama-index-core<0.13.0,>=0.12.28->llama-index) (2.33.0)\n",
            "Requirement already satisfied: typing-inspection>=0.4.0 in /usr/local/lib/python3.11/dist-packages (from pydantic>=2.8.0->llama-index-core<0.13.0,>=0.12.28->llama-index) (0.4.0)\n",
            "Requirement already satisfied: charset-normalizer<4,>=2 in /usr/local/lib/python3.11/dist-packages (from requests>=2.31.0->llama-index-core<0.13.0,>=0.12.28->llama-index) (3.4.1)\n",
            "Requirement already satisfied: urllib3<3,>=1.21.1 in /usr/local/lib/python3.11/dist-packages (from requests>=2.31.0->llama-index-core<0.13.0,>=0.12.28->llama-index) (2.3.0)\n",
            "Requirement already satisfied: greenlet>=1 in /usr/local/lib/python3.11/dist-packages (from SQLAlchemy>=1.4.49->SQLAlchemy[asyncio]>=1.4.49->llama-index-core<0.13.0,>=0.12.28->llama-index) (3.1.1)\n",
            "Requirement already satisfied: mypy-extensions>=0.3.0 in /usr/local/lib/python3.11/dist-packages (from typing-inspect>=0.8.0->llama-index-core<0.13.0,>=0.12.28->llama-index) (1.0.0)\n",
            "Requirement already satisfied: marshmallow<4.0.0,>=3.18.0 in /usr/local/lib/python3.11/dist-packages (from dataclasses-json->llama-index-core<0.13.0,>=0.12.28->llama-index) (3.26.1)\n",
            "Requirement already satisfied: python-dateutil>=2.8.2 in /usr/local/lib/python3.11/dist-packages (from pandas->llama-index-readers-file<0.5.0,>=0.4.0->llama-index) (2.8.2)\n",
            "Requirement already satisfied: pytz>=2020.1 in /usr/local/lib/python3.11/dist-packages (from pandas->llama-index-readers-file<0.5.0,>=0.4.0->llama-index) (2025.2)\n",
            "Requirement already satisfied: tzdata>=2022.7 in /usr/local/lib/python3.11/dist-packages (from pandas->llama-index-readers-file<0.5.0,>=0.4.0->llama-index) (2025.2)\n",
            "Requirement already satisfied: python-dotenv<2.0.0,>=1.0.1 in /usr/local/lib/python3.11/dist-packages (from llama-cloud-services>=0.6.4->llama-parse>=0.5.0->llama-index-readers-llama-parse>=0.4.0->llama-index) (1.1.0)\n",
            "Requirement already satisfied: packaging>=17.0 in /usr/local/lib/python3.11/dist-packages (from marshmallow<4.0.0,>=3.18.0->dataclasses-json->llama-index-core<0.13.0,>=0.12.28->llama-index) (24.2)\n",
            "Requirement already satisfied: six>=1.5 in /usr/local/lib/python3.11/dist-packages (from python-dateutil>=2.8.2->pandas->llama-index-readers-file<0.5.0,>=0.4.0->llama-index) (1.17.0)\n",
            "Requirement already satisfied: colorama>=0.4 in /usr/local/lib/python3.11/dist-packages (from griffe->banks<3.0.0,>=2.0.0->llama-index-core<0.13.0,>=0.12.28->llama-index) (0.4.6)\n",
            "Requirement already satisfied: MarkupSafe>=2.0 in /usr/local/lib/python3.11/dist-packages (from jinja2->banks<3.0.0,>=2.0.0->llama-index-core<0.13.0,>=0.12.28->llama-index) (3.0.2)\n",
            "Requirement already satisfied: llama-index-embeddings-huggingface-api in /usr/local/lib/python3.11/dist-packages (0.3.0)\n",
            "Requirement already satisfied: huggingface-hub>=0.19.0 in /usr/local/lib/python3.11/dist-packages (from huggingface-hub[inference]>=0.19.0->llama-index-embeddings-huggingface-api) (0.30.1)\n",
            "Requirement already satisfied: llama-index-core<0.13.0,>=0.12.0 in /usr/local/lib/python3.11/dist-packages (from llama-index-embeddings-huggingface-api) (0.12.28)\n",
            "Requirement already satisfied: llama-index-utils-huggingface<0.4.0,>=0.3.0 in /usr/local/lib/python3.11/dist-packages (from llama-index-embeddings-huggingface-api) (0.3.0)\n",
            "Requirement already satisfied: filelock in /usr/local/lib/python3.11/dist-packages (from huggingface-hub>=0.19.0->huggingface-hub[inference]>=0.19.0->llama-index-embeddings-huggingface-api) (3.18.0)\n",
            "Requirement already satisfied: fsspec>=2023.5.0 in /usr/local/lib/python3.11/dist-packages (from huggingface-hub>=0.19.0->huggingface-hub[inference]>=0.19.0->llama-index-embeddings-huggingface-api) (2024.12.0)\n",
            "Requirement already satisfied: packaging>=20.9 in /usr/local/lib/python3.11/dist-packages (from huggingface-hub>=0.19.0->huggingface-hub[inference]>=0.19.0->llama-index-embeddings-huggingface-api) (24.2)\n",
            "Requirement already satisfied: pyyaml>=5.1 in /usr/local/lib/python3.11/dist-packages (from huggingface-hub>=0.19.0->huggingface-hub[inference]>=0.19.0->llama-index-embeddings-huggingface-api) (6.0.2)\n",
            "Requirement already satisfied: requests in /usr/local/lib/python3.11/dist-packages (from huggingface-hub>=0.19.0->huggingface-hub[inference]>=0.19.0->llama-index-embeddings-huggingface-api) (2.32.3)\n",
            "Requirement already satisfied: tqdm>=4.42.1 in /usr/local/lib/python3.11/dist-packages (from huggingface-hub>=0.19.0->huggingface-hub[inference]>=0.19.0->llama-index-embeddings-huggingface-api) (4.67.1)\n",
            "Requirement already satisfied: typing-extensions>=3.7.4.3 in /usr/local/lib/python3.11/dist-packages (from huggingface-hub>=0.19.0->huggingface-hub[inference]>=0.19.0->llama-index-embeddings-huggingface-api) (4.13.0)\n",
            "Requirement already satisfied: aiohttp in /usr/local/lib/python3.11/dist-packages (from huggingface-hub[inference]>=0.19.0->llama-index-embeddings-huggingface-api) (3.11.15)\n",
            "Requirement already satisfied: SQLAlchemy>=1.4.49 in /usr/local/lib/python3.11/dist-packages (from SQLAlchemy[asyncio]>=1.4.49->llama-index-core<0.13.0,>=0.12.0->llama-index-embeddings-huggingface-api) (2.0.40)\n",
            "Requirement already satisfied: banks<3.0.0,>=2.0.0 in /usr/local/lib/python3.11/dist-packages (from llama-index-core<0.13.0,>=0.12.0->llama-index-embeddings-huggingface-api) (2.1.1)\n",
            "Requirement already satisfied: dataclasses-json in /usr/local/lib/python3.11/dist-packages (from llama-index-core<0.13.0,>=0.12.0->llama-index-embeddings-huggingface-api) (0.6.7)\n",
            "Requirement already satisfied: deprecated>=1.2.9.3 in /usr/local/lib/python3.11/dist-packages (from llama-index-core<0.13.0,>=0.12.0->llama-index-embeddings-huggingface-api) (1.2.18)\n",
            "Requirement already satisfied: dirtyjson<2.0.0,>=1.0.8 in /usr/local/lib/python3.11/dist-packages (from llama-index-core<0.13.0,>=0.12.0->llama-index-embeddings-huggingface-api) (1.0.8)\n",
            "Requirement already satisfied: filetype<2.0.0,>=1.2.0 in /usr/local/lib/python3.11/dist-packages (from llama-index-core<0.13.0,>=0.12.0->llama-index-embeddings-huggingface-api) (1.2.0)\n",
            "Requirement already satisfied: httpx in /usr/local/lib/python3.11/dist-packages (from llama-index-core<0.13.0,>=0.12.0->llama-index-embeddings-huggingface-api) (0.28.1)\n",
            "Requirement already satisfied: nest-asyncio<2.0.0,>=1.5.8 in /usr/local/lib/python3.11/dist-packages (from llama-index-core<0.13.0,>=0.12.0->llama-index-embeddings-huggingface-api) (1.6.0)\n",
            "Requirement already satisfied: networkx>=3.0 in /usr/local/lib/python3.11/dist-packages (from llama-index-core<0.13.0,>=0.12.0->llama-index-embeddings-huggingface-api) (3.4.2)\n",
            "Requirement already satisfied: nltk>3.8.1 in /usr/local/lib/python3.11/dist-packages (from llama-index-core<0.13.0,>=0.12.0->llama-index-embeddings-huggingface-api) (3.9.1)\n",
            "Requirement already satisfied: numpy in /usr/local/lib/python3.11/dist-packages (from llama-index-core<0.13.0,>=0.12.0->llama-index-embeddings-huggingface-api) (1.26.4)\n",
            "Requirement already satisfied: pillow>=9.0.0 in /usr/local/lib/python3.11/dist-packages (from llama-index-core<0.13.0,>=0.12.0->llama-index-embeddings-huggingface-api) (11.1.0)\n",
            "Requirement already satisfied: pydantic>=2.8.0 in /usr/local/lib/python3.11/dist-packages (from llama-index-core<0.13.0,>=0.12.0->llama-index-embeddings-huggingface-api) (2.11.1)\n",
            "Requirement already satisfied: tenacity!=8.4.0,<10.0.0,>=8.2.0 in /usr/local/lib/python3.11/dist-packages (from llama-index-core<0.13.0,>=0.12.0->llama-index-embeddings-huggingface-api) (8.5.0)\n",
            "Requirement already satisfied: tiktoken>=0.3.3 in /usr/local/lib/python3.11/dist-packages (from llama-index-core<0.13.0,>=0.12.0->llama-index-embeddings-huggingface-api) (0.9.0)\n",
            "Requirement already satisfied: typing-inspect>=0.8.0 in /usr/local/lib/python3.11/dist-packages (from llama-index-core<0.13.0,>=0.12.0->llama-index-embeddings-huggingface-api) (0.9.0)\n",
            "Requirement already satisfied: wrapt in /usr/local/lib/python3.11/dist-packages (from llama-index-core<0.13.0,>=0.12.0->llama-index-embeddings-huggingface-api) (1.17.2)\n",
            "Requirement already satisfied: aiohappyeyeballs>=2.3.0 in /usr/local/lib/python3.11/dist-packages (from aiohttp->huggingface-hub[inference]>=0.19.0->llama-index-embeddings-huggingface-api) (2.6.1)\n",
            "Requirement already satisfied: aiosignal>=1.1.2 in /usr/local/lib/python3.11/dist-packages (from aiohttp->huggingface-hub[inference]>=0.19.0->llama-index-embeddings-huggingface-api) (1.3.2)\n",
            "Requirement already satisfied: attrs>=17.3.0 in /usr/local/lib/python3.11/dist-packages (from aiohttp->huggingface-hub[inference]>=0.19.0->llama-index-embeddings-huggingface-api) (25.3.0)\n",
            "Requirement already satisfied: frozenlist>=1.1.1 in /usr/local/lib/python3.11/dist-packages (from aiohttp->huggingface-hub[inference]>=0.19.0->llama-index-embeddings-huggingface-api) (1.5.0)\n",
            "Requirement already satisfied: multidict<7.0,>=4.5 in /usr/local/lib/python3.11/dist-packages (from aiohttp->huggingface-hub[inference]>=0.19.0->llama-index-embeddings-huggingface-api) (6.3.0)\n",
            "Requirement already satisfied: propcache>=0.2.0 in /usr/local/lib/python3.11/dist-packages (from aiohttp->huggingface-hub[inference]>=0.19.0->llama-index-embeddings-huggingface-api) (0.3.1)\n",
            "Requirement already satisfied: yarl<2.0,>=1.17.0 in /usr/local/lib/python3.11/dist-packages (from aiohttp->huggingface-hub[inference]>=0.19.0->llama-index-embeddings-huggingface-api) (1.18.3)\n",
            "Requirement already satisfied: griffe in /usr/local/lib/python3.11/dist-packages (from banks<3.0.0,>=2.0.0->llama-index-core<0.13.0,>=0.12.0->llama-index-embeddings-huggingface-api) (1.7.2)\n",
            "Requirement already satisfied: jinja2 in /usr/local/lib/python3.11/dist-packages (from banks<3.0.0,>=2.0.0->llama-index-core<0.13.0,>=0.12.0->llama-index-embeddings-huggingface-api) (3.1.6)\n",
            "Requirement already satisfied: platformdirs in /usr/local/lib/python3.11/dist-packages (from banks<3.0.0,>=2.0.0->llama-index-core<0.13.0,>=0.12.0->llama-index-embeddings-huggingface-api) (4.3.7)\n",
            "Requirement already satisfied: click in /usr/local/lib/python3.11/dist-packages (from nltk>3.8.1->llama-index-core<0.13.0,>=0.12.0->llama-index-embeddings-huggingface-api) (8.1.8)\n",
            "Requirement already satisfied: joblib in /usr/local/lib/python3.11/dist-packages (from nltk>3.8.1->llama-index-core<0.13.0,>=0.12.0->llama-index-embeddings-huggingface-api) (1.4.2)\n",
            "Requirement already satisfied: regex>=2021.8.3 in /usr/local/lib/python3.11/dist-packages (from nltk>3.8.1->llama-index-core<0.13.0,>=0.12.0->llama-index-embeddings-huggingface-api) (2024.11.6)\n",
            "Requirement already satisfied: annotated-types>=0.6.0 in /usr/local/lib/python3.11/dist-packages (from pydantic>=2.8.0->llama-index-core<0.13.0,>=0.12.0->llama-index-embeddings-huggingface-api) (0.7.0)\n",
            "Requirement already satisfied: pydantic-core==2.33.0 in /usr/local/lib/python3.11/dist-packages (from pydantic>=2.8.0->llama-index-core<0.13.0,>=0.12.0->llama-index-embeddings-huggingface-api) (2.33.0)\n",
            "Requirement already satisfied: typing-inspection>=0.4.0 in /usr/local/lib/python3.11/dist-packages (from pydantic>=2.8.0->llama-index-core<0.13.0,>=0.12.0->llama-index-embeddings-huggingface-api) (0.4.0)\n",
            "Requirement already satisfied: charset-normalizer<4,>=2 in /usr/local/lib/python3.11/dist-packages (from requests->huggingface-hub>=0.19.0->huggingface-hub[inference]>=0.19.0->llama-index-embeddings-huggingface-api) (3.4.1)\n",
            "Requirement already satisfied: idna<4,>=2.5 in /usr/local/lib/python3.11/dist-packages (from requests->huggingface-hub>=0.19.0->huggingface-hub[inference]>=0.19.0->llama-index-embeddings-huggingface-api) (3.10)\n",
            "Requirement already satisfied: urllib3<3,>=1.21.1 in /usr/local/lib/python3.11/dist-packages (from requests->huggingface-hub>=0.19.0->huggingface-hub[inference]>=0.19.0->llama-index-embeddings-huggingface-api) (2.3.0)\n",
            "Requirement already satisfied: certifi>=2017.4.17 in /usr/local/lib/python3.11/dist-packages (from requests->huggingface-hub>=0.19.0->huggingface-hub[inference]>=0.19.0->llama-index-embeddings-huggingface-api) (2025.1.31)\n",
            "Requirement already satisfied: greenlet>=1 in /usr/local/lib/python3.11/dist-packages (from SQLAlchemy>=1.4.49->SQLAlchemy[asyncio]>=1.4.49->llama-index-core<0.13.0,>=0.12.0->llama-index-embeddings-huggingface-api) (3.1.1)\n",
            "Requirement already satisfied: mypy-extensions>=0.3.0 in /usr/local/lib/python3.11/dist-packages (from typing-inspect>=0.8.0->llama-index-core<0.13.0,>=0.12.0->llama-index-embeddings-huggingface-api) (1.0.0)\n",
            "Requirement already satisfied: marshmallow<4.0.0,>=3.18.0 in /usr/local/lib/python3.11/dist-packages (from dataclasses-json->llama-index-core<0.13.0,>=0.12.0->llama-index-embeddings-huggingface-api) (3.26.1)\n",
            "Requirement already satisfied: anyio in /usr/local/lib/python3.11/dist-packages (from httpx->llama-index-core<0.13.0,>=0.12.0->llama-index-embeddings-huggingface-api) (4.9.0)\n",
            "Requirement already satisfied: httpcore==1.* in /usr/local/lib/python3.11/dist-packages (from httpx->llama-index-core<0.13.0,>=0.12.0->llama-index-embeddings-huggingface-api) (1.0.7)\n",
            "Requirement already satisfied: h11<0.15,>=0.13 in /usr/local/lib/python3.11/dist-packages (from httpcore==1.*->httpx->llama-index-core<0.13.0,>=0.12.0->llama-index-embeddings-huggingface-api) (0.14.0)\n",
            "Requirement already satisfied: sniffio>=1.1 in /usr/local/lib/python3.11/dist-packages (from anyio->httpx->llama-index-core<0.13.0,>=0.12.0->llama-index-embeddings-huggingface-api) (1.3.1)\n",
            "Requirement already satisfied: colorama>=0.4 in /usr/local/lib/python3.11/dist-packages (from griffe->banks<3.0.0,>=2.0.0->llama-index-core<0.13.0,>=0.12.0->llama-index-embeddings-huggingface-api) (0.4.6)\n",
            "Requirement already satisfied: MarkupSafe>=2.0 in /usr/local/lib/python3.11/dist-packages (from jinja2->banks<3.0.0,>=2.0.0->llama-index-core<0.13.0,>=0.12.0->llama-index-embeddings-huggingface-api) (3.0.2)\n"
          ]
        }
      ]
    },
    {
      "cell_type": "code",
      "source": [
        "from llama_index.embeddings.huggingface_api import HuggingFaceInferenceAPIEmbedding\n",
        "from llama_index.core.node_parser import SentenceSplitter\n",
        "from llama_index.core.ingestion import IngestionPipeline\n",
        "\n",
        "# create the pipeline with transformations\n",
        "pipeline = IngestionPipeline(\n",
        "    transformations=[\n",
        "        SentenceSplitter(),\n",
        "        HuggingFaceInferenceAPIEmbedding(model_name=\"BAAI/bge-small-en-v1.5\"),\n",
        "    ]\n",
        ")\n",
        "\n",
        "# run the pipeline sync or async\n",
        "nodes = await pipeline.arun(documents=documents[:10])\n",
        "nodes"
      ],
      "metadata": {
        "colab": {
          "base_uri": "https://localhost:8080/"
        },
        "id": "6t-2f9oiYOhG",
        "outputId": "67efed13-66df-4b87-dbf8-2da4fd34b902"
      },
      "execution_count": 13,
      "outputs": [
        {
          "output_type": "execute_result",
          "data": {
            "text/plain": [
              "[TextNode(id_='1243ff42-70ee-400c-90cb-3a7737693ec2', embedding=[-0.001216684002429247, 0.01964845322072506, 0.04393020272254944, -0.0022480571642518044, -0.01840745285153389, -0.017943937331438065, 0.00985065195709467, 0.0316203273832798, -0.06904757022857666, -0.048689182847738266, 0.0006959806196391582, -0.03956493362784386, -0.049589190632104874, 0.030788980424404144, -0.021688055247068405, -0.0027349144220352173, 0.009125994518399239, 0.0871933177113533, 0.008962465450167656, 0.012264057993888855, 0.014265578240156174, -0.06638182699680328, 0.03564685210585594, -0.01909039169549942, -0.029022326692938805, -0.0002522111462894827, 0.016371166333556175, -0.0065778703428804874, -0.016838744282722473, -0.11301658302545547, -0.061347417533397675, 0.009758883155882359, -0.02667419984936714, 0.01421134453266859, 0.06158554553985596, 0.010618172585964203, 0.01338392123579979, 0.06615825742483139, 0.007938360795378685, 0.017128674313426018, 0.0294652096927166, 0.016287561506032944, -0.025776315480470657, 0.03996922820806503, 0.062217023223638535, -0.01430259644985199, 0.00010036746243713424, -0.013474680483341217, 0.00924605131149292, -0.0062918271869421005, 0.026654371991753578, 0.00532692251726985, -0.04016685113310814, -0.003824699204415083, -0.009306716732680798, 0.12138164043426514, 0.0925208106637001, 0.033557724207639694, -0.020379964262247086, 0.04535149410367012, 0.03688545897603035, 0.021114490926265717, -0.1899230182170868, 0.055461082607507706, -0.012836706824600697, 0.013322371989488602, -0.08828185498714447, 0.00432165339589119, -0.00958778616040945, -0.03797067701816559, -0.04297599568963051, 0.014823413453996181, -0.0501667782664299, 0.010955874808132648, 0.03764115273952484, -0.08306687325239182, 0.038765307515859604, 0.011807220056653023, -0.07413016259670258, 0.01100587472319603, 0.04099729284644127, -0.015015075914561749, -0.00942717120051384, -0.04484493285417557, -0.009596300311386585, 0.013063788414001465, -0.0067698657512664795, 0.005632190965116024, -0.01929679699242115, 0.0014083819696679711, -0.021571476012468338, -0.07425710558891296, 0.05647490918636322, -0.0035753436386585236, -0.02384907938539982, -0.027712015435099602, 0.022907843813300133, 0.04169965535402298, -0.01432708278298378, 0.4145660996437073, -0.021069638431072235, 0.009426775388419628, 0.03323744982481003, -0.022000323981046677, 0.029222426936030388, 0.021752920001745224, -0.015870163217186928, -0.02552441507577896, -0.036326684057712555, -0.006469132844358683, -0.01378961093723774, 0.002961925696581602, -0.05544809252023697, -0.014887404628098011, 0.10115818679332733, -0.00252628605812788, 0.03839273378252983, 0.07570246607065201, 0.002035364741459489, 0.0014735519653186202, 0.02645028568804264, -0.006710720714181662, 0.02487993612885475, 0.02745812200009823, -0.03396250680088997, -0.068621926009655, -0.009689117781817913, 0.05228918045759201, 0.0011178934946656227, 0.01345858070999384, -0.04269830510020256, 0.09029790014028549, -0.042361099272966385, 0.03664663806557655, -0.014839417301118374, 0.04199983552098274, 0.030530381947755814, -0.028820939362049103, 0.03799678012728691, 0.0196889229118824, 0.009276097640395164, -0.004569876007735729, -0.038326457142829895, 0.02021578699350357, -0.10534802079200745, 0.039981719106435776, 0.010811089538037777, -0.023010166361927986, 0.014636273495852947, -0.011900220066308975, -0.0008840160444378853, -0.0158077422529459, -0.060600798577070236, 0.06033530458807945, 0.027676358819007874, 0.003066954668611288, 0.06893233954906464, 0.03868744149804115, -0.05370156466960907, 0.0508435033261776, 0.021472547203302383, -0.1085452288389206, 0.03890182077884674, 0.02543351612985134, 0.02992539294064045, -0.07675386965274811, 0.003805280663073063, 0.0019172077300027013, 0.023697905242443085, -0.005417033098638058, 0.05328598618507385, 0.044684503227472305, -0.05122538283467293, 0.060366228222846985, 0.06764762848615646, -0.0028277765959501266, -0.013784999959170818, -0.003540376201272011, 0.041832324117422104, 0.016991274431347847, -0.007885503582656384, -0.01466712262481451, 0.012274007312953472, 0.030603675171732903, 0.015466755256056786, 0.0049353414215147495, 0.01319209486246109, -0.007722991518676281, 0.04149547964334488, 0.07607926428318024, 0.027943534776568413, 0.028685789555311203, -0.02972530387341976, -0.03551667556166649, -0.023934684693813324, -0.020681273192167282, 0.0064193010330200195, 0.01868303306400776, -0.03954066336154938, -0.03640547767281532, -0.05553367733955383, -0.012156164273619652, -0.06672632694244385, 0.03554578870534897, -0.0034776467364281416, 0.014298920519649982, -0.00616610050201416, 0.02525481767952442, 0.025818120688199997, -0.05886564031243324, -0.0472438745200634, -0.039688050746917725, -0.03028046153485775, -0.01100667379796505, 0.029761381447315216, -0.02901453711092472, 0.0395561158657074, -0.026667028665542603, 0.09985055029392242, 0.04034726321697235, -0.07052972167730331, -0.03786538541316986, -0.08281218260526657, -0.292043000459671, -0.004738073330372572, -0.05830574408173561, 0.03224685788154602, -0.006537596229463816, -0.03129265457391739, -0.014681493863463402, 1.146032809629105e-05, -0.014168432913720608, 0.04249091073870659, -0.05217911675572395, -0.004762393422424793, 0.025107113644480705, 0.03317826986312866, 0.03706497326493263, 0.03146477788686752, 0.06483888626098633, 0.022704320028424263, -0.04323187097907066, -0.039935678243637085, 0.011184741742908955, 0.001118310960009694, 0.021499572321772575, -0.06141126900911331, 0.028283068910241127, 0.031121456995606422, 0.09764666855335236, 0.06495798379182816, -0.04295247048139572, -0.011632176116108894, -0.028545677661895752, -0.02206076867878437, -0.10086120665073395, -0.12030396610498428, -0.029890645295381546, 0.007181128952652216, 0.060019347816705704, 0.06168045848608017, -0.028987281024456024, 0.05447012558579445, -0.05497877672314644, -0.0660063847899437, -0.006225101184099913, 0.030840415507555008, -0.036174699664115906, 0.05175122991204262, 0.01942863129079342, 0.02197219803929329, 0.015907306224107742, 0.021495366469025612, 0.043344032019376755, -0.026525447145104408, -0.015623940154910088, 0.043980661779642105, -0.05220013111829758, -0.04418574646115303, -0.026326367631554604, 0.06348801404237747, 0.015833985060453415, 0.04009587690234184, 0.003292074427008629, -0.06913776695728302, 0.007444886025041342, 0.015396985225379467, 0.043519165366888046, -0.0055228546261787415, -0.03996490687131882, -0.0462663397192955, 0.08251279592514038, -0.07460841536521912, 0.03210606053471565, 0.0387176051735878, -0.04457004368305206, -0.05206803232431412, 0.01632918231189251, 0.026881784200668335, 0.03360872343182564, -0.005370141007006168, 0.000721193733625114, -0.013809634372591972, 0.05927417054772377, 0.0006668513524346054, -0.003091351827606559, -0.010067871771752834, -0.03671736270189285, 0.021877309307456017, 0.04477248713374138, -0.0598851703107357, 0.005532204173505306, 0.008995821699500084, 0.009268202818930149, -0.004878731910139322, -0.05336843058466911, -0.011130236089229584, -0.001999174477532506, -0.016750385984778404, -0.2943287789821625, -0.005060235969722271, 0.05497539043426514, 0.008554761298000813, 0.01792285405099392, 0.044109489768743515, 0.0028547546826303005, -0.006194462534040213, 0.03735547140240669, 0.004455173388123512, 0.10697278380393982, -0.027856681495904922, -0.011497448198497295, -0.04828466475009918, 0.004439514596015215, 0.000595227291341871, -0.016922572627663612, 0.05494838207960129, -0.01303837075829506, -0.0026137165259569883, 0.00563583429902792, -0.04414183273911476, 0.14148087799549103, -0.01172824576497078, 0.011812150478363037, -0.10652507096529007, -0.007003785111010075, -0.0337056890130043, -0.009207134135067463, -0.009124516509473324, -0.020455623045563698, -0.02347070537507534, 0.06225907430052757, -0.05752818286418915, 0.028995228931307793, 0.015393661335110664, -0.044985733926296234, 0.05565446615219116, -0.039678554981946945, -0.048566367477178574, -0.068600133061409, 0.020820951089262962, -0.0520552322268486, -0.03762204945087433, 0.041425373405218124, 0.03787263110280037, -0.011599116027355194, 0.05381077155470848, -0.02012152038514614, 0.041190825402736664, 0.03404051810503006, -0.03579561784863472, -0.040081363171339035, -0.00620488915592432, 0.027966724708676338, 0.1007976084947586, 0.0019965192768722773, 0.030810819938778877, 0.03177086263895035, 0.021490050479769707, -0.008473574183881283, 0.017555978149175644, -0.004820384085178375, -0.024628102779388428, 0.027851160615682602], metadata={'file_path': '/content/data/persona_0.txt', 'file_name': 'persona_0.txt', 'file_type': 'text/plain', 'file_size': 132, 'creation_date': '2025-04-04', 'last_modified_date': '2025-04-04'}, excluded_embed_metadata_keys=['file_name', 'file_type', 'file_size', 'creation_date', 'last_modified_date', 'last_accessed_date'], excluded_llm_metadata_keys=['file_name', 'file_type', 'file_size', 'creation_date', 'last_modified_date', 'last_accessed_date'], relationships={<NodeRelationship.SOURCE: '1'>: RelatedNodeInfo(node_id='1b801b6c-4540-4633-9370-60a9c78576cb', node_type=<ObjectType.DOCUMENT: '4'>, metadata={'file_path': '/content/data/persona_0.txt', 'file_name': 'persona_0.txt', 'file_type': 'text/plain', 'file_size': 132, 'creation_date': '2025-04-04', 'last_modified_date': '2025-04-04'}, hash='086ea1717aaee77cca211a148056fd659331f45f072d2422ead68482cc4e19a5')}, metadata_template='{key}: {value}', metadata_separator='\\n', text='A local art historian and museum professional interested in 19th-century American art and the local cultural heritage of Cincinnati.', mimetype='text/plain', start_char_idx=0, end_char_idx=132, metadata_seperator='\\n', text_template='{metadata_str}\\n\\n{content}'),\n",
              " TextNode(id_='25e981b9-e372-428c-996e-2e8430fb3083', embedding=[0.03611360490322113, 0.09569824486970901, 0.03623582050204277, -0.04902026802301407, -0.04199541360139847, -0.0452842190861702, 0.10047347843647003, 0.020159417763352394, -0.01325604971498251, -0.012329846620559692, -0.0175063144415617, -0.09704727679491043, 0.028266098350286484, 0.0038586941082030535, 0.010448966175317764, 0.03358831629157066, -0.002466608304530382, 0.012008216232061386, 0.022308165207505226, 0.007083437871187925, 0.05683906003832817, -0.05197504535317421, -0.03135494515299797, -0.014082053676247597, -0.04053026810288429, 0.0006498449365608394, 0.027442222461104393, -0.022617392241954803, -0.020895935595035553, -0.072577103972435, -0.041014622896909714, 0.0020033211912959814, -0.014599543064832687, 0.021457640454173088, -0.017774248495697975, 0.016600891947746277, 0.026099324226379395, 0.02727242186665535, 0.0028332548681646585, 0.0950658768415451, 0.028221193701028824, -0.06032026931643486, 0.01187815796583891, 0.045837339013814926, 0.03897650167346001, -0.053647737950086594, -0.008484205231070518, -0.017063824459910393, -0.03800131380558014, -0.060074832290410995, -0.0601552352309227, -0.032486215233802795, -0.017590202391147614, -0.01534558180719614, -0.019712967798113823, -0.003795319003984332, 0.10604354739189148, 0.025524064898490906, -0.004971007350832224, 0.017584163695573807, 0.027554111555218697, 0.06864964962005615, -0.1349382996559143, 0.08098787814378738, -0.03457820788025856, 0.07090314477682114, -0.02157679758965969, -0.04527239128947258, -0.07844146341085434, -0.07712461054325104, -0.07475371658802032, 0.047882940620183945, 0.027020666748285294, 0.04771678149700165, 0.030273471027612686, -0.028515268117189407, 0.011513261124491692, -0.014037407003343105, -0.040203168988227844, 0.05648070201277733, 0.03305727615952492, -0.006556463893502951, -0.029092658311128616, -0.04855741560459137, 0.03189128637313843, 0.037336066365242004, -0.0039370558224618435, 0.012926356866955757, -0.012033278122544289, 0.01853862591087818, -0.04283542186021805, 0.003959617577493191, 0.02961769886314869, 0.035646263509988785, 0.008411121554672718, -0.021389180794358253, -0.011638958938419819, 0.06494490057229996, -0.03495263308286667, 0.3845442533493042, -0.005644302349537611, -0.030241964384913445, 0.07595263421535492, 0.003300343407317996, 0.025831950828433037, -0.02627050131559372, 0.02948012948036194, -0.02415429800748825, 0.036806318908929825, -0.006355540826916695, -0.030160998925566673, 0.03226345404982567, -0.05220977962017059, 0.01846594177186489, 0.05498335137963295, -0.001271130982786417, 0.0426662303507328, 0.05337266996502876, -0.022525381296873093, -0.0256109070032835, -0.004647393710911274, -0.05587734282016754, 0.057127684354782104, 0.006650452967733145, 0.005297909490764141, 0.011823493987321854, 0.013327599503099918, 0.04897415265440941, 0.01747485063970089, 0.054218996316194534, 0.03660314157605171, 0.011723248288035393, -0.03399493172764778, 0.017829682677984238, 0.0008547027828171849, 0.020391829311847687, -0.019848212599754333, -0.007147747557610273, 0.03167724609375, 0.007983746938407421, -0.045596785843372345, 0.01393519900739193, 0.035440001636743546, 0.050846248865127563, -0.09711726009845734, 0.048540037125349045, -0.02024153806269169, 0.056769974529743195, -0.009059972129762173, 0.06916648894548416, -0.03563990816473961, 0.019538018852472305, -0.02050486020743847, -0.009065648540854454, -0.0067740841768682, -0.02543315291404724, 0.08360808342695236, 0.019676445052027702, -0.05260438099503517, -0.024813737720251083, -0.0010540146613493562, -0.10449553281068802, -0.019650958478450775, 0.04283445328474045, 0.027596019208431244, -0.08602555096149445, -0.0003278532822150737, 0.021732714027166367, 0.03688202053308487, -0.04390404373407364, 0.04996330663561821, 0.008721183985471725, -0.03245352953672409, 0.036869753152132034, 0.07160533964633942, -0.010817896574735641, 0.009933504275977612, 0.035259414464235306, 0.006526562385261059, 0.01004377007484436, 0.022706877440214157, 0.013328789733350277, -0.01478402130305767, -0.011850588954985142, -0.012285909615457058, -0.026351062580943108, -0.06581906229257584, 0.007235469296574593, 0.06472866982221603, -0.01622943952679634, 0.029128264635801315, 0.061332449316978455, -0.00885587465018034, -0.061575256288051605, 0.04221675172448158, 0.00197405694052577, -0.008319622837007046, 0.008592596277594566, -0.05737101659178734, 0.012194514274597168, -0.0542774423956871, 0.08481889963150024, -0.009940884076058865, 0.011333833448588848, -0.007971511222422123, -0.04112137109041214, 0.012277325615286827, 0.031783901154994965, 0.021038658916950226, -0.013510897755622864, -0.01877104490995407, -0.00806151982396841, -0.09423202276229858, 0.03924894705414772, 0.003722663037478924, -0.03350621461868286, 0.034153759479522705, -0.017098164185881615, 0.07617247104644775, 0.010541349649429321, -0.02740597538650036, -0.09222332388162613, -0.04625917971134186, -0.29872798919677734, 0.05934483930468559, 0.0017912295879796147, 0.03238232806324959, 0.009432424791157246, 0.00831100158393383, 0.00809084065258503, 0.00636870414018631, 0.02185743860900402, 0.0002812198654282838, -0.0025520280469208956, -0.03752116858959198, -0.006328988820314407, 0.12805931270122528, -0.006476133596152067, 0.02217637002468109, 0.024388473480939865, -0.02160864695906639, -0.04639750346541405, -0.03325615078210831, -0.008786831982433796, 0.0017446548445150256, -0.01390046626329422, -0.10386371612548828, 0.01316989865154028, -0.012373948469758034, 0.09348776936531067, 0.08156523108482361, -0.028466934338212013, -0.06764979660511017, 0.014613067731261253, 0.04317602515220642, -0.035280659794807434, -0.15878558158874512, 0.024497201666235924, -0.010075755417346954, 0.06675980985164642, -0.04234367609024048, -0.008520220406353474, 0.012162897735834122, 0.024936677888035774, -0.0289994478225708, 0.004507543984800577, 0.045274652540683746, -0.06360556930303574, 0.02646530233323574, -0.00858403742313385, 0.0035005658864974976, 0.026174258440732956, 0.0181745458394289, -0.0004467600956559181, 0.0031275327783077955, -0.010327436029911041, -0.015588288195431232, -0.0818270593881607, -0.01637800596654415, -0.0290705393999815, -0.018300889059901237, -0.024201443418860435, 0.06350690126419067, 0.04823782667517662, -0.009549537673592567, 0.06126847863197327, -0.005761075299233198, 0.03669990599155426, -0.06329568475484848, -0.037082307040691376, 0.03604620322585106, 0.07068430632352829, -0.00648188591003418, 0.006403648294508457, 0.12282870709896088, -0.06849020719528198, -0.022065646946430206, 0.015235756523907185, -0.018185943365097046, 0.010617462918162346, -0.03380528837442398, 0.016332169994711876, 0.031079845502972603, 0.08051066100597382, -0.0530289001762867, -0.049394428730010986, -0.015241322107613087, 0.0293915756046772, 0.010583923198282719, 0.0014408989809453487, -0.04153398424386978, 0.021881043910980225, -0.017496760934591293, -0.02243090234696865, 0.04109565168619156, -0.030211927369236946, -0.022369494661688805, -0.03685967996716499, -0.010747727006673813, -0.2894814908504486, 0.05904517322778702, -0.0554334819316864, 0.028397168964147568, 0.09312284737825394, 0.01137903705239296, -0.06155531108379364, 0.014515109360218048, 0.0022524269297719, -0.018234144896268845, 0.1280103325843811, 0.005698695778846741, 0.016466805711388588, 0.03322349861264229, 0.016368461772799492, 0.028133902698755264, 0.02750769816339016, -0.0011845448752865195, 0.015025666914880276, -0.04279652237892151, -0.026515977457165718, -0.057570576667785645, 0.12236282229423523, 0.024527063593268394, -0.026363547891378403, -0.07415767759084702, -0.0009947085054591298, -0.02354463003575802, -0.00590088777244091, -0.07324039936065674, 0.025544263422489166, 0.00010395844583399594, 0.04081355407834053, 0.0013304431922733784, 0.00859744194895029, 0.024402868002653122, -0.015268338844180107, -0.009252424351871014, 0.0007454612059518695, -0.027306657284498215, -0.046816714107990265, -0.02511596493422985, 0.04374535381793976, 0.012114235199987888, 0.06566783040761948, -0.01374049298465252, -0.038608141243457794, -0.031179029494524002, 0.009484476409852505, 0.002681995742022991, 0.027435528114438057, -0.04097684845328331, -0.06258618831634521, 0.050302136689424515, 0.02987579070031643, -0.005264851730316877, -0.04356818273663521, -0.03754570707678795, 0.08407538384199142, -0.048496589064598083, -0.0010769260115921497, 0.019511114805936813, 0.02108309604227543, -0.05720594525337219, -0.04119092598557472], metadata={'file_path': '/content/data/persona_1.txt', 'file_name': 'persona_1.txt', 'file_type': 'text/plain', 'file_size': 266, 'creation_date': '2025-04-04', 'last_modified_date': '2025-04-04'}, excluded_embed_metadata_keys=['file_name', 'file_type', 'file_size', 'creation_date', 'last_modified_date', 'last_accessed_date'], excluded_llm_metadata_keys=['file_name', 'file_type', 'file_size', 'creation_date', 'last_modified_date', 'last_accessed_date'], relationships={<NodeRelationship.SOURCE: '1'>: RelatedNodeInfo(node_id='f72a7264-9bd9-4550-813f-f533c34302f5', node_type=<ObjectType.DOCUMENT: '4'>, metadata={'file_path': '/content/data/persona_1.txt', 'file_name': 'persona_1.txt', 'file_type': 'text/plain', 'file_size': 266, 'creation_date': '2025-04-04', 'last_modified_date': '2025-04-04'}, hash='7278f6d65a68c06330822b3e04ce5f9724010954d058169f9d52e0205ee3b18b')}, metadata_template='{key}: {value}', metadata_separator='\\n', text='An anthropologist or a cultural expert interested in the intricacies of Cypriot culture, history, and society, particularly someone who has spent considerable time researching and living in Cyprus to gain a deep understanding of its people, customs, and way of life.', mimetype='text/plain', start_char_idx=0, end_char_idx=266, metadata_seperator='\\n', text_template='{metadata_str}\\n\\n{content}'),\n",
              " TextNode(id_='efb92e27-d13c-4152-9da7-99c10c822c4a', embedding=[-0.0033994349651038647, -0.0014931998448446393, -0.030169598758220673, -0.0872497633099556, -0.04741940647363663, 0.006573354359716177, 0.03897930681705475, 0.027419598773121834, -0.02011888474225998, 0.0070866430178284645, 0.016113191843032837, -0.0265270434319973, 0.004410984925925732, -0.01968776434659958, 0.046696681529283524, 0.05774058774113655, 0.03740702569484711, 0.11277042329311371, -0.05785553529858589, 0.014962912537157536, 0.012546578422188759, -0.02185574732720852, -0.04206446185708046, -0.02449844405055046, 0.020773090422153473, -0.006877767387777567, 0.008720540441572666, -0.025600962340831757, -0.06736334413290024, -0.061495158821344376, 0.005200333893299103, 0.029657036066055298, 0.07742207497358322, 0.05171659216284752, 0.012743644416332245, 0.015773585066199303, 0.024621805176138878, 0.024298325181007385, -0.0763421431183815, 0.024403618648648262, -0.002128887688741088, -0.015509188175201416, -0.01784203015267849, 0.021183792501688004, 0.02124568447470665, -0.004265454597771168, 0.003602096810936928, -0.0764726921916008, -0.11212404817342758, -0.0968339592218399, 0.006236065179109573, -0.03348677232861519, -0.03427838161587715, 0.06930231302976608, -0.04684077948331833, 0.01161188818514347, 0.06644446402788162, 0.00064441206632182, -0.0002355887263547629, 0.04098422825336456, 0.0708886906504631, -0.0005447522271424532, -0.12177901715040207, 0.11700870096683502, -0.005124927498400211, 0.051153410226106644, -0.01082694623619318, -0.01808471605181694, 0.017943957820534706, -0.052937671542167664, -0.0035250717774033546, 0.04236941039562225, 0.05710892751812935, 0.05538781359791756, 0.010649401694536209, 0.04379021003842354, -0.01290801353752613, 0.006574780680239201, 0.010158317163586617, 0.05420830100774765, 0.03607926145195961, -0.024419082328677177, -0.005226705688983202, -0.005729264579713345, 0.023661378771066666, 0.01748756319284439, -0.013215679675340652, -0.019544238224625587, 0.014114356599748135, 0.01045149751007557, -0.020500272512435913, -0.004919752012938261, 0.02937581017613411, 0.0007809909293428063, 0.0038016438484191895, -0.023255690932273865, -0.05389460548758507, 0.0022393406834453344, -0.05238613486289978, 0.38616910576820374, 0.024445513263344765, 0.016682151705026627, 0.09922544658184052, 0.0228741392493248, 0.03380023315548897, 0.006251064594835043, 0.030772771686315536, -0.06208103150129318, -0.028279883787035942, -0.057161133736371994, -0.04501611739397049, -0.06446263194084167, -0.02164699137210846, 0.011855403892695904, 0.042472559958696365, -0.01814369484782219, -0.003666807897388935, 0.01117477472871542, -0.015035471878945827, -0.012797476723790169, -0.04588012769818306, -0.01916981115937233, 0.011582701466977596, -0.041791923344135284, 0.019367394968867302, 0.004980071913450956, 0.03019637241959572, 0.08233724534511566, 0.048216793686151505, 0.028566621243953705, 0.04010557383298874, -0.018432650715112686, -0.04559246078133583, 0.01303007360547781, 0.002914037788286805, 0.031691089272499084, 0.008961575105786324, 0.02352074347436428, 0.01670229062438011, 0.040454305708408356, 0.04263681918382645, 0.03647511824965477, -0.02728082612156868, -0.02710631862282753, -0.08764488995075226, 0.07807882875204086, -0.07387678325176239, 0.03403477743268013, -0.015560437925159931, 0.14502418041229248, -0.011998895555734634, 0.05486777424812317, -0.07715105265378952, 0.0673079565167427, 0.000966439547482878, 0.039475057274103165, 0.07430331408977509, -0.026596127077937126, -0.01650829054415226, 0.0032590385526418686, -0.003935482352972031, -0.04949042573571205, -0.04417887702584267, 0.06749895215034485, 0.03503870591521263, -0.06166856735944748, -0.0170727651566267, 0.019590958952903748, 0.012190827168524265, -0.022397702559828758, 0.034780558198690414, -0.013559835031628609, 0.011344041675329208, -0.018576497212052345, 0.0708329975605011, -8.357188198715448e-05, 0.02322506345808506, 0.0509943850338459, 0.021085692569613457, -0.018231606110930443, 0.023680424317717552, -0.01976964995265007, -0.021730542182922363, -0.022968854755163193, -0.03520083799958229, 0.012805650010704994, 0.055903416126966476, -0.0341666042804718, 0.021008208394050598, 0.02238769270479679, 0.024509454146027565, 0.005444156471639872, -0.08628800511360168, -0.0843653529882431, 0.021576903760433197, -0.01326221227645874, 0.034798283129930496, -0.09438880532979965, -0.02619481086730957, -0.01501668430864811, -0.0675433799624443, 0.06526437401771545, -0.03099069930613041, 0.019750002771615982, 0.013969353400170803, 0.014669422060251236, -0.011854411102831364, -0.0020712201949208975, 0.03771789371967316, -0.025278136134147644, -0.014453915879130363, 0.03360200673341751, -0.05719143897294998, 0.0240093432366848, 0.002360925078392029, -0.010308947414159775, 0.029347708448767662, -0.038933370262384415, 0.04940257593989372, -0.011261106468737125, -0.06704173237085342, -0.02176518924534321, -0.04634739086031914, -0.29432550072669983, 0.022107494994997978, 0.014563803561031818, 0.008538218215107918, -0.007951658219099045, 0.05200234428048134, -0.034292422235012054, 0.037391792982816696, -0.06621389836072922, 0.06357377022504807, 0.08823934197425842, 0.029993632808327675, 0.03104509972035885, 0.08422105759382248, 0.054427891969680786, 0.02799300104379654, 0.025875618681311607, 0.009391972795128822, -0.013087175786495209, -0.008131046779453754, 0.010360398329794407, -0.010576012544333935, 0.04094388708472252, -0.040601328015327454, 0.03892585635185242, 0.06002456322312355, 0.04506046697497368, 0.08584039658308029, 0.02177906222641468, -0.008498486131429672, -0.006666606292128563, 0.03572900965809822, -0.013061237521469593, -0.11529448628425598, 0.02339870296418667, -0.057187989354133606, -0.04311506822705269, -0.037424035370349884, -0.01868092268705368, 0.0003047420468647033, -0.029337242245674133, 0.01986866258084774, 0.03447114676237106, -0.04906093701720238, -0.031644053757190704, -0.047507453709840775, 0.06918241828680038, 0.05632958188652992, 0.044603679329156876, 0.025798305869102478, -0.027735034003853798, -0.11078397184610367, -0.018506864085793495, 0.029676759615540504, -0.0286860391497612, 0.00046873357496224344, -0.05516627058386803, 0.07490886747837067, -0.03883199393749237, -0.017776969820261, 0.019880764186382294, -0.0532839335501194, 0.006086509674787521, -0.02319836989045143, 0.02432926557958126, 0.029315907508134842, 0.0011884551495313644, 0.011749126948416233, -0.0013642245903611183, -0.05409415438771248, 0.00014454059419222176, 0.0646393671631813, -0.041497621685266495, -0.03481482341885567, 0.020238062366843224, -0.0036831756588071585, 0.007123397663235664, -0.052273813635110855, -0.018231244757771492, -0.059801142662763596, 0.06169101595878601, -0.026822051033377647, -0.06565036624670029, 0.028380190953612328, 0.019229937344789505, -0.045865558087825775, 0.04303579032421112, -0.06251061707735062, 0.037721265107393265, -0.0019503679359331727, -0.04298635944724083, 0.09744201600551605, -0.031124666333198547, -0.04183501750230789, -0.057022497057914734, -0.06430929154157639, -0.27975180745124817, 0.007421744056046009, -0.041193243116140366, 0.018571315333247185, 0.0050504147075116634, 0.04486376419663429, 0.022249141708016396, -0.03342091664671898, -0.06259958446025848, -0.03654259815812111, 0.08106042444705963, 0.0575244277715683, -0.021534347906708717, 0.02052667923271656, -0.029643436893820763, 0.039654724299907684, 0.054867587983608246, -0.005494428798556328, -0.0315994955599308, -0.08417954295873642, -0.037808772176504135, -0.0558522492647171, 0.10357936471700668, -0.0005974856903776526, -0.019136684015393257, -0.02253485471010208, -0.027799705043435097, -0.03967079892754555, 0.024412766098976135, -0.04678242653608322, 0.0038538610097020864, -0.009242909029126167, 0.06308890134096146, -0.0038038459606468678, 0.0024863826110959053, -0.008404836989939213, 0.025601385161280632, 0.0011097737587988377, 0.018118083477020264, 0.041759930551052094, -0.053121212869882584, -0.023252567276358604, 0.031059181317687035, -0.0236906036734581, 0.029236948117613792, 0.0020188589114695787, -0.003601890755817294, -0.056829821318387985, -0.030280904844403267, 0.008153473027050495, 0.06157271936535835, 0.03438188135623932, -0.0519636832177639, 0.012243183329701424, 0.011819527484476566, 0.09098918735980988, -0.07390875369310379, 0.04539188742637634, 0.047653429210186005, -0.07045653462409973, -0.026687342673540115, 0.03928273543715477, -0.03710132837295532, -0.011526652611792088, 0.04413016512989998], metadata={'file_path': '/content/data/persona_10.txt', 'file_name': 'persona_10.txt', 'file_type': 'text/plain', 'file_size': 207, 'creation_date': '2025-04-04', 'last_modified_date': '2025-04-04'}, excluded_embed_metadata_keys=['file_name', 'file_type', 'file_size', 'creation_date', 'last_modified_date', 'last_accessed_date'], excluded_llm_metadata_keys=['file_name', 'file_type', 'file_size', 'creation_date', 'last_modified_date', 'last_accessed_date'], relationships={<NodeRelationship.SOURCE: '1'>: RelatedNodeInfo(node_id='96f91f24-74ae-440a-8163-50349ad6d86f', node_type=<ObjectType.DOCUMENT: '4'>, metadata={'file_path': '/content/data/persona_10.txt', 'file_name': 'persona_10.txt', 'file_type': 'text/plain', 'file_size': 207, 'creation_date': '2025-04-04', 'last_modified_date': '2025-04-04'}, hash='e3f9b14d33276ee8ff7a38dae76a6f9be760ed2e68287041e1c20d0968b508ee')}, metadata_template='{key}: {value}', metadata_separator='\\n', text='A social justice educator or activist focused on diversity, equity, and inclusion, likely working with families and communities to promote empathy and understanding of intersectional identity and oppression.', mimetype='text/plain', start_char_idx=0, end_char_idx=207, metadata_seperator='\\n', text_template='{metadata_str}\\n\\n{content}'),\n",
              " TextNode(id_='59583a6e-7b0e-4bd4-9bdc-3b76ee1c72bf', embedding=[-0.003353764768689871, 0.04548285901546478, 0.01771150715649128, 0.02269718050956726, 0.03110683709383011, -0.040737636387348175, 0.008566214703023434, 0.03050854615867138, -0.02847474254667759, 0.03533023223280907, -0.0229245126247406, -0.030612725764513016, 9.586724627297372e-05, 0.0493619367480278, 0.02706114947795868, 0.04382411763072014, 0.04685058072209358, 0.0855674147605896, 0.004474177490919828, 0.03712799400091171, 0.02549070119857788, -0.028428317978978157, -0.048555925488471985, -0.06545224785804749, -0.011334078386425972, -0.018477223813533783, 0.03565023094415665, -0.016274461522698402, -0.005684559233486652, -0.12178505957126617, -0.05691498890519142, 0.004249060060828924, -0.026613431051373482, 0.028986254706978798, 0.018040653318166733, 0.07500725984573364, 0.05260402709245682, -0.018794983625411987, -0.03856988996267319, 0.004721333738416433, 0.019921133294701576, 0.011820745654404163, -0.009112625382840633, 0.00793940294533968, 0.018730666488409042, -0.0407833456993103, -0.010995968244969845, -0.07408391684293747, -0.041396364569664, -0.11557871103286743, -0.00880755390971899, -0.00995559897273779, -0.053539831191301346, 0.04716627299785614, 0.04456824064254761, 0.005169262178242207, 0.06164984405040741, 0.04797276109457016, 0.04776306450366974, 0.004178397357463837, 0.06424492597579956, 0.04660309851169586, -0.17601515352725983, 0.1026240661740303, 0.010694283060729504, 0.031658370047807693, -0.018749142065644264, -0.04004339873790741, 0.0660870149731636, -0.07522829622030258, -0.09122902154922485, 0.02323809638619423, -0.031450387090444565, 0.051633913069963455, 0.06994926184415817, -0.04529083892703056, -0.09404686093330383, 0.05071043595671654, -0.06473726034164429, -0.0033477102406322956, 0.08546110987663269, 0.02050217054784298, -0.037630341947078705, -0.049863722175359726, 0.027707582339644432, -0.006960666738450527, 0.00496622733771801, -0.00011572819494176656, -0.00690477667376399, 0.02787911146879196, -0.015578796155750751, -0.015919892117381096, 0.11371052265167236, -0.03514998033642769, 0.002201261231675744, -0.0025428251828998327, 0.004437545780092478, 0.03459693863987923, -0.054360054433345795, 0.3873582184314728, -0.039538897573947906, 0.01058285217732191, 0.07150118052959442, 0.016402237117290497, 0.03750590234994888, 0.001497702207416296, 0.023611996322870255, -0.037532106041908264, 0.039559923112392426, 0.04482389986515045, 0.02685682103037834, -0.08032035082578659, -0.0010728177148848772, 0.004575633443892002, 0.08154962956905365, -0.002290103118866682, -3.066143108299002e-05, 0.04582464322447777, -0.04104604944586754, 0.010509515181183815, -0.03307923302054405, -0.031209899112582207, 0.024180494248867035, 0.015370250679552555, 0.030440839007496834, 0.011389792896807194, 0.025996915996074677, 0.06150592863559723, 0.023817438632249832, 0.01013869233429432, 0.0204574316740036, -0.0058562117628753185, 0.00012316253560129553, -0.011569380760192871, -0.03502949699759483, -0.025060292333364487, -0.042406000196933746, -0.03347194567322731, -0.06056426838040352, 0.030214371159672737, -0.04437584802508354, 0.04829462617635727, -0.05184316262602806, -0.058913715183734894, -0.09703196585178375, 0.06484600156545639, 0.020236650481820107, -0.02622547186911106, 0.005971329286694527, 0.035730231553316116, -0.011075510643422604, -0.0014657428255304694, -0.0035934015177190304, 0.00014894439664203674, 0.09062125533819199, 0.03386358544230461, 0.047942232340574265, 0.01108492910861969, -0.018758490681648254, 0.029297741129994392, 0.0007574052433483303, -0.05857507511973381, -0.019450949504971504, 0.03479395806789398, 0.10370789468288422, -0.03141000121831894, 0.019598903134465218, -0.021978463977575302, 0.013774091377854347, 0.02762596122920513, 0.011733953841030598, 0.008766907267272472, 0.0041207727044820786, -0.017764007672667503, 0.04782051593065262, -0.011397365480661392, -0.038015373051166534, -0.016564374789595604, -0.015980692580342293, -0.001417433493770659, -0.015179106965661049, -0.0368569940328598, -0.0275835283100605, -0.011686338111758232, 0.00667082704603672, 0.005296458024531603, -0.039789002388715744, -0.026751667261123657, -0.024120330810546875, 0.035305943340063095, 0.008606500923633575, 0.013746814802289009, 0.02754976786673069, -0.037989016622304916, 0.01364845223724842, -0.013449981808662415, 0.03627339377999306, -0.006935404147952795, 0.0018342850962653756, 0.010843155905604362, -0.017000919207930565, 0.022957658395171165, -0.02846773900091648, 0.002626249101012945, 0.008046843111515045, 0.01931518316268921, 0.005231286399066448, 0.008781231939792633, 0.05059407278895378, 0.061258964240550995, -0.019044796004891396, 0.02817462757229805, -0.06921733170747757, 0.047905609011650085, -0.0037677683867514133, -0.0013065413804724813, 0.056272633373737335, -0.022204048931598663, 0.09209981560707092, 0.06152820214629173, 0.0106600197032094, -0.05303516611456871, -0.10838192701339722, -0.30349022150039673, -0.059629615396261215, -0.08478710800409317, -0.009610326029360294, 0.012225174345076084, 0.005371051840484142, -0.03659358248114586, -0.010604342445731163, -0.02481674589216709, 0.06499288976192474, -0.018104495480656624, -0.0339256227016449, 0.07996594160795212, 0.04932844266295433, -0.0027892545331269503, -0.0007018582546152174, 0.06583838909864426, -0.037546440958976746, -0.039566442370414734, 0.011591627262532711, 0.032186783850193024, -0.029099632054567337, -0.04924875497817993, -0.027954772114753723, 0.03132794424891472, -0.017546318471431732, 0.10732268542051315, 0.0746946707367897, -0.00511519331485033, 0.016699910163879395, -0.009075396694242954, 0.04279966652393341, -0.03527693822979927, -0.14822237193584442, 0.01132202334702015, -0.009682798758149147, -0.015536816790699959, -0.06140737235546112, -0.05053592845797539, -0.020125962793827057, 0.064671590924263, 0.06768859922885895, -0.013418329879641533, 0.004006631672382355, -0.06520979106426239, 0.005313254427164793, -0.012969030998647213, 0.027062732726335526, -0.053552448749542236, -0.005665438715368509, 0.02836509607732296, 0.032211676239967346, 0.04537337273359299, -0.033111803233623505, -0.022287478670477867, 0.04652349278330803, -0.04312840476632118, 0.04179191589355469, -0.013836292549967766, -0.02904301881790161, 0.05827554315328598, -0.01335217896848917, 0.036776330322027206, 0.04828908294439316, -0.012392113916575909, -0.05528143048286438, -0.007078371476382017, -0.013932738453149796, 0.035228580236434937, -0.06246718764305115, 0.015114525333046913, 0.018437324091792107, -0.05787772685289383, -0.03707195818424225, 0.0586986318230629, -0.024907203391194344, 0.00829930230975151, 0.001990293385460973, -0.0464339405298233, -0.01886947825551033, 0.031098198145627975, -0.00740798469632864, -0.034431956708431244, -0.025042297318577766, -0.030408376827836037, 0.028370598331093788, -0.013271646574139595, -0.05108024552464485, -0.01789039559662342, 0.007750954944640398, 0.017486250028014183, 0.05284738913178444, -0.0735616534948349, -0.02233654446899891, 0.06234605610370636, 0.006955291610211134, -0.2732617259025574, -0.021093497052788734, -0.0384112223982811, -0.011410213075578213, -0.019667644053697586, 0.03816388547420502, 0.013994269073009491, 0.03468097373843193, -0.008105477318167686, 0.013223054818809032, 0.012483915314078331, 0.04823247715830803, -0.010489791631698608, 0.07422735542058945, -0.00499081052839756, 0.01533773448318243, -0.016570907086133957, 0.010184667073190212, 0.008339506573975086, -0.023647936061024666, 0.002233702689409256, -0.015311600640416145, 0.15672247111797333, -0.027324523776769638, -0.009217034094035625, 0.01456206664443016, -0.04150781407952309, -0.005383289884775877, 0.004920541308820248, -0.04558832570910454, 0.03706568107008934, -0.013973771594464779, 0.10962311923503876, -0.06922421604394913, -0.006413409486413002, 0.05378251150250435, 0.000202993382117711, 0.012192911468446255, 0.018134839832782745, -0.07859408855438232, 0.03428105637431145, -0.008551565930247307, 0.07117807865142822, -1.3432701052806806e-05, 0.029821131378412247, -0.0032295584678649902, 0.0197426937520504, -0.013366669416427612, -0.033210285007953644, 0.07109320163726807, -0.0009752259938977659, 0.006359710358083248, -0.04205046966671944, -0.026729591190814972, -0.0018058465793728828, 0.03459949791431427, -0.011229940690100193, -0.010928329080343246, -0.015811659395694733, -0.03466569259762764, -0.02000078745186329, -0.08545096218585968, -0.060768067836761475, -0.019660502672195435, 0.0678950622677803], metadata={'file_path': '/content/data/persona_100.txt', 'file_name': 'persona_100.txt', 'file_type': 'text/plain', 'file_size': 107, 'creation_date': '2025-04-04', 'last_modified_date': '2025-04-04'}, excluded_embed_metadata_keys=['file_name', 'file_type', 'file_size', 'creation_date', 'last_modified_date', 'last_accessed_date'], excluded_llm_metadata_keys=['file_name', 'file_type', 'file_size', 'creation_date', 'last_modified_date', 'last_accessed_date'], relationships={<NodeRelationship.SOURCE: '1'>: RelatedNodeInfo(node_id='43975f91-3f56-428f-ae2c-900f9c4d3364', node_type=<ObjectType.DOCUMENT: '4'>, metadata={'file_path': '/content/data/persona_100.txt', 'file_name': 'persona_100.txt', 'file_type': 'text/plain', 'file_size': 107, 'creation_date': '2025-04-04', 'last_modified_date': '2025-04-04'}, hash='d9d280ea2c9656d4666f6578a89de01e22976fd39c7e347fcce9f9a86a30a8d4')}, metadata_template='{key}: {value}', metadata_separator='\\n', text='An environmental conservationist focused on wetland ecosystems and their role in mitigating climate change.', mimetype='text/plain', start_char_idx=0, end_char_idx=107, metadata_seperator='\\n', text_template='{metadata_str}\\n\\n{content}'),\n",
              " TextNode(id_='7c2c767e-950c-4ecc-8e25-2f0f0bcb56e3', embedding=[-0.010543568059802055, 0.06430506706237793, 0.023102713748812675, -0.0460304357111454, -0.013166496530175209, -0.06519326567649841, 0.11955627053976059, 0.02164013497531414, -0.05769067257642746, 0.05027133226394653, -0.046040233224630356, -0.07321538776159286, -0.0005983458831906319, 0.0227959081530571, 0.001078213332220912, 0.032322872430086136, 0.04431341588497162, 0.027975082397460938, 0.0012020799331367016, 0.10411515831947327, 0.023946883156895638, 0.048562247306108475, -0.01948135904967785, -0.0555260144174099, -0.011063793674111366, 0.02970224991440773, 0.046997856348752975, -0.06176391616463661, -0.03201989457011223, -0.04332895949482918, -0.007367266807705164, -0.029311958700418472, -0.005877438932657242, 0.0460197813808918, 0.011673280037939548, 0.00025482536875642836, 0.029783010482788086, 0.055429473519325256, -0.03859731927514076, 0.06466364115476608, -0.027714885771274567, -0.022604871541261673, 0.033108241856098175, 0.039921317249536514, 0.02112315595149994, -0.07778627425432205, -0.0663156509399414, -0.028079338371753693, 0.021688906475901604, -0.08112528920173645, -0.021502459421753883, 0.014815686270594597, -0.013076587580144405, 0.04181346297264099, -0.009760912507772446, -0.05114465206861496, 0.06031162291765213, 0.0007925398531369865, -0.021421868354082108, 0.008016813546419144, 3.6456011002883315e-05, 0.049452487379312515, -0.13243761658668518, 0.07250885665416718, 0.014965130016207695, 0.04226308688521385, 0.006024887785315514, -0.052058178931474686, 0.01609068736433983, -0.06544507294893265, -0.014130597934126854, 0.002413002774119377, -0.03482580557465553, 0.09315620362758636, -0.014656519517302513, 0.012945092283189297, -0.024330727756023407, -0.035436540842056274, -0.010673681274056435, 0.08398128300905228, 0.008283998817205429, -0.010830295272171497, -0.05613403394818306, -0.09642751514911652, -0.005692880600690842, -0.012230883352458477, 0.009570066817104816, -0.07220806181430817, -0.043685562908649445, 0.006218759808689356, -0.007071667350828648, -0.03327799588441849, -0.014938222244381905, 0.08802251517772675, -0.02351481281220913, -0.03968695551156998, 0.024011097848415375, 0.034754522144794464, -0.019899647682905197, 0.3799525201320648, -0.00836092233657837, -0.015858404338359833, 0.06803090125322342, -0.0013135717017576098, 0.04128972813487053, 0.003712371224537492, -0.03817427158355713, -0.02190535143017769, -0.03949028626084328, -0.00882774032652378, -0.008241470903158188, 0.015050177462399006, -0.020113883540034294, -0.01769629865884781, 0.04518813267350197, 0.07240504771471024, -0.0025353003293275833, 0.06723228096961975, -0.02731066383421421, 0.019280314445495605, -0.035737745463848114, -0.007947023957967758, 0.05166895315051079, 0.035903528332710266, 0.024111595004796982, 0.00643334724009037, -0.009623800404369831, 0.06290625780820847, 0.01998453214764595, 0.07927533984184265, 0.10527969151735306, 0.08324673771858215, -0.04063849523663521, -0.009143564850091934, -0.003384888172149658, -0.0191444531083107, 0.023085664957761765, 0.0019015714060515165, -0.02074718102812767, 0.06301478296518326, -0.02093111351132393, 0.0006420299760065973, -0.024964598938822746, -0.021784456446766853, -0.11204876750707626, 0.06262627989053726, -0.08116889744997025, 0.06810914725065231, 0.000940052152145654, 0.022650059312582016, -0.016031324863433838, -0.009246417321264744, -0.05611483007669449, -0.00728774257004261, 0.0438162237405777, -0.010026490315794945, 0.0699395090341568, 0.020787974819540977, 0.011851932853460312, -0.0054628546349704266, -0.005158368963748217, -0.07823695242404938, 0.015952639281749725, 0.033792588859796524, 0.02052220329642296, -0.07392723113298416, -0.00678849034011364, -0.004255271051079035, 0.03092653863132, -0.011667804792523384, 0.024060169234871864, -0.013762890361249447, -0.013119944371283054, -0.0398520790040493, 0.06467410176992416, 0.03591536357998848, 0.026378437876701355, -0.002559318672865629, -0.012910992838442326, -0.013182765804231167, 0.024313896894454956, 0.03421106934547424, 0.066789411008358, -0.05000483989715576, 0.01685277186334133, 0.012761279009282589, -0.02020450495183468, 0.013797400519251823, 0.05712464451789856, -0.007515053264796734, 0.009505918249487877, 0.03054136410355568, -0.0571565181016922, -0.07972460985183716, 0.025698907673358917, -0.028507208451628685, -0.023631347343325615, 0.012345177121460438, -0.013209777884185314, -0.019026391208171844, 0.007478104438632727, 0.0387943759560585, -0.020105702802538872, 0.06017658859491348, -0.03605674207210541, 0.008904717862606049, 0.035607341676950455, 0.039241570979356766, 0.05855739489197731, -0.02720477432012558, 0.007390037178993225, -0.02810925804078579, -0.039320990443229675, 0.010420301929116249, -0.06477334350347519, 0.004085281863808632, -0.011520568281412125, -0.0009684041142463684, 0.04475308582186699, 0.014801083132624626, -0.034584078937768936, 0.034716248512268066, -0.025284288451075554, -0.31248244643211365, 0.02405189722776413, -0.023404346778988838, -0.01887853629887104, 0.016762537881731987, 0.048495061695575714, 0.010724494233727455, 0.06093296781182289, -0.025881890207529068, -0.020067207515239716, 0.04724373668432236, -0.033866360783576965, 0.0035063521936535835, 0.04511207342147827, -0.00190460542216897, 0.05372951179742813, 0.07014182209968567, -0.05360632762312889, -0.011713407933712006, -0.04996785521507263, 0.058471906930208206, -0.016859471797943115, -0.015337863005697727, -0.05409419164061546, -0.0326046496629715, -0.007361819036304951, 0.1010882779955864, 0.046690743416547775, 0.013749932870268822, 0.03294789791107178, 0.02447453700006008, -0.04188401624560356, -0.02134447917342186, -0.12187214940786362, 0.0020355284214019775, -0.0509929358959198, -0.02910756692290306, -0.015756571665406227, -0.047165397554636, -0.026937929913401604, -0.058282628655433655, 0.00931925605982542, -0.045228760689496994, 0.022065110504627228, -0.0694834366440773, 0.0378955639898777, -0.007090558763593435, 0.06451264023780823, -0.0554659329354763, 0.03234853222966194, 0.02700306847691536, 0.012507573701441288, -0.03003203123807907, -0.015558104030787945, 0.021683111786842346, -0.009144464507699013, -0.0381871834397316, 0.007835816591978073, -0.05657460540533066, 0.04067700356245041, -0.0126983392983675, -0.06589178740978241, -0.003525641281157732, 0.022328030318021774, -0.05098605528473854, -0.05362430587410927, 0.007590846624225378, 0.026472365483641624, 0.0773102417588234, -0.06099240109324455, -0.04366827383637428, 0.05694162845611572, -0.07341882586479187, -0.0018734411569312215, 0.0046310401521623135, 0.016073942184448242, 0.023118603974580765, -0.07206319272518158, -0.028649669140577316, -0.024661945179104805, 0.03494834154844284, -0.004681922495365143, -0.008597050793468952, -0.0003531448601279408, -0.009211904369294643, -0.04447358101606369, 0.009109782055020332, -0.022742118686437607, -0.025386802852153778, 0.0313185378909111, -0.062354788184165955, -0.006670474074780941, -0.01603972725570202, -0.06210602447390556, -0.003923905082046986, 0.0001897153997560963, -0.2824017405509949, 0.02409459836781025, -0.04303502291440964, 0.02860140986740589, 0.0006889381911605597, 0.03650836646556854, -0.059304557740688324, -0.011132239364087582, 0.025264032185077667, -0.03750307112932205, 0.12033332139253616, -0.0049205562099814415, 0.008933712728321552, 0.004050711635500193, -0.02075919508934021, 0.01901951991021633, 0.036332614719867706, 0.007576448377221823, 0.06688907742500305, 0.010939963161945343, 0.05156097561120987, -0.03627048432826996, 0.16010494530200958, 0.015316734090447426, 0.014069387689232826, -0.03451592102646828, -0.04928889125585556, -0.0011782209621742368, 0.020602796226739883, -0.003692649072036147, 0.1035023182630539, -0.059256572276353836, 0.069456547498703, -0.017936555668711662, 0.0014436920173466206, 0.03719945624470711, -0.019470565021038055, 0.058563053607940674, 0.027516374364495277, 0.0036007738672196865, -0.06210048124194145, -0.06934145838022232, 0.014333590865135193, -0.027612658217549324, 0.09211459010839462, 0.02892930433154106, -0.019413979724049568, -0.04094220697879791, -0.008679288439452648, 0.030627330765128136, 0.016692569479346275, 0.025170722976326942, 0.02141561172902584, 0.043139293789863586, 0.014900311827659607, 0.059646327048540115, 0.005893053486943245, -0.004167830105870962, 0.022990696132183075, -0.10549552738666534, -0.024307308718562126, -0.008335554040968418, 0.008125769905745983, 0.032503120601177216, 0.049460623413324356], metadata={'file_path': '/content/data/persona_1000.txt', 'file_name': 'persona_1000.txt', 'file_type': 'text/plain', 'file_size': 133, 'creation_date': '2025-04-04', 'last_modified_date': '2025-04-04'}, excluded_embed_metadata_keys=['file_name', 'file_type', 'file_size', 'creation_date', 'last_modified_date', 'last_accessed_date'], excluded_llm_metadata_keys=['file_name', 'file_type', 'file_size', 'creation_date', 'last_modified_date', 'last_accessed_date'], relationships={<NodeRelationship.SOURCE: '1'>: RelatedNodeInfo(node_id='7f10eed0-478d-40a0-8956-58fc66d28e12', node_type=<ObjectType.DOCUMENT: '4'>, metadata={'file_path': '/content/data/persona_1000.txt', 'file_name': 'persona_1000.txt', 'file_type': 'text/plain', 'file_size': 133, 'creation_date': '2025-04-04', 'last_modified_date': '2025-04-04'}, hash='31138027dab4c0bf662bc36a1199ae000f890ca311d2746f4a7d3bdf90891c37')}, metadata_template='{key}: {value}', metadata_separator='\\n', text='A pulmonologist or respiratory specialist with a strong interest in educating patients about the respiratory system and its diseases.', mimetype='text/plain', start_char_idx=0, end_char_idx=133, metadata_seperator='\\n', text_template='{metadata_str}\\n\\n{content}'),\n",
              " TextNode(id_='cae200ee-9314-45b0-9b71-13f2a2b9448e', embedding=[-0.04245888069272041, 0.002983406651765108, 0.0044707185588777065, -0.08153050392866135, -0.01717991568148136, -0.029730726033449173, 0.011951994150876999, 0.05244888737797737, 0.00034132247674278915, -0.024674339219927788, 0.06808186322450638, -0.017529040575027466, 0.010076862759888172, -0.006072036921977997, 0.017942629754543304, 0.06571032106876373, -0.006754559464752674, -0.009105334989726543, 0.002172003034502268, 0.051523104310035706, 0.06532350927591324, -0.05038032308220863, -0.007470197509974241, -0.09751932322978973, 0.0071655684150755405, -0.0003035189874935895, 0.012891041114926338, -0.028084294870495796, -0.001749889343045652, -0.05046207830309868, -0.01863197609782219, -0.01862141117453575, 0.01799139380455017, 0.0278154443949461, 0.01978950947523117, 0.023173842579126358, 0.03566141054034233, 0.03780054301023483, -0.013569002039730549, 0.01879901997745037, -0.00685566570609808, -0.019783327355980873, -0.026628829538822174, 0.04365938901901245, 0.020846202969551086, -0.006833471357822418, -0.01970781944692135, -0.0672478899359703, -0.022493841126561165, -0.0617370568215847, -0.04176521301269531, -0.013921584002673626, 0.012258470989763737, 0.01220003329217434, -0.0021734184119850397, -0.0237551499158144, 0.04684071242809296, 0.04744363948702812, -0.009026740677654743, 0.043954383581876755, 0.012551911175251007, 0.011596710421144962, -0.08080050349235535, 0.06497912853956223, 0.013338021002709866, 0.06146538630127907, -0.057050347328186035, -0.014676772058010101, -0.026478951796889305, -0.050962526351213455, -0.053420331329107285, 0.03538412228226662, -0.08055546879768372, 0.09455525875091553, 0.004964151885360479, -0.047663550823926926, -0.0020234817638993263, 0.005207074340432882, -0.009837061166763306, 0.043297216296195984, 0.0014516889350488782, 0.0042341770604252815, -0.02169283851981163, -0.03339642658829689, -0.009065940976142883, 0.04190262034535408, 0.03196335956454277, -0.009289969690144062, 0.002259453758597374, -0.0018129663076251745, -0.06434575468301773, -0.07021211087703705, 0.021218791604042053, 0.029851339757442474, -0.00548796309158206, -0.04984268173575401, 0.004141293931752443, 0.05716318637132645, 0.03450355678796768, 0.418124258518219, -0.060350626707077026, -0.00883024837821722, 0.09978542476892471, 0.007189715281128883, 0.05702020600438118, 0.040551669895648956, 0.08723471313714981, 0.015327456407248974, 0.019763844087719917, -0.006116642151027918, -0.03168102726340294, -0.028921347111463547, -0.01826414279639721, -0.05961098521947861, 0.07297395169734955, -0.026499800384044647, -0.07602535933256149, 0.04560219123959541, 0.0013889692490920424, 0.027259821072220802, 0.017780177295207977, -0.007601433899253607, 0.07030435651540756, 0.0024624315556138754, -0.03667496144771576, 0.0037367679178714752, 0.008276879787445068, 0.03599148243665695, 0.021737653762102127, 0.05156105384230614, 0.00015099806478247046, 0.06971731781959534, -0.0654858723282814, 0.006818762049078941, -0.03456205502152443, 0.02980048581957817, -6.127319647930562e-05, 0.01617003045976162, -0.05314486473798752, 0.009938160888850689, -0.04668246954679489, 0.0529995821416378, 0.004535327199846506, 0.012088395655155182, -0.0661921352148056, 0.0701000988483429, -0.01951546221971512, 0.06307860463857651, -0.0013189432211220264, 0.037787094712257385, -0.014141510240733624, 0.019867656752467155, -0.025467125698924065, -0.0005814142641611397, -0.04042854532599449, 0.022102730348706245, 0.0721825584769249, -0.029489219188690186, 0.004527251236140728, -0.020212089642882347, 0.000539463188033551, -0.056936055421829224, -0.023612353950738907, 0.05700567737221718, 0.041519757360219955, -0.08445410430431366, -0.03190315142273903, 0.012239021249115467, 0.034769851714372635, -0.00221035024151206, 0.030372798442840576, -0.008988860994577408, -0.028474444523453712, -0.013185586780309677, 0.052216142416000366, -0.026681069284677505, -0.02009613998234272, 0.034012649208307266, -0.003860372118651867, 0.01389245968312025, 0.07866418361663818, -2.2108035409473814e-05, -0.014609070494771004, 0.012650999240577221, -0.0588371604681015, 0.020736685022711754, -0.016387758776545525, 0.01231132447719574, 0.04918890446424484, 0.014548039063811302, -0.019267110154032707, 0.014628018252551556, -0.0619669146835804, -0.08139253407716751, -0.0012268925784155726, 0.017214536666870117, 0.02256484515964985, -0.02995241805911064, -0.01333004143089056, -0.07913441956043243, 0.05147122964262962, 0.04606013000011444, 0.00031434406992048025, 0.03174252435564995, -0.03901437297463417, 0.020684577524662018, 0.05297991260886192, -0.017705636098980904, 0.017176127061247826, -0.030119193717837334, -0.05703730136156082, -0.02165955677628517, 0.012915153056383133, 0.004300201777368784, 0.013060150668025017, -0.020144818350672722, 0.0019494160078465939, 0.03324775770306587, 0.05678064376115799, 0.09708371013402939, -0.037902604788541794, -0.03030078113079071, -0.0337311252951622, -0.2867323160171509, -0.00417475076392293, 0.0020328424870967865, -0.0116933174431324, -0.008136731572449207, 0.055214446038007736, -0.009993589483201504, 0.017525607720017433, -0.01731302961707115, 0.00627406919375062, 0.07255541533231735, -0.0463632307946682, 0.028318582102656364, 0.01201171800494194, -0.031297024339437485, -0.008142146281898022, 0.04636412113904953, -0.059832941740751266, -0.04101797193288803, -0.08067529648542404, -0.008620859123766422, -0.020005453377962112, -0.03646505996584892, -0.06486448645591736, 0.03287094831466675, 0.011496089398860931, 0.0939864069223404, 0.09459679573774338, 0.03533899411559105, -0.04257062450051308, 0.039321839809417725, 0.05091413855552673, -0.02782639116048813, -0.1327647864818573, 0.0027750045992434025, -0.0493527352809906, 0.01146828942000866, -0.06096722558140755, -0.019291935488581657, -0.004298924468457699, 0.016462739557027817, -0.0022968524135649204, 0.018412329256534576, -0.04401800036430359, -0.049855902791023254, -0.034053608775138855, -0.004215009976178408, -0.010973884724080563, 9.045225306181237e-05, 0.038337282836437225, 0.009064700454473495, -0.0016926635289564729, 0.03000147081911564, 0.04678110033273697, -0.008110863156616688, -0.013886034488677979, -0.04640403017401695, 0.06132578104734421, 0.003121960209682584, 0.025297919288277626, 0.02524709887802601, -0.10792145133018494, 0.033924441784620285, 0.012078889645636082, -0.02489718422293663, -0.012694349512457848, -0.019735904410481453, -0.04082805663347244, 0.09521909058094025, -0.05597953870892525, -0.005480897147208452, 0.08445868641138077, 0.005129089578986168, -0.009862690232694149, 0.011460820212960243, -0.046986859291791916, -0.011625874787569046, -0.0665287896990776, 0.020194826647639275, -0.02192043326795101, 0.021462751552462578, 0.028494352474808693, 0.031078742817044258, -0.011130070313811302, 0.017977138981223106, -0.06953231990337372, 0.04687429219484329, -0.048111699521541595, 0.015153740532696247, 0.003297842340543866, -0.06777886301279068, 0.04772510752081871, -0.04693099856376648, -0.06720111519098282, -0.026842588558793068, -0.032812368124723434, -0.31782084703445435, -0.014644540846347809, -0.005298261065036058, 0.054962772876024246, 0.0460030771791935, 0.051412735134363174, 0.01129992213100195, 0.028466224670410156, -0.046328943222761154, 0.05331242457032204, 0.05247008800506592, 0.004982868209481239, 0.01814247854053974, -0.05909113958477974, 0.02661270834505558, 0.02447659522294998, 0.026738546788692474, -0.008792854845523834, 0.009634975343942642, 0.0026237405836582184, 0.01595308445394039, -0.020893141627311707, 0.17343270778656006, -0.019700396806001663, 0.02149774134159088, -0.027314264327287674, -0.04514790326356888, -0.02544107288122177, 0.1016274243593216, 0.012797487899661064, -0.009467538446187973, 0.02470308542251587, 0.09709665179252625, 0.007701843045651913, -0.022621043026447296, 0.037088312208652496, -0.007388625293970108, -0.008541877381503582, 0.0011848609428852797, -0.03724661096930504, -0.03083919547498226, -0.09018699079751968, -0.03800792247056961, -0.01337231695652008, 0.0765254870057106, 0.045171767473220825, 0.009976362809538841, -0.036466874182224274, -0.04630367085337639, -0.03821196034550667, 8.375725883524865e-05, -0.0012185390805825591, -0.019446715712547302, 0.03358405828475952, -0.0013733339728787541, 0.07630417495965958, -0.003631425090134144, -0.01641801930963993, 0.015560039319097996, -0.06481959670782089, -0.03977251797914505, 0.07479165494441986, 0.08032526820898056, -0.009402225725352764, 0.027141235768795013], metadata={'file_path': '/content/data/persona_1001.txt', 'file_name': 'persona_1001.txt', 'file_type': 'text/plain', 'file_size': 157, 'creation_date': '2025-04-04', 'last_modified_date': '2025-04-04'}, excluded_embed_metadata_keys=['file_name', 'file_type', 'file_size', 'creation_date', 'last_modified_date', 'last_accessed_date'], excluded_llm_metadata_keys=['file_name', 'file_type', 'file_size', 'creation_date', 'last_modified_date', 'last_accessed_date'], relationships={<NodeRelationship.SOURCE: '1'>: RelatedNodeInfo(node_id='ee365b6a-e92d-4d96-b57c-a2a3e1e8b685', node_type=<ObjectType.DOCUMENT: '4'>, metadata={'file_path': '/content/data/persona_1001.txt', 'file_name': 'persona_1001.txt', 'file_type': 'text/plain', 'file_size': 157, 'creation_date': '2025-04-04', 'last_modified_date': '2025-04-04'}, hash='c8f5fd989e0d9456ab42dbcace5731c65d7b97ba20691a695a400e9b03fffc4a')}, metadata_template='{key}: {value}', metadata_separator='\\n', text='A web developer or a web development student, likely in the early stages of their learning or career, with a strong focus on HTML, CSS, and website building.', mimetype='text/plain', start_char_idx=0, end_char_idx=157, metadata_seperator='\\n', text_template='{metadata_str}\\n\\n{content}'),\n",
              " TextNode(id_='355c5eda-7c4c-4a87-accf-aaa758043c71', embedding=[0.0004281873407308012, -0.005953346379101276, 0.05893805995583534, 0.022401144728064537, 0.07433075457811356, -0.07205170392990112, 0.05908258259296417, 0.030566532164812088, -0.06076981499791145, 0.03718136250972748, 0.005467227194458246, -0.07357214391231537, -0.004533783067017794, 0.011325113475322723, 0.03145808354020119, 0.016618385910987854, 0.021244781091809273, 0.05733868107199669, 0.046185921877622604, 0.0058258306235075, -0.010808578692376614, 0.022591836750507355, -0.027743816375732422, -0.0693468302488327, -0.011872462928295135, 0.02016107179224491, -0.013567258603870869, 0.007479037158191204, -0.07073220610618591, -0.08873878419399261, -0.03160148859024048, 0.02745993435382843, -0.000737982161808759, 0.01955132558941841, 0.03006323054432869, 0.04568483307957649, 0.01771790347993374, 0.004724424798041582, -0.01821991056203842, 0.027558881789445877, 0.029851693660020828, 0.01505813468247652, 0.011190696619451046, -0.009529552422463894, -0.03364100679755211, -0.06963477283716202, 0.01740034855902195, -0.0304787065833807, -0.08228927105665207, -0.062126997858285904, 0.00241711619310081, -0.06704273819923401, -0.07486122101545334, 0.02530905418097973, 0.0005203803302720189, -0.0006181913777254522, 0.08317557722330093, 0.036110084503889084, 0.020891249179840088, 0.02544211782515049, 0.023571521043777466, 0.006954288110136986, -0.1620442420244217, 0.05389136075973511, 0.029651200398802757, 0.025511540472507477, -0.0816885307431221, -0.06788256764411926, 0.050282347947359085, -0.05095788091421127, -0.06326155364513397, 0.033117204904556274, -0.0443582609295845, 0.03843419998884201, 0.05940963327884674, -0.012965870089828968, -0.06999521702528, 0.037804264575242996, -0.02415655553340912, 0.005907545797526836, 0.06517715752124786, -0.008360767737030983, -0.08319089561700821, -0.10181542485952377, 0.05237654969096184, -0.005096685141324997, -0.004080307669937611, -0.014743457548320293, -0.014930950477719307, -7.37589507480152e-05, 0.024606546387076378, -0.046366311609745026, 0.04500061646103859, -0.05147857218980789, -0.0002143724268535152, -0.0066772024147212505, 0.051273006945848465, 0.010545128956437111, -0.0025956195313483477, 0.39810341596603394, -0.02336970530450344, 0.005697592161595821, 0.03212851285934448, 0.06758349388837814, 0.004938478581607342, 0.0062792543321847916, -0.024220949038863182, -0.06501365453004837, 0.002112281508743763, 0.03279878571629524, -0.005738849751651287, -0.04775507375597954, -0.017218906432390213, 0.08113490790128708, 0.07540849596261978, -0.021016208454966545, -0.016098588705062866, 0.05871593579649925, -0.012840775772929192, 0.036922600120306015, -0.05825018137693405, 0.05767466127872467, 0.03697662800550461, 0.017585214227437973, 0.027015788480639458, 0.01924356259405613, 0.045373812317848206, 0.06058812141418457, 0.01701558381319046, 0.02890332043170929, 0.06611669808626175, 0.04870659485459328, -0.043243102729320526, 0.022322287783026695, -0.008426179178059101, -0.0029517405200749636, 0.0275779627263546, -0.02494143322110176, -0.033999454230070114, 0.09271269291639328, -0.0026903513353317976, 0.03894098848104477, -0.054622892290353775, -0.05249839276075363, -0.0449698269367218, 0.08673973381519318, 0.023032434284687042, 0.03913344815373421, -0.038755230605602264, 0.03940314054489136, -0.03740110248327255, -0.0011073681525886059, -0.012920835986733437, 0.012048621661961079, 0.07093863189220428, 0.04597067832946777, 0.0713057667016983, -0.0229487381875515, -0.012820747680962086, -0.016599254682660103, 0.02765345200896263, -0.003411911427974701, 0.043062973767519, 0.05143504962325096, 0.08282972872257233, -0.03244504705071449, 0.005529943387955427, 0.0037476320285350084, -0.0041289846412837505, 0.0218751709908247, 0.031829845160245895, 0.05423984304070473, 0.013099350035190582, -0.03215229511260986, 0.05026594176888466, -0.029497021809220314, 0.0022393413819372654, 0.019365454092621803, -0.01652437448501587, -0.07637877762317657, 0.04294038191437721, 0.047908585518598557, 0.019129442051053047, -0.01014986913651228, -0.008633428253233433, 0.0054940590634942055, -0.056329380720853806, 0.02154283970594406, -0.039278194308280945, -0.01926804706454277, -0.007977044209837914, 0.04638185352087021, 0.04481319338083267, -0.035052478313446045, -0.01009369920939207, -0.061311740428209305, 0.002197473542764783, -0.023326773196458817, -0.010712550953030586, -0.021969901397824287, -0.00951342936605215, 0.03401622176170349, -0.004886533599346876, -0.0036499437410384417, -0.040284305810928345, -0.007622627541422844, 0.008476820774376392, -0.019323622807860374, 0.031249482184648514, 0.0033483223523944616, -0.0012995522702112794, 0.006122972816228867, -0.033000584691762924, 0.04041455686092377, -0.05190460383892059, 0.011117183603346348, 0.02418815717101097, 0.013159245252609253, 0.0876125767827034, 0.05851959064602852, 0.020762447267770767, -0.043711330741643906, -0.041275884956121445, -0.3159783184528351, -0.057424601167440414, -0.06279199570417404, 0.015136022120714188, -0.0067366682924330235, 0.04623642936348915, -0.03947571665048599, -0.007262557744979858, 0.00012289942242205143, 0.04300877824425697, -0.022975627332925797, 0.009273620322346687, 0.07140988111495972, 0.019738201051950455, 0.03851914778351784, -0.014658048748970032, 0.07223959267139435, -0.03302639350295067, -0.09536079317331314, -0.01802113465964794, 0.014979752711951733, 0.03264002129435539, -0.029745759442448616, -0.053204428404569626, 0.023052265867590904, -0.005753211677074432, 0.08703717589378357, 0.04415594041347504, -0.027941282838582993, -0.04819819703698158, -0.0501728281378746, 0.009982505813241005, 0.006839847192168236, -0.12272170186042786, -0.010213769041001797, -0.030127141624689102, -0.02040202170610428, -0.0453052818775177, -0.04424695670604706, -0.011011147871613503, 0.07709594070911407, 0.030128389596939087, -0.0035849439445883036, 0.031206266954541206, -0.03594439476728439, 0.030393928289413452, 0.015341500751674175, 0.03974566236138344, -0.047950465232133865, -0.025133652612566948, 0.005868425592780113, 0.049628566950559616, -0.0001223371655214578, 0.023081498220562935, 0.019049542024731636, 0.009005884639918804, -0.04046925902366638, 0.030714355409145355, -0.024266527965664864, -0.04402505233883858, 0.05439368635416031, -0.06011710315942764, 0.001369659323245287, 0.04415840283036232, -0.0009273710893467069, 0.0008654171251691878, 0.022522659972310066, -0.05763471871614456, 0.038658030331134796, -0.11087920516729355, 0.010923303663730621, 0.038743264973163605, -0.046132754534482956, -0.04822615161538124, -0.02721300721168518, -0.008348788134753704, 0.02160918153822422, -0.038146596401929855, -0.055655624717473984, -0.041697908192873, 0.08584612607955933, -0.02162332274019718, 0.0005349356797523797, 0.017523817718029022, -0.0139699662104249, -0.013000269420444965, -0.043016646057367325, -0.05501091107726097, 0.025456000119447708, 0.012499022297561169, -0.008063622750341892, 0.004898863844573498, -0.05540398135781288, -0.055542562156915665, 0.030818676576018333, 0.015007217414677143, -0.2585785686969757, 0.016168704256415367, -0.029622042551636696, -0.05215105786919594, 0.004759065341204405, 0.02647511474788189, -0.039760440587997437, -0.010373438708484173, 0.005164076574146748, -0.007286696694791317, 0.02921694703400135, 0.022904271259903908, 0.0021170973777770996, 0.05221736058592796, 0.0012262823292985559, 0.04799727350473404, 0.024530816823244095, 0.01714620366692543, 0.022061625495553017, -0.023978829383850098, 0.029961058869957924, 0.008000701665878296, 0.17166569828987122, 0.0005471869953908026, -0.0008424669504165649, 0.006291594821959734, -0.023779479786753654, -0.05568607896566391, 0.056507885456085205, -0.018017616122961044, 0.07041311264038086, 0.015365997329354286, 0.09952419996261597, -0.0774889886379242, 0.01881478913128376, 0.048123687505722046, 0.02840147167444229, -0.003570555243641138, 0.0168136116117239, -0.04050751030445099, -0.01656736060976982, -0.036205727607011795, 0.026631826534867287, -0.0038117803633213043, 0.05317346006631851, -0.010449830442667007, -0.013586332090198994, -0.08021658658981323, -0.06185218319296837, 0.08877591788768768, -0.019051359966397285, 0.039364948868751526, -0.04949766397476196, 0.008040514774620533, -0.01120490301400423, 0.014676367864012718, 0.01797408238053322, -0.004398495890200138, -0.030871599912643433, -0.052803512662649155, 0.019806616008281708, -0.04110052436590195, -0.10163934528827667, -0.00026298032025806606, 0.0447462797164917], metadata={'file_path': '/content/data/persona_1002.txt', 'file_name': 'persona_1002.txt', 'file_type': 'text/plain', 'file_size': 122, 'creation_date': '2025-04-04', 'last_modified_date': '2025-04-04'}, excluded_embed_metadata_keys=['file_name', 'file_type', 'file_size', 'creation_date', 'last_modified_date', 'last_accessed_date'], excluded_llm_metadata_keys=['file_name', 'file_type', 'file_size', 'creation_date', 'last_modified_date', 'last_accessed_date'], relationships={<NodeRelationship.SOURCE: '1'>: RelatedNodeInfo(node_id='dffd5dcb-ac8e-4236-b6db-665dac8c9ccf', node_type=<ObjectType.DOCUMENT: '4'>, metadata={'file_path': '/content/data/persona_1002.txt', 'file_name': 'persona_1002.txt', 'file_type': 'text/plain', 'file_size': 122, 'creation_date': '2025-04-04', 'last_modified_date': '2025-04-04'}, hash='808dfdc49d8da42c0cb59f704d93af5098ef185fedb4c4682927677a4c8be099')}, metadata_template='{key}: {value}', metadata_separator='\\n', text='An ecologist specializing in climate change impacts on regional ecosystems, particularly those with diverse plant species.', mimetype='text/plain', start_char_idx=0, end_char_idx=122, metadata_seperator='\\n', text_template='{metadata_str}\\n\\n{content}'),\n",
              " TextNode(id_='6dcb05a5-1670-4d6c-abe5-f5832ab7fb21', embedding=[-0.013281885534524918, 0.05426706373691559, 0.0630611777305603, -0.029816286638379097, -0.024994997307658195, -0.056636787950992584, 0.09279121458530426, 0.049085915088653564, -0.022996293380856514, -0.0019872214179486036, 0.03846631199121475, -0.02510334551334381, -0.013863060623407364, -0.017900459468364716, 0.05386364087462425, 0.044651951640844345, 0.01910606399178505, 0.01929209940135479, 0.005385913886129856, 0.057545021176338196, 0.13347966969013214, 0.02351721003651619, 0.0018114752601832151, -0.046807873994112015, 0.003123838221654296, -0.02013050764799118, 0.014200273901224136, -0.07238157838582993, -0.013150649145245552, -0.05645709112286568, -0.01732086017727852, -0.006589539349079132, 0.023083344101905823, 0.014735795557498932, -0.009513824246823788, 0.01595209911465645, 0.003777113277465105, 0.01240545604377985, -0.017210856080055237, -0.014505048282444477, -0.026245087385177612, -0.08292917162179947, -0.04289407283067703, 0.007612096145749092, -0.035586848855018616, -0.03225450962781906, -0.0810999721288681, -0.07886019349098206, -0.02033512480556965, -0.08352559059858322, -0.014805763959884644, -0.025051094591617584, 0.037025757133960724, 0.0493183508515358, -0.010803284123539925, 0.007720364723354578, 0.006527226883918047, 0.0190057922154665, 0.008375332690775394, 0.013261815533041954, -0.0004471188294701278, 0.0713132843375206, -0.12362533807754517, 0.08621411770582199, 0.004306398332118988, 0.07335375249385834, -0.018730107694864273, -0.04066285490989685, 0.04187032952904701, -0.08942478895187378, -0.017271248623728752, 0.030606234446167946, -0.031138181686401367, 0.09934692084789276, 0.03838727995753288, -0.01044706255197525, -0.011673148721456528, -0.02518310770392418, -0.005847536493092775, 0.05250226706266403, 0.010264607146382332, -0.06018894165754318, -0.02127961441874504, -0.06734791398048401, 0.03519284352660179, -0.0038355907890945673, 0.014896998181939125, -0.03506191074848175, 0.005253633484244347, -0.017046427354216576, -0.03582447022199631, -0.021633455529808998, 0.02478807047009468, 0.007364482618868351, 0.013205108232796192, -0.06363016366958618, -0.009402687661349773, -0.015042426995933056, -0.05473294481635094, 0.386761337518692, 0.00021372026822064072, 0.012011736631393433, 0.09859520196914673, 0.028981909155845642, 0.04972713813185692, 0.05514714494347572, 0.017344407737255096, -0.043227024376392365, -0.0253672543913126, -0.026499923318624496, -0.036689843982458115, -0.013050578534603119, -0.0449044294655323, -0.004786200821399689, 0.019694922491908073, 0.0296306349337101, -0.05125594511628151, -0.013649183325469494, 0.061721257865428925, 0.0214275810867548, -0.04937447980046272, 0.010730293579399586, 0.0370476134121418, -0.01535807829350233, -0.009565930813550949, -0.011630015447735786, 0.011346802115440369, 0.05415039882063866, 0.012994789518415928, 0.08837903290987015, 0.06387677043676376, -0.004744039382785559, -0.06968548893928528, 0.007612789049744606, -0.018404167145490646, 0.0337575301527977, 0.020177019760012627, -0.02619774080812931, -0.012155070900917053, 0.0606628842651844, -0.03192988038063049, 0.02890155091881752, -0.0482555516064167, -0.00312823080457747, -0.027282683178782463, 0.06344599276781082, -0.11120882630348206, 0.04926640912890434, 0.008668843656778336, 0.09956043213605881, 0.01329924538731575, 0.008679749444127083, -0.04900754615664482, 0.039889585226774216, 0.03395109996199608, 0.016540607437491417, 0.14198099076747894, -0.02398199774324894, -0.033271823078393936, -0.012474053539335728, -0.003752702847123146, -0.061028167605400085, -0.0220533087849617, 0.033199165016412735, 0.0612451545894146, -0.05208054929971695, -0.0373523123562336, 0.05937032774090767, -0.019768325611948967, -0.04454169049859047, 0.03548615425825119, 0.03965901583433151, 0.012223864905536175, 0.0006378323887474835, 0.03882141783833504, -0.011514280922710896, -0.010433962568640709, 0.022039221599698067, -0.010717933066189289, 0.007387969177216291, 0.045554641634225845, -0.06556235253810883, -0.0060447691939771175, -0.009185481816530228, -0.06813586503267288, 0.04430397227406502, 0.07426261901855469, -0.010569886304438114, 0.05242864415049553, 0.05472690612077713, 0.0075966306030750275, 0.00565195269882679, -0.09445064514875412, -0.06534281373023987, 0.03319937735795975, 0.022926831617951393, 0.009619327262043953, -0.05737786740064621, -0.02183694764971733, -0.03968394920229912, -0.0011271483963355422, 0.0593271404504776, -0.023402944207191467, 0.050843678414821625, -0.028923047706484795, 0.04904147982597351, 0.028955815359950066, -0.008862558752298355, 0.03908487781882286, -0.01574641652405262, -0.026236683130264282, -0.009536975994706154, -0.010976377874612808, -0.03479344770312309, -0.04212988540530205, -0.008495843037962914, 0.0011215141275897622, 0.0648534744977951, 0.02668682485818863, 0.0239206962287426, -0.01801823265850544, 0.018412288278341293, -0.02230054698884487, -0.2805720269680023, 0.018323378637433052, 0.006713735405355692, -0.03991511091589928, -0.020729586482048035, 0.042476363480091095, -0.03640636429190636, 0.06292851269245148, -0.04294561222195625, 0.004218840505927801, 0.0643267035484314, 0.008579983375966549, 0.03925495594739914, 0.05310874059796333, 0.01298234798014164, -0.013167200610041618, 0.024017466232180595, -0.028584400191903114, -0.017485568299889565, -0.02763397805392742, 0.041846781969070435, 0.031859755516052246, 0.0005121092544868588, -0.012111571617424488, -0.0012765639694407582, 0.004811928607523441, 0.07501515746116638, 0.017217382788658142, 0.06280210614204407, -0.0945526733994484, -0.03603483363986015, 0.018490567803382874, -0.02824590355157852, -0.1034754067659378, -0.00041926660924218595, -0.06426113098859787, -0.048799626529216766, -0.016265956684947014, -0.00011733081919373944, -0.049682628363370895, -0.04587257280945778, 0.006553169339895248, 0.0022855871357023716, -0.029921842738986015, -0.035047005861997604, -0.02174447476863861, 0.04859032854437828, -0.01230153813958168, 0.0027119258884340525, 0.07033050060272217, 0.021581992506980896, -0.08403968811035156, -0.0442955382168293, 0.048255741596221924, -0.045050982385873795, 0.021019157022237778, -0.05623475834727287, 0.07683909684419632, -0.058099519461393356, -0.025063887238502502, 0.036413129419088364, -0.05603647604584694, 0.011522532440721989, 0.027776779606938362, -0.026101499795913696, -0.0021147022489458323, 0.012376276776194572, 0.054419707506895065, 0.031388215720653534, -0.06043155491352081, -0.006947202142328024, 0.06299431622028351, -0.0014903038972988725, -0.010308158583939075, -0.0396459698677063, -6.848170596640557e-05, 0.06068939343094826, -0.03478143736720085, 0.003628859296441078, -0.01969246193766594, 0.05754297226667404, -0.00467246538028121, -0.030263174325227737, 0.003175969235599041, 0.06153777614235878, -0.04348691180348396, 0.049796126782894135, -0.04679841175675392, 0.015290845185518265, 0.008853013627231121, -0.028594180941581726, 0.026998160406947136, 0.011267704889178276, -0.045111432671546936, 0.015849251300096512, -0.05608273297548294, -0.27547815442085266, 0.010874071158468723, -0.019252857193350792, -0.03261858969926834, 0.012462751008570194, 0.06269176304340363, -0.05290286988019943, 0.006476763170212507, -0.040257133543491364, -0.028585629537701607, 0.05833959951996803, -0.00651533855125308, -0.0293866116553545, -0.005889333784580231, -0.04726950451731682, 0.02841676026582718, 0.09521710127592087, -0.019428370520472527, 0.00865519605576992, -0.08718828111886978, -0.005116608459502459, 0.011761405505239964, 0.15689121186733246, 0.010016937740147114, -0.0028557756450027227, -0.04732493683695793, -0.04391718655824661, -0.004401213489472866, 0.0982741042971611, -0.06648252159357071, 0.06848698854446411, -0.01707693375647068, 0.04118478298187256, -0.006015729624778032, 0.048988427966833115, 0.03904822841286659, 0.0402950756251812, 0.0291771050542593, 0.028803983703255653, 0.026359399780631065, -0.004736566450446844, -0.07842496037483215, -0.035832617431879044, -0.02688548155128956, 0.07511311024427414, 0.04716178774833679, -0.00804566778242588, -0.08534768223762512, -0.04193542152643204, -0.03474196419119835, 0.04125792905688286, -0.0054627107456326485, -0.0378447063267231, 0.03744979575276375, -0.0037874726112931967, 0.07539413124322891, -0.0030145025812089443, 0.015562095679342747, -0.015954075381159782, -0.055576298385858536, 0.0182366743683815, -0.024927573278546333, 0.023787181824445724, 0.021541427820920944, 0.050788454711437225], metadata={'file_path': '/content/data/persona_1003.txt', 'file_name': 'persona_1003.txt', 'file_type': 'text/plain', 'file_size': 170, 'creation_date': '2025-04-04', 'last_modified_date': '2025-04-04'}, excluded_embed_metadata_keys=['file_name', 'file_type', 'file_size', 'creation_date', 'last_modified_date', 'last_accessed_date'], excluded_llm_metadata_keys=['file_name', 'file_type', 'file_size', 'creation_date', 'last_modified_date', 'last_accessed_date'], relationships={<NodeRelationship.SOURCE: '1'>: RelatedNodeInfo(node_id='22759691-455c-4a7f-bc40-3d7706bb29ee', node_type=<ObjectType.DOCUMENT: '4'>, metadata={'file_path': '/content/data/persona_1003.txt', 'file_name': 'persona_1003.txt', 'file_type': 'text/plain', 'file_size': 170, 'creation_date': '2025-04-04', 'last_modified_date': '2025-04-04'}, hash='ecb05ea1b3cb2d5b9c77ba4538256f7d04e6236ecd926ec789e5408a8264097f')}, metadata_template='{key}: {value}', metadata_separator='\\n', text='A special education teacher or instructional specialist focused on inclusive education and assistive technology, likely working with students with diverse learning needs.', mimetype='text/plain', start_char_idx=0, end_char_idx=170, metadata_seperator='\\n', text_template='{metadata_str}\\n\\n{content}'),\n",
              " TextNode(id_='29c51c87-96e1-4eec-8587-0feb883bf974', embedding=[0.008954835124313831, 0.01747025176882744, 0.049970149993896484, 0.0032795160077512264, 0.0424249991774559, -0.03270401060581207, 0.02868117392063141, 0.025600770488381386, -0.05926702544093132, 0.015584167093038559, -0.024327082559466362, -0.032481785863637924, -0.03248649835586548, 0.016494719311594963, -0.008759615942835808, 0.04152640700340271, -0.07574546337127686, 0.0823860913515091, 0.07781076431274414, 0.02167455665767193, 0.05090128630399704, -0.024995772168040276, -0.029679562896490097, -0.016817215830087662, -0.01229835208505392, 0.01568865217268467, -0.007409106008708477, -0.007630696054548025, -0.04551132023334503, -0.067133828997612, -0.0351734533905983, -0.003103250404819846, -0.029393313452601433, 0.06697038561105728, 0.015313933603465557, 0.06189851090312004, 0.04649246484041214, 0.08015723526477814, -0.022774985060095787, 0.04608897492289543, -0.03012734465301037, 0.012257590889930725, 0.018127424642443657, 0.03213239833712578, 0.0031080672051757574, -0.032645221799612045, 0.041966840624809265, -0.08339846879243851, -0.07510574162006378, -0.09345188736915588, 0.04356580227613449, -0.024996565654873848, -0.0767531543970108, 0.043999381363391876, 0.030493134632706642, 0.03918864205479622, 0.07716068625450134, 0.03932864964008331, 0.005545979365706444, 0.005281759891659021, 0.02524428255856037, 0.013371826149523258, -0.1874469816684723, 0.08798760920763016, -0.023875221610069275, -0.010841640643775463, -0.08763398230075836, -0.018536988645792007, -0.005796166602522135, -0.07000913470983505, -0.0408141128718853, -0.02066853828728199, -0.04456445574760437, 0.03982173278927803, 0.04743098467588425, -0.028687192127108574, -0.028037959709763527, 0.029315294697880745, -0.03047633171081543, -0.003690375480800867, 0.026789892464876175, 0.0021145562641322613, -0.013008758425712585, -0.05255253240466118, 0.013085589744150639, 0.026191825047135353, -0.018410498276352882, 0.0017362312646582723, 0.02691662684082985, 0.007469272706657648, -0.015596209093928337, -0.02978958934545517, 0.08216825127601624, -0.034699663519859314, 0.003826096188277006, -0.026480158790946007, 0.06424177438020706, 0.04767614230513573, 0.005868504289537668, 0.4080929458141327, -0.04674798250198364, 0.06204654648900032, 0.05049511790275574, 0.056249022483825684, 0.03575444594025612, -0.024262160062789917, -0.04988852143287659, -0.07080662995576859, -0.020837625488638878, -0.01775529980659485, -0.05906389281153679, -0.012928520329296589, -0.010281487368047237, 0.07155005633831024, 0.13299405574798584, -0.04401927441358566, -0.016759932041168213, 0.061625391244888306, -0.040819283574819565, 0.03043976239860058, -0.011932631023228168, -0.0590410977602005, 0.052203238010406494, 0.06158376857638359, 0.046978335827589035, 0.023563379421830177, 0.04383184760808945, 0.0017669741064310074, 0.047620825469493866, 0.004180211573839188, 0.01718832366168499, 0.04327237233519554, -0.0647481381893158, 0.04593152552843094, -0.02331206575036049, -0.034610506147146225, 0.00017813063459470868, -0.04127293452620506, -0.024149199947714806, 0.036118414252996445, -0.04145851358771324, 0.07716270536184311, -0.05429186671972275, -0.03616134822368622, -0.09565264731645584, 0.06190982460975647, 0.016448644921183586, -0.00920798722654581, 0.006629870738834143, 0.0311901792883873, -0.031814586371183395, -0.026549529284238815, 0.028578471392393112, 0.004865773022174835, 0.022286320105195045, 0.03121262602508068, 0.04868876188993454, 0.02840081788599491, 0.017040524631738663, 0.029379919171333313, 0.01660894975066185, -0.039302509278059006, 0.021682290360331535, 0.06874250620603561, 0.02397766150534153, -0.08827855437994003, -0.04104487970471382, 0.000531461089849472, 0.029353100806474686, 0.003079620422795415, 0.03959140181541443, 0.015755968168377876, 0.02997538074851036, 0.02691430225968361, 0.07946062088012695, 0.010246737860143185, 0.005614222027361393, 0.042977042496204376, -0.014724193140864372, -0.01834907755255699, 0.03540675714612007, -0.0371127724647522, -0.06150437146425247, -0.00792767945677042, -0.01172191184014082, 0.007418312598019838, -0.043542325496673584, -0.006455334834754467, 0.0037110778503119946, 0.057924844324588776, -0.006133024115115404, 0.021482892334461212, 0.023563863709568977, -0.04187004640698433, 0.000766671437304467, -0.0406799241900444, -0.0038526509888470173, -0.036731693893671036, 0.0007030706619843841, -0.03498150780797005, -0.04750905930995941, -0.016527274623513222, -0.04289761558175087, 0.037143636494874954, 0.0013766633346676826, 0.033392611891031265, 0.002097678603604436, -0.014385929331183434, 0.04739905148744583, -0.012884690426290035, -0.022174067795276642, 0.041656989604234695, 0.004970329813659191, -0.008842213079333305, 0.03193259984254837, 0.032080262899398804, 0.022400854155421257, -0.008970344439148903, 0.0813283771276474, 0.039277803152799606, -0.02010929211974144, -0.05677707865834236, -0.0626756027340889, -0.2896207869052887, -0.05590638518333435, -0.1020246148109436, 0.013512124307453632, -0.07427767664194107, 0.021607976406812668, -0.018660474568605423, -0.015360652469098568, -0.056454651057720184, 0.06401500850915909, -0.002445537829771638, -0.044160395860672, 0.047219377011060715, 0.07239305973052979, 0.022858956828713417, 0.025584006682038307, 0.0635511726140976, -0.05391431227326393, -0.06847523152828217, 0.0033148217480629683, 0.05793162062764168, -0.04905727878212929, -0.03545616939663887, -0.050660401582717896, 0.017385993152856827, -0.0027518561109900475, 0.10845140367746353, 0.0064503769390285015, 0.00964038074016571, -0.0019241991685703397, -0.009418206289410591, 0.007819566875696182, -0.02491854503750801, -0.1302451491355896, -0.029543396085500717, -0.013866392895579338, -0.006576313637197018, -0.0019601427484303713, -0.0610402449965477, -0.009124468080699444, -0.010652696713805199, 0.03871634975075722, -0.03851483017206192, 0.0180525965988636, -0.08829958736896515, -0.004712715279310942, -0.019357766956090927, 0.032752107828855515, 0.015080198645591736, -0.011877891607582569, -0.01244479138404131, -0.030949722975492477, -0.010876747779548168, 0.0032043776009231806, 0.002931411610916257, 0.040276266634464264, -0.04358739033341408, 0.02623121812939644, -0.023905450478196144, -0.003243465209379792, 0.004032254219055176, -0.05838631093502045, 0.033155929297208786, 0.06717418879270554, 0.02862653322517872, 0.013620548881590366, -0.032329313457012177, -0.01684386655688286, 0.027839282527565956, -0.05675545707345009, -0.0013719316339120269, 0.08402539044618607, -0.048298273235559464, -0.10913197696208954, 0.027359452098608017, -0.02773485891520977, -0.00936411414295435, -0.02582477405667305, 0.0073668924160301685, -0.029673699289560318, 0.044805388897657394, -0.02911069057881832, 0.02837756834924221, -0.02270105667412281, -0.014455330558121204, 0.012554197572171688, 0.004960326477885246, -0.041239939630031586, 0.014650450088083744, 0.004827601369470358, 0.03262706845998764, 0.02447916939854622, -0.03668876364827156, -0.04499181732535362, 0.06378037482500076, -0.007078386377543211, -0.291335791349411, -0.0004902706132270396, 0.016623983159661293, 0.020286228507757187, 0.02834387868642807, -0.0003112269623670727, -0.020928705111145973, 0.034259334206581116, 0.0336902029812336, 0.01762145198881626, 0.08524663001298904, -0.0072148023173213005, -0.01346608716994524, 0.0016065731178969145, 0.007325978484004736, -0.005166120361536741, -0.001653612474910915, 0.05333928391337395, -0.024128008633852005, -0.024512769654393196, -0.0005516799865290523, -0.010221786797046661, 0.1402718424797058, -0.011162090115249157, 0.015010821633040905, -0.013834193348884583, -0.050932157784700394, 0.023619264364242554, 0.05100199580192566, -0.013141315430402756, 0.06306757777929306, -0.025368057191371918, 0.09894273430109024, -0.014584501273930073, 0.004021297208964825, 0.017309194430708885, 0.006525489967316389, 0.05102171748876572, -0.011254875920712948, -0.049659546464681625, -0.022271640598773956, -0.028692329302430153, 0.014306965284049511, -0.028827115893363953, 0.0604737363755703, 0.01821357011795044, 0.017147645354270935, -0.011586660519242287, -0.07017836719751358, 0.050078049302101135, -0.024838536977767944, -0.024264803156256676, -0.0460396483540535, -0.0063089365139603615, 0.02212652750313282, 0.04714728146791458, 0.01516752503812313, -0.03574857488274574, 0.006285415962338448, 0.003932079765945673, -0.023701133206486702, 0.006705649197101593, 0.003157916711643338, 0.003783503081649542, 0.055025357753038406], metadata={'file_path': '/content/data/persona_1004.txt', 'file_name': 'persona_1004.txt', 'file_type': 'text/plain', 'file_size': 160, 'creation_date': '2025-04-04', 'last_modified_date': '2025-04-04'}, excluded_embed_metadata_keys=['file_name', 'file_type', 'file_size', 'creation_date', 'last_modified_date', 'last_accessed_date'], excluded_llm_metadata_keys=['file_name', 'file_type', 'file_size', 'creation_date', 'last_modified_date', 'last_accessed_date'], relationships={<NodeRelationship.SOURCE: '1'>: RelatedNodeInfo(node_id='d88fa186-1fe4-423b-86c1-940db4d374f7', node_type=<ObjectType.DOCUMENT: '4'>, metadata={'file_path': '/content/data/persona_1004.txt', 'file_name': 'persona_1004.txt', 'file_type': 'text/plain', 'file_size': 160, 'creation_date': '2025-04-04', 'last_modified_date': '2025-04-04'}, hash='f049c8e23621f005eab4f9890e098d3e8a146c3483a718f5f64ff7b32fff4514')}, metadata_template='{key}: {value}', metadata_separator='\\n', text='An environmental historian or urban planner focused on ecological conservation and sustainability, likely working in local government or a related organization.', mimetype='text/plain', start_char_idx=0, end_char_idx=160, metadata_seperator='\\n', text_template='{metadata_str}\\n\\n{content}'),\n",
              " TextNode(id_='94cfca7d-a4c2-4157-af55-798193dc18b2', embedding=[-0.01244524959474802, 0.053108539432287216, 0.04992673546075821, -0.04984244704246521, -0.003668161341920495, -0.03666368126869202, -0.007771297357976437, -0.005793634336441755, -0.09444905072450638, -0.04604771360754967, -0.03409234806895256, -0.026907624676823616, -0.04088399186730385, 0.03001234121620655, 0.038831233978271484, 0.030481955036520958, -0.0459253191947937, 0.07133199274539948, 0.024208437651395798, 0.045643601566553116, -0.031033476814627647, -0.03711310029029846, 0.03950280696153641, 0.01635028049349785, -0.0024881241843104362, -0.019335519522428513, 0.047122132033109665, -0.015302633866667747, -0.05895315110683441, -0.14504458010196686, -0.025318995118141174, -0.017515012994408607, -0.018437011167407036, 0.03482886403799057, 0.06626468896865845, -0.027314525097608566, 0.03194119408726692, 0.033012356609106064, 0.03338638320565224, 0.031615596264600754, -0.004836208187043667, 0.01677560806274414, 0.04444394260644913, 0.04193088784813881, 0.08146385848522186, 0.05077213793992996, 0.016937512904405594, 0.026473788544535637, -0.0016950780991464853, -0.036637287586927414, -0.03472957760095596, 0.012066872790455818, -0.017308486625552177, -0.0152317238971591, 0.10742933303117752, 0.06649036705493927, 0.05866650491952896, 0.0009689261205494404, 0.002687951782718301, 0.03092910163104534, 0.023100359365344048, 0.05861553177237511, -0.19837713241577148, 0.038227565586566925, 0.01023826189339161, 0.04502101242542267, 0.0060378173366189, -0.00590961379930377, -0.02174585685133934, -0.04612525552511215, -0.09334558248519897, 0.027109399437904358, -0.05817205086350441, 0.004174531437456608, 0.02439212054014206, -0.06168611720204353, -0.002172430045902729, 0.013604030944406986, -0.061632703989744186, 0.012533157132565975, 0.06163424253463745, 0.022193199023604393, 0.008194261230528355, -0.031958043575286865, -0.0064628636464476585, -0.02933753840625286, -0.04410577565431595, -0.04713724926114082, -0.007456946652382612, -0.01881498098373413, -0.0381167009472847, -0.07416723668575287, 0.07248079031705856, -0.03724369779229164, -6.60761070321314e-05, -0.0016725844470784068, -0.018106235191226006, 0.051381394267082214, 0.006309465039521456, 0.3807705044746399, -0.047762397676706314, 0.06262852251529694, 0.04089176654815674, -0.005633460357785225, 0.009802061133086681, 0.02814980410039425, 0.012840839102864265, -0.052324485033750534, -0.04104470834136009, -0.025428060442209244, -0.021497642621397972, -0.002041491912677884, -0.03434428572654724, -0.011365734040737152, 0.15546897053718567, -0.059209007769823074, 0.018563684076070786, 2.77854433079483e-05, -0.021835286170244217, 0.02740706130862236, -0.009408934973180294, 0.025226419791579247, 0.04977073892951012, -0.0076604848727583885, -0.00016392860561609268, -0.0029483565595000982, 0.05089662969112396, 0.03265834227204323, 0.046994004398584366, -0.041404277086257935, -0.058598197996616364, 0.02002630941569805, -0.04737858846783638, -0.02585502155125141, 0.01702895201742649, -0.009161792695522308, 0.014220740646123886, -0.03522877395153046, 0.03474617004394531, -0.010024607181549072, -0.04379406198859215, -0.03690975531935692, -0.04998178035020828, 0.028290117159485817, -0.10784148424863815, 0.05180343613028526, 0.0017221443122252822, 0.003823754843324423, 0.028852667659521103, 0.04858262091875076, 0.034514207392930984, -0.020957695320248604, -0.05649914965033531, -0.03537144884467125, -0.021190030500292778, 0.04947615787386894, 0.049859847873449326, 0.04757531359791756, -0.024569746106863022, -0.01035831868648529, -0.05162600427865982, -0.0986199900507927, 0.031528063118457794, 0.0494975745677948, 0.017067577689886093, -0.11434099823236465, -0.040250834077596664, 0.014124318026006222, 0.006025224924087524, -0.0025591556914150715, 0.08807522803544998, -0.01636827178299427, -0.06075260788202286, 0.03428126499056816, 0.054921966046094894, 0.04072316363453865, 0.03021836467087269, 0.014256022870540619, -0.014434940181672573, -0.033479396253824234, 0.06841544806957245, -0.06339731812477112, -0.02477935142815113, -0.020970813930034637, -0.008433672599494457, 0.06882452219724655, 0.03106420487165451, 0.02576340362429619, 0.023582328110933304, 0.020473521202802658, 0.019974347203969955, 0.0559961199760437, -0.03368763253092766, -0.04638179391622543, -0.03792089968919754, -0.04915834218263626, 0.016261190176010132, -0.006105644162744284, 0.025456532835960388, -0.02862001210451126, -0.06106550619006157, -0.01609702780842781, -0.0192300733178854, 0.03073710948228836, -0.00659485487267375, 0.024123739451169968, -0.02034972421824932, -0.010777700692415237, 0.025628626346588135, -0.06314036250114441, -0.016742734238505363, 0.021189521998167038, -0.050119202584028244, -0.08377473056316376, 0.009281757287681103, -0.07012316584587097, -0.004800563212484121, -0.017132820561528206, 0.03688403591513634, 0.05031763017177582, -0.04263470694422722, -0.07818888872861862, -0.08193136751651764, -0.30236300826072693, -0.03444252535700798, -0.06153962388634682, -0.013429964892566204, 0.01486214343458414, -0.02497967705130577, 0.012029353529214859, 0.020337501540780067, -0.05451786518096924, 0.09152789413928986, -0.07334979623556137, -0.011291656643152237, 0.023830506950616837, 0.04747086018323898, 0.027687547728419304, 0.011757436208426952, 0.0028287165332585573, -0.005520019214600325, -0.05011805146932602, 0.033884596079587936, 0.033632997423410416, -0.012272761203348637, -0.015027371235191822, -0.09191104024648666, 0.042732853442430496, 0.016691679134964943, 0.1133294329047203, 0.026043029502034187, 0.016383899375796318, -0.022426629438996315, -0.0251834187656641, -0.0034143482334911823, -0.027490703389048576, -0.05765891820192337, 0.014970451593399048, 0.023626796901226044, 0.10252615809440613, 0.05552244558930397, 0.01583239994943142, 0.020921550691127777, -0.005000902805477381, 0.026521679013967514, 0.012626678682863712, 0.019767876714468002, -0.07080528140068054, -0.0003219277714379132, 0.019944164901971817, -0.012502866797149181, -0.011799515224993229, -0.019370591267943382, 0.031110739335417747, -0.008613710291683674, 0.026888098567724228, 0.045006658881902695, -0.040201179683208466, -0.016097085550427437, -0.035689983516931534, 0.03086847811937332, 0.03930913284420967, 0.060365960001945496, -0.01152940932661295, -0.0030171808321028948, 0.006864480208605528, -0.021115697920322418, 0.001994950696825981, 0.05663473159074783, -0.030268916860222816, -0.006175999995321035, 0.03437488526105881, 0.014552151784300804, 0.01871345192193985, 0.03715164214372635, -0.1004665419459343, -0.059147272258996964, 0.060110531747341156, 0.03872288390994072, -0.00511825829744339, 0.007388284895569086, -0.053360845893621445, 0.00157638406381011, 0.04942968115210533, 0.015947796404361725, -0.0013811205280944705, -0.005974323023110628, -0.00815791729837656, -0.0352838970720768, -0.00178723584394902, -0.01807377114892006, 0.021150264889001846, 0.014594009146094322, 0.004584616050124168, -0.0038500919472426176, -0.04972217231988907, 0.04433140158653259, -0.01027245819568634, -0.034728508442640305, -0.28188997507095337, -0.007147837895900011, 0.05875019356608391, 0.0883992537856102, 0.05495964363217354, 0.0422956608235836, -0.013540150597691536, -0.008411915972828865, -0.03300005570054054, -0.01384316198527813, 0.08041058480739594, 0.053062375634908676, 0.0022352503146976233, -0.011847231537103653, 0.012952561490237713, -0.022984817624092102, 0.0007627239683642983, 0.04506855830550194, -0.0693737044930458, 0.0057607730850577354, 0.013577579520642757, 0.008911416865885258, 0.11051894724369049, -0.031251210719347, -0.01117292232811451, -0.04193979874253273, 0.012546791695058346, 0.05821637064218521, 0.014430476352572441, -0.034871526062488556, 0.056065309792757034, -0.02828575298190117, 0.05908401682972908, -0.04683667793869972, -0.016568150371313095, 0.038574304431676865, -0.01310628093779087, 0.017139889299869537, -0.034875888377428055, -0.04760921373963356, -0.018656615167856216, -0.003865419188514352, -0.052089083939790726, -0.0011560702696442604, 0.03337399661540985, 0.03726618364453316, -0.004867152776569128, 0.02961532585322857, -0.02908610738813877, 0.06355605274438858, -0.0322539247572422, 0.021001655608415604, -0.0020146998576819897, 0.042109448462724686, 0.0785154178738594, 0.041145555675029755, 0.003491684328764677, 0.057975392788648605, 0.007012272719293833, -0.03135994076728821, -0.020894724875688553, 0.006443135440349579, 0.012177270837128162, -0.019929787144064903, 0.031890105456113815], metadata={'file_path': '/content/data/persona_1005.txt', 'file_name': 'persona_1005.txt', 'file_type': 'text/plain', 'file_size': 85, 'creation_date': '2025-04-04', 'last_modified_date': '2025-04-04'}, excluded_embed_metadata_keys=['file_name', 'file_type', 'file_size', 'creation_date', 'last_modified_date', 'last_accessed_date'], excluded_llm_metadata_keys=['file_name', 'file_type', 'file_size', 'creation_date', 'last_modified_date', 'last_accessed_date'], relationships={<NodeRelationship.SOURCE: '1'>: RelatedNodeInfo(node_id='e3349755-a0d8-4e82-83b9-79769c7d8f61', node_type=<ObjectType.DOCUMENT: '4'>, metadata={'file_path': '/content/data/persona_1005.txt', 'file_name': 'persona_1005.txt', 'file_type': 'text/plain', 'file_size': 85, 'creation_date': '2025-04-04', 'last_modified_date': '2025-04-04'}, hash='8086f93f424666b34c411765b9bfe73c33460660ab967ce6b2c677600c73d213')}, metadata_template='{key}: {value}', metadata_separator='\\n', text='An historian focused on 19th-century Irish politics and the Irish Home Rule movement.', mimetype='text/plain', start_char_idx=0, end_char_idx=85, metadata_seperator='\\n', text_template='{metadata_str}\\n\\n{content}')]"
            ]
          },
          "metadata": {},
          "execution_count": 13
        }
      ]
    },
    {
      "cell_type": "code",
      "source": [
        "import chromadb\n",
        "from llama_index.vector_stores.chroma import ChromaVectorStore\n",
        "\n",
        "db = chromadb.PersistentClient(path=\"./alfred_chroma_db\")\n",
        "chroma_collection = db.get_or_create_collection(name=\"alfred\")\n",
        "vector_store = ChromaVectorStore(chroma_collection=chroma_collection)\n",
        "\n",
        "pipeline = IngestionPipeline(\n",
        "    transformations=[\n",
        "        SentenceSplitter(),\n",
        "        HuggingFaceInferenceAPIEmbedding(model_name=\"BAAI/bge-small-en-v1.5\"),\n",
        "    ],\n",
        "    vector_store=vector_store,\n",
        ")\n",
        "\n",
        "nodes = await pipeline.arun(documents=documents[:10])\n",
        "len(nodes)"
      ],
      "metadata": {
        "colab": {
          "base_uri": "https://localhost:8080/"
        },
        "id": "X1524LOzeRF_",
        "outputId": "7524d299-8ddd-4e63-a933-bb42b5c15ef8"
      },
      "execution_count": 14,
      "outputs": [
        {
          "output_type": "execute_result",
          "data": {
            "text/plain": [
              "10"
            ]
          },
          "metadata": {},
          "execution_count": 14
        }
      ]
    },
    {
      "cell_type": "code",
      "source": [
        "from llama_index.core import VectorStoreIndex\n",
        "from llama_index.embeddings.huggingface_api import HuggingFaceInferenceAPIEmbedding\n",
        "\n",
        "embed_model = HuggingFaceInferenceAPIEmbedding(model_name=\"BAAI/bge-small-en-v1.5\")\n",
        "index = VectorStoreIndex.from_vector_store(\n",
        "    vector_store=vector_store, embed_model=embed_model\n",
        ")"
      ],
      "metadata": {
        "id": "mhJZJsOEeMhD"
      },
      "execution_count": 15,
      "outputs": []
    },
    {
      "cell_type": "code",
      "source": [
        "from llama_index.llms.huggingface_api import HuggingFaceInferenceAPI\n",
        "import nest_asyncio\n",
        "\n",
        "nest_asyncio.apply()  # This is needed to run the query engine\n",
        "llm = HuggingFaceInferenceAPI(model_name=\"Qwen/Qwen2.5-Coder-32B-Instruct\")\n",
        "query_engine = index.as_query_engine(\n",
        "    llm=llm,\n",
        "    response_mode=\"tree_summarize\",\n",
        ")\n",
        "response = query_engine.query(\n",
        "    \"Respond using a persona that describes author and travel experiences?\"\n",
        ")\n",
        "print(response)"
      ],
      "metadata": {
        "colab": {
          "base_uri": "https://localhost:8080/"
        },
        "id": "Ht9B8rekYoAL",
        "outputId": "6d42aae9-6ace-4784-af0b-2793bc98b569"
      },
      "execution_count": 16,
      "outputs": [
        {
          "output_type": "stream",
          "name": "stdout",
          "text": [
            "This individual is deeply immersed in the study of Cypriot culture, history, and society, having dedicated significant time to research and live in Cyprus. Their expertise allows them to provide a nuanced understanding of the island's people, customs, and way of life, making them a valuable resource for those seeking to learn more about this fascinating part of the Mediterranean.\n"
          ]
        }
      ]
    },
    {
      "cell_type": "code",
      "source": [
        "import chromadb\n",
        "from llama_index.vector_stores.chroma import ChromaVectorStore\n",
        "\n",
        "db = chromadb.PersistentClient(path=\"./alfred_chroma_db\")\n",
        "chroma_collection = db.get_or_create_collection(name=\"alfred\")\n",
        "vector_store = ChromaVectorStore(chroma_collection=chroma_collection)\n",
        "\n",
        "pipeline = IngestionPipeline(\n",
        "    transformations=[\n",
        "        SentenceSplitter(),\n",
        "        HuggingFaceInferenceAPIEmbedding(model_name=\"BAAI/bge-small-en-v1.5\"),\n",
        "    ],\n",
        "    vector_store=vector_store,\n",
        ")\n",
        "\n",
        "nodes = await pipeline.arun(documents=documents[:10])\n",
        "len(nodes)"
      ],
      "metadata": {
        "colab": {
          "base_uri": "https://localhost:8080/"
        },
        "id": "6Ro_d5-EYrFE",
        "outputId": "92c0568e-18a5-483c-df92-37f3efc20fac"
      },
      "execution_count": 17,
      "outputs": [
        {
          "output_type": "execute_result",
          "data": {
            "text/plain": [
              "10"
            ]
          },
          "metadata": {},
          "execution_count": 17
        }
      ]
    },
    {
      "cell_type": "code",
      "source": [
        "from llama_index.core import VectorStoreIndex\n",
        "from llama_index.embeddings.huggingface import HuggingFaceEmbedding\n",
        "\n",
        "embed_model = HuggingFaceEmbedding(model_name=\"BAAI/bge-small-en-v1.5\")\n",
        "index = VectorStoreIndex.from_vector_store(vector_store, embed_model=embed_model)"
      ],
      "metadata": {
        "id": "Oux9TzcNeCzW"
      },
      "execution_count": 18,
      "outputs": []
    },
    {
      "cell_type": "code",
      "source": [
        "from llama_index.llms.huggingface_api import HuggingFaceInferenceAPI\n",
        "\n",
        "llm = HuggingFaceInferenceAPI(model_name=\"Qwen/Qwen2.5-Coder-32B-Instruct\")\n",
        "query_engine = index.as_query_engine(\n",
        "    llm=llm,\n",
        "    response_mode=\"tree_summarize\",\n",
        ")\n",
        "query_engine.query(\"What is the meaning of life?\")\n",
        "# The meaning of life is 42"
      ],
      "metadata": {
        "colab": {
          "base_uri": "https://localhost:8080/"
        },
        "id": "do2Sj8r-eYo4",
        "outputId": "fe40f795-bd54-40af-d41d-e8a8b3dcd14a"
      },
      "execution_count": 19,
      "outputs": [
        {
          "output_type": "execute_result",
          "data": {
            "text/plain": [
              "Response(response=\"The meaning of life is a profound and philosophical question that varies widely across different cultures, histories, and societies. For someone deeply immersed in Cypriot culture, the meaning of life might be intertwined with the island's rich history, its resilient people, and the unique blend of Eastern and Western influences. It could involve a deep connection to family, community, and the natural environment, as well as a respect for tradition and a commitment to preserving cultural heritage.\", source_nodes=[NodeWithScore(node=TextNode(id_='a0c79f02-24fb-418b-bd58-b77f109f78ef', embedding=None, metadata={'file_path': '/content/data/persona_1.txt', 'file_name': 'persona_1.txt', 'file_type': 'text/plain', 'file_size': 266, 'creation_date': '2025-04-04', 'last_modified_date': '2025-04-04'}, excluded_embed_metadata_keys=['file_name', 'file_type', 'file_size', 'creation_date', 'last_modified_date', 'last_accessed_date'], excluded_llm_metadata_keys=['file_name', 'file_type', 'file_size', 'creation_date', 'last_modified_date', 'last_accessed_date'], relationships={<NodeRelationship.SOURCE: '1'>: RelatedNodeInfo(node_id='a40998fb-d88a-4cd8-bbcb-90ca4bff8ff5', node_type='4', metadata={'file_path': '/content/data/persona_1.txt', 'file_name': 'persona_1.txt', 'file_type': 'text/plain', 'file_size': 266, 'creation_date': '2025-04-04', 'last_modified_date': '2025-04-04'}, hash='7278f6d65a68c06330822b3e04ce5f9724010954d058169f9d52e0205ee3b18b')}, metadata_template='{key}: {value}', metadata_separator='\\n', text='An anthropologist or a cultural expert interested in the intricacies of Cypriot culture, history, and society, particularly someone who has spent considerable time researching and living in Cyprus to gain a deep understanding of its people, customs, and way of life.', mimetype='text/plain', start_char_idx=0, end_char_idx=266, metadata_seperator='\\n', text_template='{metadata_str}\\n\\n{content}'), score=0.39488336867057416)], metadata={'a0c79f02-24fb-418b-bd58-b77f109f78ef': {'file_path': '/content/data/persona_1.txt', 'file_name': 'persona_1.txt', 'file_type': 'text/plain', 'file_size': 266, 'creation_date': '2025-04-04', 'last_modified_date': '2025-04-04'}})"
            ]
          },
          "metadata": {},
          "execution_count": 19
        }
      ]
    },
    {
      "cell_type": "code",
      "source": [],
      "metadata": {
        "id": "stOlW3QfeawO"
      },
      "execution_count": null,
      "outputs": []
    }
  ]
}