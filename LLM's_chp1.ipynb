{
 "cells": [
  {
   "cell_type": "code",
   "execution_count": 1,
   "id": "c21ccda2-fcba-46ed-b31c-019ea73537f3",
   "metadata": {},
   "outputs": [
    {
     "name": "stdout",
     "output_type": "stream",
     "text": [
      "torch version: 2.0.1+cu118\n",
      "tiktoken version: 0.7.0\n"
     ]
    }
   ],
   "source": [
    "from importlib.metadata import version\n",
    "\n",
    "import tiktoken\n",
    "import torch\n",
    "\n",
    "print(\"torch version:\", version(\"torch\"))\n",
    "print(\"tiktoken version:\", version(\"tiktoken\"))"
   ]
  },
  {
   "cell_type": "code",
   "execution_count": 86,
   "id": "77d33ba7-fac7-4619-a660-d2db7c4f7ea5",
   "metadata": {},
   "outputs": [
    {
     "name": "stdout",
     "output_type": "stream",
     "text": [
      "Total number of character: 60455\n",
      "-The reason for your visit?\n",
      "-Touristic.\n",
      "\n",
      "Was your journey comfortable\n",
      "commander Logar?\n",
      "\n",
      "Module crashed into Atlantic ocean.\n",
      "\n",
      "\n"
     ]
    }
   ],
   "source": [
    "with open(\"AROG-ENG-SUBTITLE.txt\", \"r\", encoding=\"utf-8\") as f:\n",
    "    raw_text = f.read()\n",
    "    \n",
    "print(\"Total number of character:\", len(raw_text))\n",
    "print(raw_text[:125])"
   ]
  },
  {
   "cell_type": "code",
   "execution_count": 73,
   "id": "3286d9db-8adc-4f84-bcee-b8f633f99ee8",
   "metadata": {},
   "outputs": [
    {
     "name": "stdout",
     "output_type": "stream",
     "text": [
      "['Hello,', ' ', 'world.', ' ', 'This,', ' ', 'is', ' ', 'a', ' ', 'test.']\n"
     ]
    }
   ],
   "source": [
    "import re\n",
    "\n",
    "text = \"Hello, world. This, is a test.\"\n",
    "result = re.split(r'(\\s)', text)\n",
    "\n",
    "print(result)"
   ]
  },
  {
   "cell_type": "code",
   "execution_count": 74,
   "id": "418a405d-1e4e-48e9-999e-735c83ba8b10",
   "metadata": {},
   "outputs": [
    {
     "name": "stdout",
     "output_type": "stream",
     "text": [
      "['Hello', ',', '', ' ', 'world', '.', '', ' ', 'This', ',', '', ' ', 'is', ' ', 'a', ' ', 'test', '.', '']\n"
     ]
    }
   ],
   "source": [
    "result = re.split(r'([,.]|\\s)', text)\n",
    "\n",
    "print(result)"
   ]
  },
  {
   "cell_type": "code",
   "execution_count": 75,
   "id": "9939335e-6b6e-4aa4-ab91-9c14b4d80111",
   "metadata": {},
   "outputs": [
    {
     "name": "stdout",
     "output_type": "stream",
     "text": [
      "['Hello', ',', 'world', '.', 'This', ',', 'is', 'a', 'test', '.']\n"
     ]
    }
   ],
   "source": [
    "# Strip whitespace from each item and then filter out any empty strings.\n",
    "result = [item for item in result if item.strip()]\n",
    "print(result)"
   ]
  },
  {
   "cell_type": "code",
   "execution_count": 76,
   "id": "ac0dfd2c-62ed-45a0-b534-5998d14cc668",
   "metadata": {},
   "outputs": [
    {
     "name": "stdout",
     "output_type": "stream",
     "text": [
      "['Hello', ',', 'world', '.', 'Is', 'this', '--', 'a', 'test', '?']\n"
     ]
    }
   ],
   "source": [
    "text = \"Hello, world. Is this-- a test?\"\n",
    "\n",
    "result = re.split(r'([,.:;?_!\"()\\']|--|\\s)', text)\n",
    "result = [item.strip() for item in result if item.strip()]\n",
    "print(result)"
   ]
  },
  {
   "cell_type": "code",
   "execution_count": 77,
   "id": "1da3b036-a504-4816-bbfc-e31981bcccb1",
   "metadata": {},
   "outputs": [
    {
     "name": "stdout",
     "output_type": "stream",
     "text": [
      "['-The', 'reason', 'for', 'your', 'visit', '?', '-Touristic', '.', 'Was', 'your', 'journey', 'comfortable', 'commander', 'Logar', '?', 'Module', 'crashed', 'into', 'Atlantic', 'ocean', '.', 'l', 'came', 'with', 'a', 'connected', 'flight', 'from', 'Miami', '.']\n"
     ]
    }
   ],
   "source": [
    "preprocessed = re.split(r'([,.:;?_!\"()\\']|--|\\s)', raw_text)\n",
    "preprocessed = [item.strip() for item in preprocessed if item.strip()]\n",
    "print(preprocessed[:30])"
   ]
  },
  {
   "cell_type": "code",
   "execution_count": 78,
   "id": "fa5de050-381f-4d77-9dab-0f3962dd21a6",
   "metadata": {},
   "outputs": [
    {
     "name": "stdout",
     "output_type": "stream",
     "text": [
      "14734\n"
     ]
    }
   ],
   "source": [
    "print(len(preprocessed))"
   ]
  },
  {
   "cell_type": "code",
   "execution_count": 79,
   "id": "bc5d32a3-9401-4880-aced-71502b769c1a",
   "metadata": {},
   "outputs": [
    {
     "name": "stdout",
     "output_type": "stream",
     "text": [
      "2276\n"
     ]
    }
   ],
   "source": [
    "all_words = sorted(set(preprocessed))\n",
    "vocab_size = len(all_words)\n",
    "\n",
    "print(vocab_size)"
   ]
  },
  {
   "cell_type": "code",
   "execution_count": 80,
   "id": "3a2fd565-db3e-4e97-b490-be6fa2379aab",
   "metadata": {},
   "outputs": [],
   "source": [
    "vocab = {token:integer for integer,token in enumerate(all_words)}"
   ]
  },
  {
   "cell_type": "code",
   "execution_count": 81,
   "id": "3ed577ea-db21-4dec-8bec-e717e2726f63",
   "metadata": {},
   "outputs": [
    {
     "name": "stdout",
     "output_type": "stream",
     "text": [
      "('!', 0)\n",
      "('%', 1)\n",
      "(\"'\", 2)\n",
      "(',', 3)\n",
      "('-', 4)\n",
      "('--', 5)\n",
      "('-17', 6)\n",
      "('-4', 7)\n",
      "('-500', 8)\n",
      "('-A', 9)\n",
      "('-Ah', 10)\n",
      "('-All', 11)\n",
      "('-Amnesty', 12)\n",
      "('-And', 13)\n",
      "('-Are', 14)\n",
      "('-Arif', 15)\n",
      "('-Arog', 16)\n",
      "('-Ball', 17)\n",
      "('-Be', 18)\n",
      "('-Bring', 19)\n",
      "('-Bro', 20)\n",
      "('-But', 21)\n",
      "('-Calm', 22)\n",
      "('-Can', 23)\n",
      "('-Cheers', 24)\n",
      "('-Come', 25)\n",
      "('-Cool', 26)\n",
      "('-Dad', 27)\n",
      "('-Daddy', 28)\n",
      "('-Destroy', 29)\n",
      "('-Did', 30)\n",
      "('-Dimi', 31)\n",
      "('-Dimitell', 32)\n",
      "('-Do', 33)\n",
      "('-Does', 34)\n",
      "('-Don', 35)\n",
      "('-Downstairs', 36)\n",
      "('-Dry', 37)\n",
      "('-Ee', 38)\n",
      "('-Everything', 39)\n",
      "('-Fake', 40)\n",
      "('-Fight', 41)\n",
      "('-Finish', 42)\n",
      "('-Flirting', 43)\n",
      "('-Football', 44)\n",
      "('-For', 45)\n",
      "('-Frodo', 46)\n",
      "('-Get', 47)\n",
      "('-Go', 48)\n",
      "('-Goal', 49)\n",
      "('-Good', 50)\n"
     ]
    }
   ],
   "source": [
    "for i, item in enumerate(vocab.items()):\n",
    "    print(item)\n",
    "    if i >= 50:\n",
    "        break"
   ]
  },
  {
   "cell_type": "code",
   "execution_count": 82,
   "id": "336a339f-feca-4471-8d56-6a416f8ba763",
   "metadata": {},
   "outputs": [],
   "source": [
    "class SimpleTokenizerV1:\n",
    "    def __init__(self, vocab):\n",
    "        self.str_to_int = vocab\n",
    "        self.int_to_str = {i:s for s,i in vocab.items()}\n",
    "    \n",
    "    def encode(self, text):\n",
    "        preprocessed = re.split(r'([,.?_!\"()\\']|--|\\s)', text)\n",
    "        preprocessed = [\n",
    "            item.strip() for item in preprocessed if item.strip()\n",
    "        ]\n",
    "        ids = [self.str_to_int[s] for s in preprocessed]\n",
    "        return ids\n",
    "        \n",
    "    def decode(self, ids):\n",
    "        text = \" \".join([self.int_to_str[i] for i in ids])\n",
    "        # Replace spaces before the specified punctuations\n",
    "        text = re.sub(r'\\s+([,.?!\"()\\'])', r'\\1', text)\n",
    "        return text"
   ]
  },
  {
   "cell_type": "code",
   "execution_count": 94,
   "id": "6b68eb95-6839-4af0-a886-cb1bd80b9d9b",
   "metadata": {},
   "outputs": [
    {
     "name": "stdout",
     "output_type": "stream",
     "text": [
      "[565, 2271, 1345, 872, 876, 383, 183, 403, 905, 1329, 214, 1601, 154]\n"
     ]
    }
   ],
   "source": [
    "tokenizer = SimpleTokenizerV1(vocab)\n",
    "\n",
    "text = \"\"\" Was your journey comfortable commander Logar? Module crashed into Atlantic ocean.\"\"\"\n",
    "ids = tokenizer.encode(text)\n",
    "print(ids)"
   ]
  },
  {
   "cell_type": "code",
   "execution_count": 95,
   "id": "92e4d800-84c8-4aee-9560-810ffb1de196",
   "metadata": {},
   "outputs": [
    {
     "data": {
      "text/plain": [
       "'Was your journey comfortable commander Logar? Module crashed into Atlantic ocean.'"
      ]
     },
     "execution_count": 95,
     "metadata": {},
     "output_type": "execute_result"
    }
   ],
   "source": [
    "tokenizer.decode(tokenizer.encode(text))"
   ]
  },
  {
   "cell_type": "code",
   "execution_count": 96,
   "id": "84b3f2f6-7f08-4267-a261-802cd7e8634b",
   "metadata": {},
   "outputs": [],
   "source": [
    "all_tokens = sorted(list(set(preprocessed)))\n",
    "all_tokens.extend([\"<|endoftext|>\", \"<|unk|>\"])\n",
    "\n",
    "vocab = {token:integer for integer,token in enumerate(all_tokens)}"
   ]
  },
  {
   "cell_type": "code",
   "execution_count": 97,
   "id": "eb30c7ce-be37-4aba-a1ae-db7242d626c0",
   "metadata": {},
   "outputs": [
    {
     "data": {
      "text/plain": [
       "2278"
      ]
     },
     "execution_count": 97,
     "metadata": {},
     "output_type": "execute_result"
    }
   ],
   "source": [
    "len(vocab.items())"
   ]
  },
  {
   "cell_type": "code",
   "execution_count": 98,
   "id": "30de592f-3806-402d-bd2d-0a869bfe4fb4",
   "metadata": {},
   "outputs": [
    {
     "name": "stdout",
     "output_type": "stream",
     "text": [
      "('yourself', 2273)\n",
      "('zero', 2274)\n",
      "('zucchini', 2275)\n",
      "('<|endoftext|>', 2276)\n",
      "('<|unk|>', 2277)\n"
     ]
    }
   ],
   "source": [
    "for i, item in enumerate(list(vocab.items())[-5:]):\n",
    "    print(item)"
   ]
  },
  {
   "cell_type": "code",
   "execution_count": 99,
   "id": "5eccaedf-93aa-4724-917a-c1d1dd86d19e",
   "metadata": {},
   "outputs": [],
   "source": [
    "class SimpleTokenizerV2:\n",
    "    def __init__(self, vocab):\n",
    "        self.str_to_int = vocab\n",
    "        self.int_to_str = { i:s for s,i in vocab.items()}\n",
    "    \n",
    "    def encode(self, text):\n",
    "        preprocessed = re.split(r'([,.?_!\"()\\']|--|\\s)', text)\n",
    "        preprocessed = [item.strip() for item in preprocessed if item.strip()]\n",
    "        preprocessed = [\n",
    "            item if item in self.str_to_int \n",
    "            else \"<|unk|>\" for item in preprocessed\n",
    "        ]\n",
    "\n",
    "        ids = [self.str_to_int[s] for s in preprocessed]\n",
    "        return ids\n",
    "        \n",
    "    def decode(self, ids):\n",
    "        text = \" \".join([self.int_to_str[i] for i in ids])\n",
    "        # Replace spaces before the specified punctuations\n",
    "        text = re.sub(r'\\s+([,.?!\"()\\'])', r'\\1', text)\n",
    "        return text"
   ]
  },
  {
   "cell_type": "code",
   "execution_count": 100,
   "id": "d83d9799-fbfc-44b2-83d5-22b70f9af560",
   "metadata": {},
   "outputs": [
    {
     "name": "stdout",
     "output_type": "stream",
     "text": [
      "Was your journey comfortable commander Logar? Çırağan <|endoftext|> Module crashed into Atlantic ocean. \n"
     ]
    }
   ],
   "source": [
    "tokenizer = SimpleTokenizerV2(vocab)\n",
    "\n",
    "text1 = \"Was your journey comfortable commander Logar? Çırağan\"\n",
    "text2 = \"Module crashed into Atlantic ocean. \"\n",
    "\n",
    "text = \" <|endoftext|> \".join((text1, text2))\n",
    "\n",
    "print(text)"
   ]
  },
  {
   "cell_type": "code",
   "execution_count": 101,
   "id": "df374ef9-895c-4e7b-8d16-72c2a5d79ff4",
   "metadata": {},
   "outputs": [
    {
     "data": {
      "text/plain": [
       "[565,\n",
       " 2271,\n",
       " 1345,\n",
       " 872,\n",
       " 876,\n",
       " 383,\n",
       " 183,\n",
       " 2277,\n",
       " 2276,\n",
       " 403,\n",
       " 905,\n",
       " 1329,\n",
       " 214,\n",
       " 1601,\n",
       " 154]"
      ]
     },
     "execution_count": 101,
     "metadata": {},
     "output_type": "execute_result"
    }
   ],
   "source": [
    "tokenizer.encode(text)"
   ]
  },
  {
   "cell_type": "code",
   "execution_count": 102,
   "id": "6554b5a6-636f-4b09-8f26-4fec113e5a1f",
   "metadata": {},
   "outputs": [
    {
     "data": {
      "text/plain": [
       "'Was your journey comfortable commander Logar? <|unk|> <|endoftext|> Module crashed into Atlantic ocean.'"
      ]
     },
     "execution_count": 102,
     "metadata": {},
     "output_type": "execute_result"
    }
   ],
   "source": [
    "tokenizer.decode(tokenizer.encode(text))"
   ]
  },
  {
   "cell_type": "code",
   "execution_count": 103,
   "id": "36f2922a-5d7e-45b8-8f5b-14aa12686f4a",
   "metadata": {},
   "outputs": [],
   "source": [
    "import importlib"
   ]
  },
  {
   "cell_type": "code",
   "execution_count": 104,
   "id": "737a1d7c-bbcd-4fac-baeb-07364298a246",
   "metadata": {},
   "outputs": [],
   "source": [
    "tokenizer = tiktoken.encoding_for_model(\"gpt-4o\")"
   ]
  },
  {
   "cell_type": "code",
   "execution_count": 105,
   "id": "0711a048-9370-4ea8-8c85-7c52e32ea904",
   "metadata": {},
   "outputs": [
    {
     "name": "stdout",
     "output_type": "stream",
     "text": [
      "[21124, 634, 12647, 10721, 59743, 4309, 277, 30, 24549, 612, 614, 84135, 220, 199999, 25609, 75481, 1511, 34906, 25472, 13, 220]\n"
     ]
    }
   ],
   "source": [
    "text1 = \"Was your journey comfortable commander Logar? Çırağan\"\n",
    "text2 = \"Module crashed into Atlantic ocean. \"\n",
    "\n",
    "text = \" <|endoftext|> \".join((text1, text2))\n",
    "\n",
    "integers = tokenizer.encode(text, allowed_special={\"<|endoftext|>\"})\n",
    "\n",
    "print(integers)"
   ]
  },
  {
   "cell_type": "code",
   "execution_count": 106,
   "id": "1e7df829-d29c-4a96-9e8c-34652cb24926",
   "metadata": {},
   "outputs": [
    {
     "name": "stdout",
     "output_type": "stream",
     "text": [
      "Was your journey comfortable commander Logar? Çırağan <|endoftext|> Module crashed into Atlantic ocean. \n"
     ]
    }
   ],
   "source": [
    "strings = tokenizer.decode(integers)\n",
    "\n",
    "print(strings)"
   ]
  },
  {
   "cell_type": "code",
   "execution_count": 107,
   "id": "3ec46977-a6a0-4db3-b233-488b0ed37193",
   "metadata": {},
   "outputs": [
    {
     "name": "stdout",
     "output_type": "stream",
     "text": [
      "15150\n"
     ]
    }
   ],
   "source": [
    "enc_text = tokenizer.encode(raw_text)\n",
    "print(len(enc_text))"
   ]
  },
  {
   "cell_type": "code",
   "execution_count": 108,
   "id": "6d75c748-ad6b-46f4-bbe6-908ac59ef7a0",
   "metadata": {},
   "outputs": [],
   "source": [
    "enc_sample = enc_text[70:]"
   ]
  },
  {
   "cell_type": "code",
   "execution_count": 111,
   "id": "501326d5-90f7-4812-97c2-277cd0a283eb",
   "metadata": {},
   "outputs": [
    {
     "name": "stdout",
     "output_type": "stream",
     "text": [
      "x: [198, 2512, 591, 121729, 395, 1374]\n",
      "y:      [2512, 591, 121729, 395, 1374, 1715]\n"
     ]
    }
   ],
   "source": [
    "context_size = 6\n",
    "\n",
    "x = enc_sample[:context_size]\n",
    "y = enc_sample[1:context_size+1]\n",
    "\n",
    "print(f\"x: {x}\")\n",
    "print(f\"y:      {y}\")"
   ]
  },
  {
   "cell_type": "code",
   "execution_count": 112,
   "id": "dd4064c2-a2c6-4471-823f-a1eef94d348a",
   "metadata": {},
   "outputs": [
    {
     "name": "stdout",
     "output_type": "stream",
     "text": [
      "[198] ----> 2512\n",
      "[198, 2512] ----> 591\n",
      "[198, 2512, 591] ----> 121729\n",
      "[198, 2512, 591, 121729] ----> 395\n",
      "[198, 2512, 591, 121729, 395] ----> 1374\n",
      "[198, 2512, 591, 121729, 395, 1374] ----> 1715\n"
     ]
    }
   ],
   "source": [
    "for i in range(1, context_size+1):\n",
    "    context = enc_sample[:i]\n",
    "    desired = enc_sample[i]\n",
    "\n",
    "    print(context, \"---->\", desired)"
   ]
  },
  {
   "cell_type": "code",
   "execution_count": 137,
   "id": "e5f70afb-574b-4ad3-8708-38a0d8d9176d",
   "metadata": {},
   "outputs": [
    {
     "name": "stdout",
     "output_type": "stream",
     "text": [
      "\n",
      " ----> come\n",
      "\n",
      "come ---->  from\n",
      "\n",
      "come from ---->  monkeys\n",
      "\n",
      "come from monkeys ---->  for\n",
      "\n",
      "come from monkeys for ---->  real\n",
      "\n",
      "come from monkeys for real ----> ?\n",
      "\n",
      "\n"
     ]
    }
   ],
   "source": [
    "for i in range(1, context_size+1):\n",
    "    context = enc_sample[:i]\n",
    "    desired = enc_sample[i]\n",
    "\n",
    "    print(tokenizer.decode(context), \"---->\", tokenizer.decode([desired]))"
   ]
  },
  {
   "cell_type": "code",
   "execution_count": 115,
   "id": "63e1740a-7f70-4e67-9dd1-eace3e3a8ad1",
   "metadata": {},
   "outputs": [
    {
     "name": "stdout",
     "output_type": "stream",
     "text": [
      "PyTorch version: 2.0.1+cu118\n"
     ]
    }
   ],
   "source": [
    "from torch.utils.data import Dataset, DataLoader\n",
    "import torch\n",
    "print(\"PyTorch version:\", torch.__version__)\n"
   ]
  },
  {
   "cell_type": "code",
   "execution_count": 116,
   "id": "2cfd704a-1196-45ad-95b6-3a8f4b9f3d95",
   "metadata": {},
   "outputs": [],
   "source": [
    "\n",
    "class GPTDatasetV1(Dataset):\n",
    "    def __init__(self, txt, tokenizer, max_length, stride=1):\n",
    "        self.input_ids = []\n",
    "        self.target_ids = []\n",
    "\n",
    "        # Tokenize the entire text\n",
    "        token_ids = tokenizer.encode(txt, allowed_special={\"<|endoftext|>\"})\n",
    "\n",
    "        # Use a sliding window to chunk the book into overlapping sequences of max_length\n",
    "        for i in range(0, len(token_ids) - max_length, stride):\n",
    "            input_chunk = token_ids[i:i + max_length]\n",
    "            target_chunk = token_ids[i + stride: i + max_length + stride]\n",
    "            self.input_ids.append(torch.tensor(input_chunk))\n",
    "            self.target_ids.append(torch.tensor(target_chunk))\n",
    "\n",
    "    def __len__(self):\n",
    "        return len(self.input_ids)\n",
    "\n",
    "    def __getitem__(self, idx):\n",
    "        return self.input_ids[idx], self.target_ids[idx]"
   ]
  },
  {
   "cell_type": "code",
   "execution_count": 117,
   "id": "e96834d6-bab4-441d-86ed-b234b9688d28",
   "metadata": {},
   "outputs": [],
   "source": [
    "def create_dataloader_v1(txt, batch_size=4, max_length=256, \n",
    "                         stride=128, shuffle=True, drop_last=True,\n",
    "                         num_workers=0):\n",
    "\n",
    "    # Initialize the tokenizer\n",
    "    tokenizer = tiktoken.get_encoding(\"gpt2\")\n",
    "\n",
    "    # Create dataset\n",
    "    dataset = GPTDatasetV1(txt, tokenizer, max_length, stride)\n",
    "\n",
    "    # Create dataloader\n",
    "    dataloader = DataLoader(\n",
    "        dataset,\n",
    "        batch_size=batch_size,\n",
    "        shuffle=shuffle,\n",
    "        drop_last=drop_last,\n",
    "        num_workers=num_workers\n",
    "    )\n",
    "\n",
    "    return dataloader"
   ]
  },
  {
   "cell_type": "code",
   "execution_count": 161,
   "id": "85515ee3-2084-4af6-bd96-9454a3fceeb5",
   "metadata": {},
   "outputs": [
    {
     "name": "stdout",
     "output_type": "stream",
     "text": [
      "[tensor([[  12,  464, 1738,  329]]), tensor([[1738,  329,  534, 3187]])]\n"
     ]
    }
   ],
   "source": [
    "dataloader = create_dataloader_v1(\n",
    "    raw_text, batch_size=1, max_length=4, stride=2, shuffle=False\n",
    ")\n",
    "\n",
    "data_iter = iter(dataloader)\n",
    "first_batch = next(data_iter)\n",
    "print(first_batch)"
   ]
  },
  {
   "cell_type": "code",
   "execution_count": 162,
   "id": "501ed1d8-320e-439d-954a-1847983be053",
   "metadata": {},
   "outputs": [
    {
     "name": "stdout",
     "output_type": "stream",
     "text": [
      "[tensor([[1738,  329,  534, 3187]]), tensor([[ 534, 3187,   30,  198]])]\n"
     ]
    }
   ],
   "source": [
    "second_batch = next(data_iter)\n",
    "print(second_batch)"
   ]
  },
  {
   "cell_type": "code",
   "execution_count": 163,
   "id": "d1f5d8a7-6181-4e7b-90a4-cb8ee0e575da",
   "metadata": {},
   "outputs": [
    {
     "name": "stdout",
     "output_type": "stream",
     "text": [
      "Inputs:\n",
      " tensor([[   12,   464,  1738,   329],\n",
      "        [ 1738,   329,   534,  3187],\n",
      "        [  534,  3187,    30,   198],\n",
      "        [   30,   198,    12, 39152],\n",
      "        [   12, 39152,  2569,    13],\n",
      "        [ 2569,    13,   198,   198],\n",
      "        [  198,   198, 16973,   534],\n",
      "        [16973,   534,  7002,  6792]])\n",
      "\n",
      "Targets:\n",
      " tensor([[ 1738,   329,   534,  3187],\n",
      "        [  534,  3187,    30,   198],\n",
      "        [   30,   198,    12, 39152],\n",
      "        [   12, 39152,  2569,    13],\n",
      "        [ 2569,    13,   198,   198],\n",
      "        [  198,   198, 16973,   534],\n",
      "        [16973,   534,  7002,  6792],\n",
      "        [ 7002,  6792,   198,  9503]])\n"
     ]
    }
   ],
   "source": [
    "dataloader = create_dataloader_v1(raw_text, batch_size=8, max_length=4, stride=2, shuffle=False)\n",
    "\n",
    "data_iter = iter(dataloader)\n",
    "inputs, targets = next(data_iter)\n",
    "print(\"Inputs:\\n\", inputs)\n",
    "print(\"\\nTargets:\\n\", targets)"
   ]
  },
  {
   "cell_type": "code",
   "execution_count": 165,
   "id": "2b4f958f-5329-4a26-9853-f1080d2c5e12",
   "metadata": {},
   "outputs": [],
   "source": [
    "input_ids = torch.tensor([2, 3, 5, 1])"
   ]
  },
  {
   "cell_type": "code",
   "execution_count": 166,
   "id": "f440bd9b-49b0-442d-a24b-d0fc62aafc59",
   "metadata": {},
   "outputs": [],
   "source": [
    "vocab_size = 6\n",
    "output_dim = 3\n",
    "\n",
    "torch.manual_seed(123)\n",
    "embedding_layer = torch.nn.Embedding(vocab_size, output_dim)"
   ]
  },
  {
   "cell_type": "code",
   "execution_count": 167,
   "id": "652c97e8-fe2d-4590-a796-ca17c91d06ff",
   "metadata": {},
   "outputs": [
    {
     "name": "stdout",
     "output_type": "stream",
     "text": [
      "Parameter containing:\n",
      "tensor([[ 0.3374, -0.1778, -0.1690],\n",
      "        [ 0.9178,  1.5810,  1.3010],\n",
      "        [ 1.2753, -0.2010, -0.1606],\n",
      "        [-0.4015,  0.9666, -1.1481],\n",
      "        [-1.1589,  0.3255, -0.6315],\n",
      "        [-2.8400, -0.7849, -1.4096]], requires_grad=True)\n"
     ]
    }
   ],
   "source": [
    "print(embedding_layer.weight)"
   ]
  },
  {
   "cell_type": "code",
   "execution_count": 168,
   "id": "9db42e70-4e78-45f4-b122-a1e62501142c",
   "metadata": {},
   "outputs": [
    {
     "name": "stdout",
     "output_type": "stream",
     "text": [
      "tensor([[-0.4015,  0.9666, -1.1481]], grad_fn=<EmbeddingBackward0>)\n"
     ]
    }
   ],
   "source": [
    "print(embedding_layer(torch.tensor([3])))"
   ]
  },
  {
   "cell_type": "code",
   "execution_count": 169,
   "id": "042abef8-bdc9-4402-a610-7ba70285b619",
   "metadata": {},
   "outputs": [
    {
     "name": "stdout",
     "output_type": "stream",
     "text": [
      "tensor([[ 1.2753, -0.2010, -0.1606],\n",
      "        [-0.4015,  0.9666, -1.1481],\n",
      "        [-2.8400, -0.7849, -1.4096],\n",
      "        [ 0.9178,  1.5810,  1.3010]], grad_fn=<EmbeddingBackward0>)\n"
     ]
    }
   ],
   "source": [
    "print(embedding_layer(input_ids))"
   ]
  },
  {
   "cell_type": "code",
   "execution_count": 170,
   "id": "9c415676-cc8b-4dce-862d-645cbdd509f0",
   "metadata": {},
   "outputs": [],
   "source": [
    "vocab_size = 50257\n",
    "output_dim = 256\n",
    "\n",
    "token_embedding_layer = torch.nn.Embedding(vocab_size, output_dim)"
   ]
  },
  {
   "cell_type": "code",
   "execution_count": 171,
   "id": "97993388-2075-4650-ad34-8ecc9d5db373",
   "metadata": {},
   "outputs": [],
   "source": [
    "max_length = 4\n",
    "dataloader = create_dataloader_v1(\n",
    "    raw_text, batch_size=8, max_length=max_length,\n",
    "    stride=max_length, shuffle=False\n",
    ")\n",
    "data_iter = iter(dataloader)\n",
    "inputs, targets = next(data_iter)"
   ]
  },
  {
   "cell_type": "code",
   "execution_count": 172,
   "id": "e8bdd3ad-258a-4953-b7ab-f48e0060fcea",
   "metadata": {},
   "outputs": [
    {
     "name": "stdout",
     "output_type": "stream",
     "text": [
      "Token IDs:\n",
      " tensor([[   12,   464,  1738,   329],\n",
      "        [  534,  3187,    30,   198],\n",
      "        [   12, 39152,  2569,    13],\n",
      "        [  198,   198, 16973,   534],\n",
      "        [ 7002,  6792,   198,  9503],\n",
      "        [ 4066,  5972,   283,    30],\n",
      "        [  198,   198, 26796, 14997],\n",
      "        [  656, 10596,  9151,    13]])\n",
      "\n",
      "Inputs shape:\n",
      " torch.Size([8, 4])\n"
     ]
    }
   ],
   "source": [
    "print(\"Token IDs:\\n\", inputs)\n",
    "print(\"\\nInputs shape:\\n\", inputs.shape)"
   ]
  },
  {
   "cell_type": "code",
   "execution_count": 173,
   "id": "9dfec4e6-3bde-482a-9960-88d3d445c3f9",
   "metadata": {},
   "outputs": [
    {
     "name": "stdout",
     "output_type": "stream",
     "text": [
      "torch.Size([8, 4, 256])\n"
     ]
    }
   ],
   "source": [
    "token_embeddings = token_embedding_layer(inputs)\n",
    "print(token_embeddings.shape)"
   ]
  },
  {
   "cell_type": "code",
   "execution_count": 174,
   "id": "92c723e9-6f96-45e6-b241-1f2379842ad2",
   "metadata": {},
   "outputs": [],
   "source": [
    "context_length = max_length\n",
    "pos_embedding_layer = torch.nn.Embedding(context_length, output_dim)"
   ]
  },
  {
   "cell_type": "code",
   "execution_count": 175,
   "id": "2d1eb670-682d-4714-8efa-397f49142db1",
   "metadata": {},
   "outputs": [
    {
     "name": "stdout",
     "output_type": "stream",
     "text": [
      "torch.Size([4, 256])\n"
     ]
    }
   ],
   "source": [
    "pos_embeddings = pos_embedding_layer(torch.arange(max_length))\n",
    "print(pos_embeddings.shape)"
   ]
  },
  {
   "cell_type": "code",
   "execution_count": 176,
   "id": "92b97949-85e3-4bca-9d3c-1498b392d098",
   "metadata": {},
   "outputs": [
    {
     "name": "stdout",
     "output_type": "stream",
     "text": [
      "torch.Size([8, 4, 256])\n"
     ]
    }
   ],
   "source": [
    "input_embeddings = token_embeddings + pos_embeddings\n",
    "print(input_embeddings.shape)"
   ]
  },
  {
   "cell_type": "code",
   "execution_count": null,
   "id": "7c3db0b9-1fd4-40da-95d9-47536b9ee6ae",
   "metadata": {},
   "outputs": [],
   "source": []
  }
 ],
 "metadata": {
  "kernelspec": {
   "display_name": "Python 3 (ipykernel)",
   "language": "python",
   "name": "python3"
  },
  "language_info": {
   "codemirror_mode": {
    "name": "ipython",
    "version": 3
   },
   "file_extension": ".py",
   "mimetype": "text/x-python",
   "name": "python",
   "nbconvert_exporter": "python",
   "pygments_lexer": "ipython3",
   "version": "3.10.11"
  }
 },
 "nbformat": 4,
 "nbformat_minor": 5
}
