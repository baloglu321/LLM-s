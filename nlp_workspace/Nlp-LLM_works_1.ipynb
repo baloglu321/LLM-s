{
 "cells": [
  {
   "cell_type": "code",
   "execution_count": 3,
   "id": "b43d7ace-693e-493c-b762-795635394e8b",
   "metadata": {},
   "outputs": [],
   "source": [
    "from transformers import pipeline\n",
    "# video url :https://youtu.be/tiZFewofSLM"
   ]
  },
  {
   "cell_type": "markdown",
   "id": "a9ebe281-6082-4f3a-923f-6548aeb1f137",
   "metadata": {},
   "source": [
    "## Text Classification"
   ]
  },
  {
   "cell_type": "code",
   "execution_count": 18,
   "id": "942a1adb-d4b4-46d4-9e6e-6e42ad71b853",
   "metadata": {},
   "outputs": [
    {
     "name": "stderr",
     "output_type": "stream",
     "text": [
      "No model was supplied, defaulted to distilbert/distilbert-base-uncased-finetuned-sst-2-english and revision 714eb0f (https://huggingface.co/distilbert/distilbert-base-uncased-finetuned-sst-2-english).\n",
      "Using a pipeline without specifying a model name and revision in production is not recommended.\n",
      "Device set to use cuda:0\n"
     ]
    },
    {
     "data": {
      "text/plain": [
       "[{'label': 'POSITIVE', 'score': 0.9516069889068604}]"
      ]
     },
     "execution_count": 18,
     "metadata": {},
     "output_type": "execute_result"
    }
   ],
   "source": [
    "classifier =pipeline(\"sentiment-analysis\",token=\"Your_key_is_here\")\n",
    "classifier(\"I've been waiting for a Huggingface course my whole life \")\n"
   ]
  },
  {
   "cell_type": "code",
   "execution_count": 8,
   "id": "31f8264e-ecad-489a-ab6a-9e8cf3f1636c",
   "metadata": {},
   "outputs": [
    {
     "data": {
      "text/plain": [
       "[{'label': 'POSITIVE', 'score': 0.9433629512786865}]"
      ]
     },
     "execution_count": 8,
     "metadata": {},
     "output_type": "execute_result"
    }
   ],
   "source": [
    "classifier(\"I have been waiting for a HuggingFace course my whole life. \")"
   ]
  },
  {
   "cell_type": "code",
   "execution_count": 9,
   "id": "496a020a-a552-45d6-a18f-b1669bcd25c0",
   "metadata": {},
   "outputs": [
    {
     "data": {
      "text/plain": [
       "[{'label': 'POSITIVE', 'score': 0.999883770942688},\n",
       " {'label': 'NEGATIVE', 'score': 0.9996662139892578}]"
      ]
     },
     "execution_count": 9,
     "metadata": {},
     "output_type": "execute_result"
    }
   ],
   "source": [
    "classifier([\"I love this course\",\"I hate this course\"])"
   ]
  },
  {
   "cell_type": "code",
   "execution_count": 17,
   "id": "ee29ad0a-f342-4cd6-a46c-f839c757e067",
   "metadata": {},
   "outputs": [
    {
     "data": {
      "text/plain": [
       "[{'label': 'NEGATIVE', 'score': 0.7754141092300415}]"
      ]
     },
     "execution_count": 17,
     "metadata": {},
     "output_type": "execute_result"
    }
   ],
   "source": [
    "classifier(\"Türkçe bilmemen ayıptır\")"
   ]
  },
  {
   "cell_type": "code",
   "execution_count": 14,
   "id": "d7f57e45-5e26-4664-b657-b9ccdf501806",
   "metadata": {},
   "outputs": [
    {
     "data": {
      "text/plain": [
       "[{'label': 'NEGATIVE', 'score': 0.9207146167755127},\n",
       " {'label': 'NEGATIVE', 'score': 0.8484910130500793}]"
      ]
     },
     "execution_count": 14,
     "metadata": {},
     "output_type": "execute_result"
    }
   ],
   "source": [
    "classifier([\"Bu işten nefret etmeye çok uzağım\", \"Bu işten nefret etmemeye daha yakınım\"])"
   ]
  },
  {
   "cell_type": "code",
   "execution_count": 12,
   "id": "951f2c7c-a13d-4612-8b09-55047499da97",
   "metadata": {},
   "outputs": [
    {
     "data": {
      "text/plain": [
       "[{'label': 'POSITIVE', 'score': 0.9745785593986511}]"
      ]
     },
     "execution_count": 12,
     "metadata": {},
     "output_type": "execute_result"
    }
   ],
   "source": [
    "classifier(\"I'm closer to not hating this job\")"
   ]
  },
  {
   "cell_type": "markdown",
   "id": "ee41c537-c200-4b18-a22c-e186a7b80488",
   "metadata": {},
   "source": [
    "## Zero-Shot Classification "
   ]
  },
  {
   "cell_type": "code",
   "execution_count": 20,
   "id": "aaab8b48-4b1e-4376-a76c-a633152b9d90",
   "metadata": {},
   "outputs": [
    {
     "name": "stderr",
     "output_type": "stream",
     "text": [
      "No model was supplied, defaulted to facebook/bart-large-mnli and revision d7645e1 (https://huggingface.co/facebook/bart-large-mnli).\n",
      "Using a pipeline without specifying a model name and revision in production is not recommended.\n",
      "Device set to use cuda:0\n"
     ]
    }
   ],
   "source": [
    "classifier_zero =pipeline(\"zero-shot-classification\",token=\"Your_key_is_here\")"
   ]
  },
  {
   "cell_type": "code",
   "execution_count": 22,
   "id": "683ecafe-9814-4bf6-bd64-ba35942d6418",
   "metadata": {},
   "outputs": [
    {
     "data": {
      "text/plain": [
       "{'sequence': 'This is a course about the transformers library.',\n",
       " 'labels': ['education', 'business', 'politics'],\n",
       " 'scores': [0.9053576588630676, 0.07259669154882431, 0.02204565331339836]}"
      ]
     },
     "execution_count": 22,
     "metadata": {},
     "output_type": "execute_result"
    }
   ],
   "source": [
    "classifier_zero(\"This is a course about the transformers library.\", candidate_labels=[\"education\",\"politics\",\"business\"])"
   ]
  },
  {
   "cell_type": "code",
   "execution_count": 24,
   "id": "c06eda1d-c048-4493-87f1-2c2b67fae3aa",
   "metadata": {},
   "outputs": [
    {
     "data": {
      "text/plain": [
       "{'sequence': 'Bu, transformatörler kütüphanesi hakkında bir kurstur.',\n",
       " 'labels': ['business', 'education', 'politics'],\n",
       " 'scores': [0.5098206400871277, 0.3533787727355957, 0.13680067658424377]}"
      ]
     },
     "execution_count": 24,
     "metadata": {},
     "output_type": "execute_result"
    }
   ],
   "source": [
    "classifier_zero(\"Bu, transformatörler kütüphanesi hakkında bir kurstur.\", candidate_labels=[\"education\",\"politics\",\"business\"])"
   ]
  },
  {
   "cell_type": "markdown",
   "id": "c340c85e-c6ec-4dd3-a272-90a5b652ee03",
   "metadata": {},
   "source": [
    "## Text Generation"
   ]
  },
  {
   "cell_type": "code",
   "execution_count": 27,
   "id": "310343e8-2969-4ce4-bdcc-22990a421637",
   "metadata": {},
   "outputs": [
    {
     "name": "stderr",
     "output_type": "stream",
     "text": [
      "No model was supplied, defaulted to openai-community/gpt2 and revision 607a30d (https://huggingface.co/openai-community/gpt2).\n",
      "Using a pipeline without specifying a model name and revision in production is not recommended.\n",
      "Device set to use cuda:0\n"
     ]
    }
   ],
   "source": [
    "generator=pipeline(\"text-generation\",token=\"Your_key_is_here\")\n"
   ]
  },
  {
   "cell_type": "code",
   "execution_count": 28,
   "id": "05fcba7f-127c-45a3-bb41-cd5b87c277a9",
   "metadata": {},
   "outputs": [
    {
     "name": "stderr",
     "output_type": "stream",
     "text": [
      "Setting `pad_token_id` to `eos_token_id`:50256 for open-end generation.\n"
     ]
    },
    {
     "data": {
      "text/plain": [
       "[{'generated_text': 'In this course , we will teach you how to build your own mobile application from the ground up using Android Studio.\\n\\nHere is what we will do:\\n\\nDownload the project and run it with your android emulator. Connect the app to your'}]"
      ]
     },
     "execution_count": 28,
     "metadata": {},
     "output_type": "execute_result"
    }
   ],
   "source": [
    "generator(\"In this course , we will teach you how to\")"
   ]
  },
  {
   "cell_type": "code",
   "execution_count": 33,
   "id": "6fd9a3e4-ba60-4c2c-89ea-f29232024c70",
   "metadata": {},
   "outputs": [
    {
     "name": "stderr",
     "output_type": "stream",
     "text": [
      "Setting `pad_token_id` to `eos_token_id`:50256 for open-end generation.\n"
     ]
    },
    {
     "data": {
      "text/plain": [
       "[{'generated_text': 'In this course , we will teach you how to add the first layer of logic to your JavaScript file so you know all its complexities and the basics of'},\n",
       " {'generated_text': \"In this course , we will teach you how to make beautiful shapes for your children to work on. We can't do simple shapes in Photoshop. Using\"}]"
      ]
     },
     "execution_count": 33,
     "metadata": {},
     "output_type": "execute_result"
    }
   ],
   "source": [
    "generator(\"In this course , we will teach you how to\",\n",
    "         max_length=30,\n",
    "         num_return_sequences=2,)"
   ]
  },
  {
   "cell_type": "code",
   "execution_count": 35,
   "id": "2182bc9e-cf5d-4797-bee6-64b5da414735",
   "metadata": {},
   "outputs": [
    {
     "name": "stderr",
     "output_type": "stream",
     "text": [
      "Setting `pad_token_id` to `eos_token_id`:50256 for open-end generation.\n"
     ]
    },
    {
     "data": {
      "text/plain": [
       "[{'generated_text': 'Bu kursta sizlere état, pues können gefällt im fierke.\\n\\n'},\n",
       " {'generated_text': 'Bu kursta sizlere ike oi al manen nämte meinen Kontrolla a nätig'}]"
      ]
     },
     "execution_count": 35,
     "metadata": {},
     "output_type": "execute_result"
    }
   ],
   "source": [
    "generator(\"Bu kursta sizlere \",\n",
    "         max_length=30,\n",
    "         num_return_sequences=2,)\n",
    "#Gpt 2 de Türkçe desteği yok. Verirsek nolur ? :)"
   ]
  },
  {
   "cell_type": "markdown",
   "id": "8cc7df18-32d4-497a-acd3-b4e5e32c7ea2",
   "metadata": {},
   "source": [
    "## Text Completion (mask filling)"
   ]
  },
  {
   "cell_type": "code",
   "execution_count": 37,
   "id": "871c37e3-eb49-4a19-855a-454c6b5bfd27",
   "metadata": {},
   "outputs": [
    {
     "name": "stderr",
     "output_type": "stream",
     "text": [
      "No model was supplied, defaulted to distilbert/distilroberta-base and revision fb53ab8 (https://huggingface.co/distilbert/distilroberta-base).\n",
      "Using a pipeline without specifying a model name and revision in production is not recommended.\n",
      "Some weights of the model checkpoint at distilbert/distilroberta-base were not used when initializing RobertaForMaskedLM: ['roberta.pooler.dense.bias', 'roberta.pooler.dense.weight']\n",
      "- This IS expected if you are initializing RobertaForMaskedLM from the checkpoint of a model trained on another task or with another architecture (e.g. initializing a BertForSequenceClassification model from a BertForPreTraining model).\n",
      "- This IS NOT expected if you are initializing RobertaForMaskedLM from the checkpoint of a model that you expect to be exactly identical (initializing a BertForSequenceClassification model from a BertForSequenceClassification model).\n",
      "Device set to use cuda:0\n"
     ]
    }
   ],
   "source": [
    "unmasker=pipeline(\"fill-mask\", token=\"Your_key_is_here\")"
   ]
  },
  {
   "cell_type": "code",
   "execution_count": 38,
   "id": "822c1ad3-8a66-4d2f-94d5-c33a0a401c41",
   "metadata": {},
   "outputs": [
    {
     "data": {
      "text/plain": [
       "[{'score': 0.1963164508342743,\n",
       "  'token': 30412,\n",
       "  'token_str': ' mathematical',\n",
       "  'sequence': 'This course will teach you all about mathematical models'},\n",
       " {'score': 0.044492363929748535,\n",
       "  'token': 745,\n",
       "  'token_str': ' building',\n",
       "  'sequence': 'This course will teach you all about building models'}]"
      ]
     },
     "execution_count": 38,
     "metadata": {},
     "output_type": "execute_result"
    }
   ],
   "source": [
    "unmasker(\"This course will teach you all about <mask> models\", top_k=2)"
   ]
  },
  {
   "cell_type": "code",
   "execution_count": 39,
   "id": "29a6f171-ac12-4baa-a14f-1cdea669e22d",
   "metadata": {},
   "outputs": [
    {
     "data": {
      "text/plain": [
       "[{'score': 0.5093746185302734,\n",
       "  'token': 23629,\n",
       "  'token_str': ' bir',\n",
       "  'sequence': 'Bu kursta modellerin bir altyapısı hakkında bilgiler verilir.'},\n",
       " {'score': 0.08504705876111984,\n",
       "  'token': 10031,\n",
       "  'token_str': 'ı',\n",
       "  'sequence': 'Bu kursta modellerinı altyapısı hakkında bilgiler verilir.'}]"
      ]
     },
     "execution_count": 39,
     "metadata": {},
     "output_type": "execute_result"
    }
   ],
   "source": [
    "unmasker(\"Bu kursta modellerin <mask> altyapısı hakkında bilgiler verilir.\",top_k=2)"
   ]
  },
  {
   "cell_type": "code",
   "execution_count": 63,
   "id": "ebea97d1-585f-4171-b9a8-65960a382bf4",
   "metadata": {},
   "outputs": [
    {
     "name": "stdout",
     "output_type": "stream",
     "text": [
      "[' translator', ' consultant', ' bartender', ' waiter', ' courier']\n",
      "[' waitress', ' translator', ' nurse', ' bartender', ' consultant']\n"
     ]
    }
   ],
   "source": [
    "result = unmasker(\"This man works as a <mask>.\")\n",
    "print([r[\"token_str\"] for r in result])\n",
    "\n",
    "result = unmasker(\"This woman works as a <mask>.\")\n",
    "print([r[\"token_str\"] for r in result])"
   ]
  },
  {
   "cell_type": "markdown",
   "id": "1e1fca7e-9555-49c0-98e9-eef1335b1057",
   "metadata": {},
   "source": [
    "## Token Classificaiton"
   ]
  },
  {
   "cell_type": "code",
   "execution_count": 41,
   "id": "5a36fa34-0b8c-446a-936b-fc72a55757d9",
   "metadata": {},
   "outputs": [
    {
     "name": "stderr",
     "output_type": "stream",
     "text": [
      "No model was supplied, defaulted to dbmdz/bert-large-cased-finetuned-conll03-english and revision 4c53496 (https://huggingface.co/dbmdz/bert-large-cased-finetuned-conll03-english).\n",
      "Using a pipeline without specifying a model name and revision in production is not recommended.\n",
      "Some weights of the model checkpoint at dbmdz/bert-large-cased-finetuned-conll03-english were not used when initializing BertForTokenClassification: ['bert.pooler.dense.bias', 'bert.pooler.dense.weight']\n",
      "- This IS expected if you are initializing BertForTokenClassification from the checkpoint of a model trained on another task or with another architecture (e.g. initializing a BertForSequenceClassification model from a BertForPreTraining model).\n",
      "- This IS NOT expected if you are initializing BertForTokenClassification from the checkpoint of a model that you expect to be exactly identical (initializing a BertForSequenceClassification model from a BertForSequenceClassification model).\n",
      "Device set to use cuda:0\n"
     ]
    }
   ],
   "source": [
    "ner=pipeline(\"ner\",token=\"Your_key_is_here\", grouped_entities=True)"
   ]
  },
  {
   "cell_type": "code",
   "execution_count": 43,
   "id": "89ef894b-3057-4ae1-93ad-69d072978df2",
   "metadata": {},
   "outputs": [
    {
     "data": {
      "text/plain": [
       "[{'entity_group': 'PER',\n",
       "  'score': 0.99862725,\n",
       "  'word': 'Sylvain',\n",
       "  'start': 11,\n",
       "  'end': 18},\n",
       " {'entity_group': 'ORG',\n",
       "  'score': 0.996554,\n",
       "  'word': 'HuggingFace',\n",
       "  'start': 33,\n",
       "  'end': 44},\n",
       " {'entity_group': 'LOC',\n",
       "  'score': 0.9892874,\n",
       "  'word': 'Brooklyn',\n",
       "  'start': 48,\n",
       "  'end': 56}]"
      ]
     },
     "execution_count": 43,
     "metadata": {},
     "output_type": "execute_result"
    }
   ],
   "source": [
    "ner(\"My name is Sylvain and I work at HuggingFace in Brooklyn\")"
   ]
  },
  {
   "cell_type": "code",
   "execution_count": 44,
   "id": "308365a2-cb17-4aa8-96f1-ce17d66134c3",
   "metadata": {},
   "outputs": [
    {
     "data": {
      "text/plain": [
       "[{'entity_group': 'PER',\n",
       "  'score': 0.99839395,\n",
       "  'word': 'Mehmet',\n",
       "  'start': 11,\n",
       "  'end': 17},\n",
       " {'entity_group': 'ORG',\n",
       "  'score': 0.94241,\n",
       "  'word': 'THY',\n",
       "  'start': 32,\n",
       "  'end': 35},\n",
       " {'entity_group': 'LOC',\n",
       "  'score': 0.9991248,\n",
       "  'word': 'Istanbul',\n",
       "  'start': 39,\n",
       "  'end': 47}]"
      ]
     },
     "execution_count": 44,
     "metadata": {},
     "output_type": "execute_result"
    }
   ],
   "source": [
    "ner(\"My name is Mehmet and I work at THY in Istanbul\")"
   ]
  },
  {
   "cell_type": "markdown",
   "id": "00ec445c-0162-4b1b-bb1c-42fb4b007699",
   "metadata": {},
   "source": [
    "## Question Answering"
   ]
  },
  {
   "cell_type": "code",
   "execution_count": 46,
   "id": "097dffde-093d-4316-b337-5b9267c8ac51",
   "metadata": {},
   "outputs": [
    {
     "name": "stderr",
     "output_type": "stream",
     "text": [
      "No model was supplied, defaulted to distilbert/distilbert-base-cased-distilled-squad and revision 564e9b5 (https://huggingface.co/distilbert/distilbert-base-cased-distilled-squad).\n",
      "Using a pipeline without specifying a model name and revision in production is not recommended.\n",
      "Device set to use cuda:0\n"
     ]
    }
   ],
   "source": [
    "que_ans=pipeline(\"question-answering\",token=\"Your_key_is_here\")"
   ]
  },
  {
   "cell_type": "code",
   "execution_count": 47,
   "id": "7fee5b66-7949-4858-b3bd-e0e19dae0245",
   "metadata": {},
   "outputs": [
    {
     "data": {
      "text/plain": [
       "{'score': 0.8346511721611023, 'start': 33, 'end': 44, 'answer': 'HuggingFace'}"
      ]
     },
     "execution_count": 47,
     "metadata": {},
     "output_type": "execute_result"
    }
   ],
   "source": [
    "que_ans(question=\"Where do I work?\",\n",
    "       context=\"My name is Sylvain and I work at HuggingFace in Brooklyn\")"
   ]
  },
  {
   "cell_type": "code",
   "execution_count": 49,
   "id": "99b9a643-4f2d-4c39-bf16-476c06916ccb",
   "metadata": {},
   "outputs": [
    {
     "data": {
      "text/plain": [
       "{'score': 0.9857924580574036, 'start': 62, 'end': 68, 'answer': 'Ankara'}"
      ]
     },
     "execution_count": 49,
     "metadata": {},
     "output_type": "execute_result"
    }
   ],
   "source": [
    "que_ans(question=\"Where do I live?\",\n",
    "       context=\"My name is Mehmet and I work at THY in Istanbul and I live in Ankara\")"
   ]
  },
  {
   "cell_type": "markdown",
   "id": "eb34c27a-02d8-4036-83b1-c26e60ffccf2",
   "metadata": {},
   "source": [
    "## Summarization"
   ]
  },
  {
   "cell_type": "code",
   "execution_count": 51,
   "id": "def08b0a-55d0-401c-921e-a0812f3975bb",
   "metadata": {},
   "outputs": [
    {
     "name": "stderr",
     "output_type": "stream",
     "text": [
      "No model was supplied, defaulted to sshleifer/distilbart-cnn-12-6 and revision a4f8f3e (https://huggingface.co/sshleifer/distilbart-cnn-12-6).\n",
      "Using a pipeline without specifying a model name and revision in production is not recommended.\n",
      "Device set to use cuda:0\n"
     ]
    }
   ],
   "source": [
    "summarizer=pipeline(\"summarization\",token=\"Your_key_is_here\")"
   ]
  },
  {
   "cell_type": "code",
   "execution_count": 53,
   "id": "4e55e295-d9ce-4bb0-bbd7-c876e7eaf440",
   "metadata": {},
   "outputs": [
    {
     "data": {
      "text/plain": [
       "[{'summary_text': ' Artificial Intelligence has the potential to revolutionize the healthcare industry by improving diagnostic accuracy, personalizing treatment plans, and optimizing operational efficiencies . One of the most significant advantages of AI in healthcare is its ability to analyze large amounts of medical data quickly and accurately . AI systems can help doctors identify patterns and predict outcomes, leading to earlier diagnoses and more effective treatments .'}]"
      ]
     },
     "execution_count": 53,
     "metadata": {},
     "output_type": "execute_result"
    }
   ],
   "source": [
    "summarizer(\"\"\"The Importance of Artificial Intelligence in Healthcare\n",
    "\n",
    "Artificial Intelligence (AI) has the potential to revolutionize the healthcare industry by improving diagnostic accuracy, personalizing treatment plans, and optimizing operational efficiencies. One of the most significant advantages of AI in healthcare is its ability to analyze large amounts of medical data quickly and accurately. AI systems can help doctors identify patterns and predict outcomes, leading to earlier diagnoses and more effective treatments.\n",
    "\n",
    "AI-powered technologies such as machine learning algorithms and natural language processing are already being used in medical imaging, where they can analyze X-rays, MRIs, and CT scans with high precision. These tools can detect abnormalities like tumors or fractures that might be missed by the human eye. Additionally, AI is being integrated into clinical decision support systems, which assist doctors in making treatment decisions based on the latest research and patient data.\n",
    "\n",
    "In drug development, AI is streamlining the process by predicting which compounds might be effective in treating specific diseases, thus reducing the time and cost associated with clinical trials. Moreover, AI-powered chatbots are being used to improve patient engagement, provide information, and help manage appointments, leading to more efficient healthcare services.\"\"\")"
   ]
  },
  {
   "cell_type": "code",
   "execution_count": 54,
   "id": "5084ab69-55bb-41c1-a89f-21c39fdf22ab",
   "metadata": {},
   "outputs": [
    {
     "data": {
      "text/plain": [
       "[{'summary_text': ' Yapay Zekanın sağlık alanındaki en önemli faydalarından biri, büyük miktarda tıbbi veriyi hızlı ve doğru bir şekilde analiz etme yeteneğidir . YZ sistemleri, doktorların hastalıkları erken teşhis etmelerini . Yine, YZ destekli sohbet botları, hasta katılımını artırmak .'}]"
      ]
     },
     "execution_count": 54,
     "metadata": {},
     "output_type": "execute_result"
    }
   ],
   "source": [
    "summarizer(\"\"\"Yapay Zekanın Sağlık Alanındaki Önemi\n",
    "\n",
    "Yapay zeka (YZ), sağlık sektörünü devrim niteliğinde değiştirme potansiyeline sahip bir teknoloji olup, tanı doğruluğunu artırmak, tedavi planlarını kişiselleştirmek ve operasyonel verimliliği optimize etmek gibi önemli avantajlar sunmaktadır. Yapay zekanın sağlık alanındaki en önemli faydalarından biri, büyük miktarda tıbbi veriyi hızlı ve doğru bir şekilde analiz etme yeteneğidir. YZ sistemleri, doktorların hastalıkları erken teşhis etmelerini ve daha etkili tedavi yöntemleri geliştirmelerini sağlayan desenler ve sonuçlar tahmin edebilir.\n",
    "\n",
    "YZ tabanlı teknolojiler, tıbbi görüntüleme alanında da kullanılarak, röntgen, MR ve CT taramaları gibi görsellerin yüksek doğrulukla analiz edilmesini sağlamaktadır. Bu araçlar, insan gözünün gözden kaçırabileceği anormallikleri, örneğin tümörleri veya kırıkları tespit edebilir. Ayrıca, klinik karar destek sistemlerinde de yer alarak, doktorlara en güncel araştırmalar ve hasta verilerine dayalı tedavi kararları almalarında yardımcı olmaktadır.\n",
    "\n",
    "İlaç geliştirme süreçlerinde ise, YZ, hangi bileşiklerin belirli hastalıkları tedavi etme konusunda etkili olabileceğini tahmin ederek, klinik denemelerin zamanını ve maliyetini azaltmaktadır. Yine, YZ destekli sohbet botları, hasta katılımını artırmak, bilgi sağlamak ve randevu yönetimi gibi işlemleri daha verimli hale getirmektedir.\n",
    "\n",
    "Ancak, yapay zekanın sağlık sistemine entegrasyonu konusunda etik sorunlar, veri gizliliği ve insan denetimi gerekliliği gibi bazı zorluklar da bulunmaktadır.\"\"\")"
   ]
  },
  {
   "cell_type": "markdown",
   "id": "c200623b-8c3d-4483-8754-f22dd2ff9bfc",
   "metadata": {},
   "source": [
    "## Translation"
   ]
  },
  {
   "cell_type": "code",
   "execution_count": 57,
   "id": "6f129efa-922a-4369-bcad-bd3f58d3c149",
   "metadata": {},
   "outputs": [
    {
     "name": "stderr",
     "output_type": "stream",
     "text": [
      "Device set to use cuda:0\n"
     ]
    }
   ],
   "source": [
    "translator=pipeline(\"translation\",model=\"Helsinki-NLP/opus-mt-fr-en\",token=\"Your_key_is_here\")"
   ]
  },
  {
   "cell_type": "code",
   "execution_count": 58,
   "id": "47443f6f-4de4-446a-baa1-fd1612a690b1",
   "metadata": {},
   "outputs": [
    {
     "data": {
      "text/plain": [
       "[{'translation_text': 'Artificial intelligence technology is rapidly transforming many sectors, including health, by improving efficiency and personalizing care'}]"
      ]
     },
     "execution_count": 58,
     "metadata": {},
     "output_type": "execute_result"
    }
   ],
   "source": [
    "translator(\"La technologie de l'intelligence artificielle transforme rapidement de nombreux secteurs, y compris la santé, en améliorant l'efficacité et en personnalisant les soins\")"
   ]
  },
  {
   "cell_type": "code",
   "execution_count": 60,
   "id": "e02244ad-a4a4-4f6e-ac26-55efe3165e23",
   "metadata": {},
   "outputs": [
    {
     "name": "stderr",
     "output_type": "stream",
     "text": [
      "Device set to use cuda:0\n"
     ]
    }
   ],
   "source": [
    "translator_tr=pipeline(\"translation\",model=\"Helsinki-NLP/opus-tatoeba-en-tr\",token=\"Your_key_is_here\")\n"
   ]
  },
  {
   "cell_type": "code",
   "execution_count": 61,
   "id": "c2e0d42d-1c29-4aad-928b-dd5b1d4384ed",
   "metadata": {},
   "outputs": [
    {
     "data": {
      "text/plain": [
       "[{'translation_text': 'Yapay zeka teknolojisi, verimliliği artırarak ve bakımı kişiselleştirerek sağlık da dahil olmak üzere birçok sektörü hızla dönüştürmektedir.'}]"
      ]
     },
     "execution_count": 61,
     "metadata": {},
     "output_type": "execute_result"
    }
   ],
   "source": [
    "translator_tr(\"Artificial intelligence technology is rapidly transforming many sectors, including health, by improving efficiency and personalizing care\")"
   ]
  },
  {
   "cell_type": "code",
   "execution_count": null,
   "id": "b3451e85-7b24-49c6-8fad-1cb44d84ae27",
   "metadata": {},
   "outputs": [],
   "source": []
  }
 ],
 "metadata": {
  "kernelspec": {
   "display_name": "Python 3 (ipykernel)",
   "language": "python",
   "name": "python3"
  },
  "language_info": {
   "codemirror_mode": {
    "name": "ipython",
    "version": 3
   },
   "file_extension": ".py",
   "mimetype": "text/x-python",
   "name": "python",
   "nbconvert_exporter": "python",
   "pygments_lexer": "ipython3",
   "version": "3.10.11"
  }
 },
 "nbformat": 4,
 "nbformat_minor": 5
}
